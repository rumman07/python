{
 "cells": [
  {
   "cell_type": "code",
   "execution_count": 10,
   "metadata": {
    "tags": []
   },
   "outputs": [
    {
     "output_type": "stream",
     "name": "stdout",
     "text": "Congrats to Humba, for being the employee of the month, working a total of 400 hours.\n"
    }
   ],
   "source": [
    "# Write a function to to show employee of the month based on hours worked\n",
    "hours_worked = [(\"Sam\",100),(\"Jaba\",20),(\"Humba\",400)]\n",
    "def employee_of_the_month(hours_worked):\n",
    "    # placeholder variables\n",
    "    current_max = 0\n",
    "    employee_of_the_month = \"\"\n",
    "    for employee,hours in hours_worked:\n",
    "        if current_max < hours:\n",
    "            current_max = hours\n",
    "            employee_of_the_month = employee\n",
    "        else:\n",
    "            pass\n",
    "\n",
    "    #Return a tuple\n",
    "    return (employee_of_the_month,current_max)\n",
    "\n",
    "e,h = employee_of_the_month(hours_worked)\n",
    "print(f'Congrats to {e}, for being the employee of the month, working a total of {h} hours.')"
   ]
  },
  {
   "cell_type": "code",
   "execution_count": 11,
   "metadata": {},
   "outputs": [
    {
     "output_type": "execute_result",
     "data": {
      "text/plain": "[5, 1, 3, 7, 6, 2, 4]"
     },
     "metadata": {},
     "execution_count": 11
    }
   ],
   "source": [
    "# How to shuffle list\n",
    "example = [1,2,3,4,5,6,7]\n",
    "from random import shuffle\n",
    "shuffle(example)\n",
    "example"
   ]
  },
  {
   "cell_type": "code",
   "execution_count": 25,
   "metadata": {},
   "outputs": [
    {
     "output_type": "execute_result",
     "data": {
      "text/plain": "[4, 2, 1, 7, 3, 6, 5]"
     },
     "metadata": {},
     "execution_count": 25
    }
   ],
   "source": [
    "# Many function calling each other and taking input from each other\n",
    "#Shuffling function \n",
    "def shuffle_list(mylist):\n",
    "    shuffle(mylist)\n",
    "    return mylist\n",
    "shuffle_list(example)"
   ]
  },
  {
   "cell_type": "code",
   "execution_count": 17,
   "metadata": {},
   "outputs": [
    {
     "output_type": "execute_result",
     "data": {
      "text/plain": "1"
     },
     "metadata": {},
     "execution_count": 17
    }
   ],
   "source": [
    "# Take input from the player to record the player's guess\n",
    "\n",
    "def player_guess():\n",
    "    #placeholder variable\n",
    "    guess = \"\"\n",
    "    \n",
    "    while guess not in [\"0\",\"1\",\"2\"]:\n",
    "       guess = input(\"Pick a number 0, 1, or 2: \")\n",
    "    #Returns an int as function output\n",
    "    return int(guess)\n",
    "\n",
    "my_index = player_guess()"
   ]
  },
  {
   "cell_type": "code",
   "execution_count": 19,
   "metadata": {},
   "outputs": [],
   "source": [
    "#Retrieve list value for my_index\n",
    "def check_guess(mylist,my_index):\n",
    "    if mylist[my_index] == \"O\":\n",
    "        print(\"Correct!\")\n",
    "    else:\n",
    "        print(\"Wrong Guess!\")\n",
    "        print(mylist)\n",
    "        "
   ]
  },
  {
   "cell_type": "code",
   "execution_count": 26,
   "metadata": {
    "tags": []
   },
   "outputs": [
    {
     "output_type": "stream",
     "name": "stdout",
     "text": "Wrong Guess!\n['O', '', '']\n"
    }
   ],
   "source": [
    "# Putting the program together \n",
    "#Initial list \n",
    "initial_list = [\"\",\"O\",\"\"]\n",
    "#Shuffled list\n",
    "mixed_up_list = shuffle_list(initial_list)\n",
    "#User Guess\n",
    "guess = player_guess()\n",
    "#Check Guess\n",
    "check_guess(mixed_up_list,guess)"
   ]
  },
  {
   "cell_type": "code",
   "execution_count": 30,
   "metadata": {},
   "outputs": [
    {
     "output_type": "execute_result",
     "data": {
      "text/plain": "[4, 8]"
     },
     "metadata": {},
     "execution_count": 30
    }
   ],
   "source": [
    "#Retrun a list of even numbers\n",
    "example2 = [4,5,67,8,9]\n",
    "def check_even_list(example):\n",
    "  #placeholder variable\n",
    "  even_list = []\n",
    "  for num in example:\n",
    "    if num % 2 == 0:\n",
    "        even_list.append(num)\n",
    "    else:\n",
    "        pass\n",
    "  return even_list\n",
    "check_even_list(example2)"
   ]
  },
  {
   "cell_type": "code",
   "execution_count": 3,
   "metadata": {},
   "outputs": [
    {
     "output_type": "execute_result",
     "data": {
      "text/plain": "'RuMmAn'"
     },
     "metadata": {},
     "execution_count": 3
    }
   ],
   "source": [
    "#Takes a string and returns a matching string where every even index position letter is upper case and every odd index position letter is lower case \n",
    "def myfunc(str):\n",
    "    f_str = []\n",
    "    for i in range(0,len(str)):\n",
    "        if i == 0:\n",
    "            f_str.append(str[i].upper())\n",
    "        elif i%2 == 0:\n",
    "            f_str.append(str[i].upper())\n",
    "        else:\n",
    "            f_str.append(str[i].lower())\n",
    "    # to convert a list to a string ''.join(mylist)        \n",
    "    return ''.join(f_str)\n",
    "myfunc(\"Rumman\")"
   ]
  },
  {
   "cell_type": "markdown",
   "metadata": {},
   "source": [
    "# *args and **kwargs"
   ]
  },
  {
   "cell_type": "code",
   "execution_count": 2,
   "metadata": {},
   "outputs": [
    {
     "output_type": "execute_result",
     "data": {
      "text/plain": "6.4"
     },
     "metadata": {},
     "execution_count": 2
    }
   ],
   "source": [
    "def sum_num_perct(*args):\n",
    "    return sum(args) * 0.10\n",
    "sum_num_perct(10,20,5,5,6,7,6,5)"
   ]
  },
  {
   "cell_type": "code",
   "execution_count": 6,
   "metadata": {
    "tags": []
   },
   "outputs": [
    {
     "output_type": "stream",
     "name": "stdout",
     "text": "{'food': 'nuts', 'drink': 'water'}\nItem:food value:nuts\nItem:drink value:water\n"
    }
   ],
   "source": [
    "def check_list(**kwargs):\n",
    "    print(kwargs)\n",
    "    for item,val in kwargs.items():\n",
    "      print(\"Item:{} value:{}\".format(item,val))\n",
    "check_list(food = \"nuts\", drink = \"water\")"
   ]
  },
  {
   "cell_type": "code",
   "execution_count": null,
   "metadata": {},
   "outputs": [],
   "source": []
  }
 ],
 "metadata": {
  "language_info": {
   "codemirror_mode": {
    "name": "ipython",
    "version": 3
   },
   "file_extension": ".py",
   "mimetype": "text/x-python",
   "name": "python",
   "nbconvert_exporter": "python",
   "pygments_lexer": "ipython3",
   "version": "3.8.3-final"
  },
  "orig_nbformat": 2,
  "kernelspec": {
   "name": "python38364bite863b03a75b64aeeaf455b1b23b07826",
   "display_name": "Python 3.8.3 64-bit"
  }
 },
 "nbformat": 4,
 "nbformat_minor": 2
}
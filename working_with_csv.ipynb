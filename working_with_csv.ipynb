{
 "cells": [
  {
   "cell_type": "code",
   "execution_count": 25,
   "metadata": {},
   "outputs": [
    {
     "data": {
      "text/plain": [
       "[['1',\n",
       "  'Joseph',\n",
       "  'Zaniolini',\n",
       "  'jzaniolini0@simplemachines.org',\n",
       "  'Male',\n",
       "  '163.168.68.132',\n",
       "  'Pedro Leopoldo']]"
      ]
     },
     "execution_count": 25,
     "metadata": {},
     "output_type": "execute_result"
    }
   ],
   "source": [
    "# Import the built-in Python csv module\n",
    "import csv\n",
    "# open file \n",
    "data = open('example.csv', encoding='utf-8')\n",
    "# csv reader \n",
    "csv_data = csv.reader(data)\n",
    "# convert it to a list of list\n",
    "data_lines = list(csv_data)\n",
    "len(data_lines)\n",
    "data_lines[1:2]"
   ]
  },
  {
   "cell_type": "code",
   "execution_count": 45,
   "metadata": {},
   "outputs": [
    {
     "name": "stdout",
     "output_type": "stream",
     "text": [
      "['Joseph Zaniolini', 'Freida Drillingcourt', 'Nanni Herity', 'Orazio Frayling', 'Julianne Murrison', 'Lucy Gamet', 'Dyana Howatt', 'Kassey Herion', 'Chrissy Hedworth', 'Hyatt Gasquoine']\n",
      "['jzaniolini0@simplemachines.org', 'fdrillingcourt1@umich.edu', 'nherity2@statcounter.com', 'ofrayling3@economist.com', 'jmurrison4@cbslocal.com', 'lgamet5@list-manage.com', 'dhowatt6@amazon.com', 'kherion7@amazon.com', 'chedworth8@china.com.cn', 'hgasquoine9@google.ru']\n"
     ]
    }
   ],
   "source": [
    "# loop through the data points in the csv file and get a list of first 10 name and emails\n",
    "def loop_csv(data_lines):\n",
    "    full_name = []\n",
    "    email = []\n",
    "    for line in data_lines[1:11]:\n",
    "        full_name.append(line[1]+' '+line[2])\n",
    "        email.append(line[3])\n",
    "    # return a tuple 0f list\n",
    "    return(full_name, email)\n",
    "  \n",
    "items = loop_csv(data_lines)\n",
    "names,emails = items\n",
    "print(names)\n",
    "print(emails)\n",
    "\n",
    "data.close()"
   ]
  },
  {
   "cell_type": "code",
   "execution_count": 46,
   "metadata": {},
   "outputs": [
    {
     "name": "stdout",
     "output_type": "stream",
     "text": [
      "idfirst_namelast_nameemailgenderip_addresscity\n",
      "1JosephZaniolinijzaniolini0@simplemachines.orgMale163.168.68.132Pedro Leopoldo\n",
      "2FreidaDrillingcourtfdrillingcourt1@umich.eduFemale97.212.102.79Buri\n",
      "3NanniHeritynherity2@statcounter.comFemale145.151.178.98Claver\n",
      "4OrazioFraylingofrayling3@economist.comMale25.199.143.143Kungur\n"
     ]
    }
   ],
   "source": [
    "for row in data_lines[:5]:\n",
    "    for elem in row: \n",
    "        print(elem, end=\"\")\n",
    "    print()"
   ]
  },
  {
   "cell_type": "code",
   "execution_count": 48,
   "metadata": {},
   "outputs": [],
   "source": [
    "file_to_output = open('save_to_file.csv', mode='w', newline='')\n",
    "csv_writer = csv.writer(file_to_output,delimiter = ',')\n",
    "#csv_writer.writerow(['Names','Emails'])\n",
    "csv_writer.writerows([[names],[emails]])\n",
    "\n",
    "# close file\n",
    "file_to_output.close()"
   ]
  },
  {
   "cell_type": "code",
   "execution_count": 2,
   "metadata": {},
   "outputs": [
    {
     "data": {
      "text/plain": [
       "(0.0, 1.0)"
      ]
     },
     "execution_count": 2,
     "metadata": {},
     "output_type": "execute_result"
    }
   ],
   "source": [
    "import math\n",
    "#5%2\n",
    "math.floor(4096/4096)\n",
    "4096 % 4096\n",
    "\"big\" > \"small\"\n",
    "\n",
    "f,m = math.modf(5 / 5)\n",
    "f,m"
   ]
  }
 ],
 "metadata": {
  "interpreter": {
   "hash": "8a94588eda9d64d9e9a351ab8144e55b1fabf5113b54e67dd26a8c27df0381b3"
  },
  "kernelspec": {
   "display_name": "",
   "language": "python",
   "name": "python3"
  },
  "language_info": {
   "codemirror_mode": {
    "name": "ipython",
    "version": 3
   },
   "file_extension": ".py",
   "mimetype": "text/x-python",
   "name": "python",
   "nbconvert_exporter": "python",
   "pygments_lexer": "ipython3",
   "version": "3.10.4"
  },
  "orig_nbformat": 4
 },
 "nbformat": 4,
 "nbformat_minor": 2
}

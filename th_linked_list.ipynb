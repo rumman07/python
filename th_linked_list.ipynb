{
 "cells": [
  {
   "cell_type": "code",
   "execution_count": null,
   "metadata": {},
   "outputs": [],
   "source": [
    "# Singly Linked List"
   ]
  },
  {
   "cell_type": "code",
   "execution_count": null,
   "metadata": {},
   "outputs": [],
   "source": [
    "class Node:\n",
    "    \"\"\"\n",
    "    An object for storing a single node in a linked list\n",
    "\n",
    "    Attributes:\n",
    "        data: Data stored in node\n",
    "        next_node: Reference to next node in linked list\n",
    "    \"\"\"\n",
    "\n",
    "    def __init__(self, data, next_node = None):\n",
    "        self.data = data\n",
    "        self.next_node = next_node\n",
    "\n",
    "    def __repr__(self):\n",
    "        return \"<Node data: %s>\" % self.data\n",
    "\n",
    "class SinglyLinkedList:\n",
    "    \"\"\"\n",
    "    Linear data structure that stores values in nodes. The list maintains a reference to the first node, also called head. Each node points to the next node in the list\n",
    "\n",
    "    Attributes:\n",
    "        head: The head node of the list\n",
    "    \"\"\"\n",
    "\n",
    "    def __init__(self):\n",
    "        self.head = None\n",
    "        # Maintaining a count attribute allows for len() to be implemented in\n",
    "        # constant time\n",
    "        self.__count = 0\n",
    "\n",
    "    def is_empty(self):\n",
    "        \"\"\"\n",
    "        Determines if the linked list is empty\n",
    "        Takes O(1) time\n",
    "        \"\"\"\n",
    "\n",
    "        return self.head is None\n",
    "\n",
    "    def __len__(self):\n",
    "        \"\"\"\n",
    "        Returns the length of the linked list\n",
    "        Takesn O(1) time\n",
    "        \"\"\"\n",
    "\n",
    "        return self.__count\n"
   ]
  },
  {
   "cell_type": "markdown",
   "metadata": {},
   "source": [
    "# Doubly Linked List"
   ]
  },
  {
   "cell_type": "code",
   "execution_count": null,
   "metadata": {},
   "outputs": [],
   "source": [
    "class Node:\n",
    "    def __init__(self, data, prev_node=None, next_node=None):\n",
    "        self.data = data\n",
    "        self.prev_node = prev_node\n",
    "        self.next_node = next_node\n",
    "\n",
    "    def __repr__(self):\n",
    "        return \"<Node data: %s>\" % self.data\n",
    "\n",
    "class DoublyLinkedList:\n",
    "    def __init__(self):\n",
    "        self.head = None\n",
    "        self.__count = 0\n",
    "\n",
    "    def is_empty(self):\n",
    "        return self.head is None\n",
    "\n",
    "    def __len__(self):\n",
    "        return self.__count\n"
   ]
  },
  {
   "cell_type": "code",
   "execution_count": 10,
   "metadata": {},
   "outputs": [
    {
     "data": {
      "text/plain": [
       "True"
      ]
     },
     "execution_count": 10,
     "metadata": {},
     "output_type": "execute_result"
    }
   ],
   "source": [
    "class Node: \n",
    "    '''\n",
    "\n",
    "    An Object for sorting a single node in a linked list. \n",
    "\n",
    "    Attributes: \n",
    "    data: Data stored in node\n",
    "    next_node: Reference to next node in linked list\n",
    "    '''\n",
    "\n",
    "    def __init__(self, data, next_node=None):\n",
    "        self.data = data\n",
    "        self.next_node = next_node\n",
    "        \n",
    "    def __repr__(self):\n",
    "        return \"<Node data: %s>\" %self.data\n",
    "    \n",
    "class SinglyLinkedList:\n",
    "\n",
    "    \"\"\"\n",
    "    Linear data structure that stores values in nodes. The list maintains a reference to the first node, also called head. Each node points to the next node in the list except the last(tail) node.\n",
    "\n",
    "    Attributes:\n",
    "        head: The head node of the list\n",
    "    \"\"\"\n",
    "\n",
    "    def __init__(self):\n",
    "        self.head = None\n",
    "        # Maintaining a count attribute allows for len() to be implemented in\n",
    "        # constant time\n",
    "        self.__count = 0 \n",
    "    \n",
    "    def isEmpty(self):\n",
    "        '''\n",
    "        Determines if the linked list is empty\n",
    "        Takes O(1) time\n",
    "        '''\n",
    "        return self.head is None\n",
    "    \n",
    "    def __len__(self):\n",
    "        '''\n",
    "        Returns the length of the linked list\n",
    "        Takes O(1) time\n",
    "        '''\n",
    "        return self.__count\n",
    "    \n",
    "\n",
    "n = Node(10)\n",
    "l = SinglyLinkedList()\n",
    "l.isEmpty()"
   ]
  },
  {
   "cell_type": "code",
   "execution_count": 13,
   "metadata": {},
   "outputs": [],
   "source": [
    "class Node: \n",
    "\n",
    "    def __init__(self, data, next_node = None, prev_node = None):\n",
    "        self.data = data\n",
    "        self.next_node = next_node\n",
    "        self.prev_node = prev_node\n",
    "\n",
    "    def __repr__(self):\n",
    "        return \"<Node data: %s>\" %self.data\n",
    "    \n",
    "class DoublyLinkList:\n",
    "    def __init__(self):\n",
    "      self.head = None\n",
    "      self.__count = 0 \n",
    "\n",
    "    def isEmpty(self):\n",
    "        return self.head is None\n",
    "    \n",
    "    def __len__(self):\n",
    "        return self.__count"
   ]
  }
 ],
 "metadata": {
  "kernelspec": {
   "display_name": "Python 3",
   "language": "python",
   "name": "python3"
  },
  "language_info": {
   "codemirror_mode": {
    "name": "ipython",
    "version": 3
   },
   "file_extension": ".py",
   "mimetype": "text/x-python",
   "name": "python",
   "nbconvert_exporter": "python",
   "pygments_lexer": "ipython3",
   "version": "3.11.4"
  },
  "orig_nbformat": 4
 },
 "nbformat": 4,
 "nbformat_minor": 2
}

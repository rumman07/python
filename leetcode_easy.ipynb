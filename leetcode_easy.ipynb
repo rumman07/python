{
 "cells": [
  {
   "cell_type": "markdown",
   "metadata": {},
   "source": [
    "# Print a table from 2 dimensional array with nested for loop"
   ]
  },
  {
   "cell_type": "code",
   "execution_count": 7,
   "metadata": {},
   "outputs": [
    {
     "name": "stdout",
     "output_type": "stream",
     "text": [
      "1 2 3 \n",
      "3 2 1 \n"
     ]
    }
   ],
   "source": [
    "accounts = [[1,2,3],[3,2,1]]\n",
    "\n",
    "for row in accounts: \n",
    "    for elem in row: \n",
    "        print(elem, end=\" \")\n",
    "    print()"
   ]
  },
  {
   "cell_type": "markdown",
   "metadata": {},
   "source": [
    "You are given an m x n integer grid accounts where accounts[i][j] is the amount of money the i​​​​​​​​​​​th​​​​ customer has in the j​​​​​​​​​​​th​​​​ bank. Return the wealth that the richest customer has.\n",
    "\n",
    "A customer's wealth is the amount of money they have in all their bank accounts. The richest customer is the customer that has the maximum wealth.\n",
    "\n",
    " \n",
    "\n",
    "Example 1:\n",
    "\n",
    "Input: accounts = [[1,2,3],[3,2,1]]\n",
    "Output: 6\n",
    "Explanation:\n",
    "1st customer has wealth = 1 + 2 + 3 = 6\n",
    "2nd customer has wealth = 3 + 2 + 1 = 6\n",
    "Both customers are considered the richest with a wealth of 6 each, so return 6.\n",
    "\n",
    "Example 2:\n",
    "\n",
    "Input: accounts = [[1,5],[7,3],[3,5]]\n",
    "Output: 10\n",
    "Explanation: \n",
    "1st customer has wealth = 6\n",
    "2nd customer has wealth = 10 \n",
    "3rd customer has wealth = 8\n",
    "The 2nd customer is the richest with a wealth of 10.\n",
    "Example 3:\n",
    "\n",
    "Input: accounts = [[2,8,7],[7,1,3],[1,9,5]]\n",
    "Output: 17\n",
    " \n",
    "\n",
    "Constraints:\n",
    "\n",
    "m == accounts.length\n",
    "n == accounts[i].length\n",
    "1 <= m, n <= 50\n",
    "1 <= accounts[i][j] <= 100"
   ]
  },
  {
   "cell_type": "code",
   "execution_count": 11,
   "metadata": {},
   "outputs": [
    {
     "data": {
      "text/plain": [
       "17"
      ]
     },
     "execution_count": 11,
     "metadata": {},
     "output_type": "execute_result"
    }
   ],
   "source": [
    "accounts = [[2,8,7],[7,1,3],[1,9,5]]\n",
    "def maxWealth(accounts):\n",
    "    mw = 0\n",
    "    balance = []\n",
    "    for money in accounts:\n",
    "        for cash in money: \n",
    "            balance.append(cash)\n",
    "        if sum(balance) > mw:\n",
    "            mw = sum(balance)\n",
    "        balance = []\n",
    "    return mw         \n",
    "\n",
    "maxWealth(accounts)"
   ]
  },
  {
   "cell_type": "markdown",
   "metadata": {},
   "source": [
    "Given a string s containing just the characters '(', ')', '{', '}', '[' and ']', determine if the input string is valid.\n",
    "\n",
    "An input string is valid if:\n",
    "\n",
    "    Open brackets must be closed by the same type of brackets.\n",
    "    Open brackets must be closed in the correct order.\n",
    "    Every close bracket has a corresponding open bracket of the same type.\n",
    "\n",
    " \n",
    "\n",
    "Example 1:\n",
    "\n",
    "Input: s = \"()\"\n",
    "Output: true\n",
    "\n",
    "Example 2:\n",
    "\n",
    "Input: s = \"()[]{}\"\n",
    "Output: true\n",
    "\n",
    "Example 3:\n",
    "\n",
    "Input: s = \"(]\"\n",
    "Output: false\n",
    "\n",
    " \n",
    "\n",
    "Constraints:\n",
    "\n",
    "    1 <= s.length <= 104\n",
    "    s consists of parentheses only '()[]{}'.\n",
    "\n"
   ]
  },
  {
   "cell_type": "code",
   "execution_count": 14,
   "metadata": {},
   "outputs": [
    {
     "data": {
      "text/plain": [
       "True"
      ]
     },
     "execution_count": 14,
     "metadata": {},
     "output_type": "execute_result"
    }
   ],
   "source": [
    "def isValid(s: str) -> bool:\n",
    "\n",
    "        stack = []\n",
    "        match = {'(':')', '{':'}','[':']'}\n",
    "\n",
    "        for c in s: \n",
    "            if c in match:\n",
    "                stack.append(c)\n",
    "            else: \n",
    "                if not stack or match[stack.pop()] != c:\n",
    "                    return False\n",
    "\n",
    "        return not stack \n",
    "    \n",
    "isValid('{()}')"
   ]
  },
  {
   "cell_type": "markdown",
   "metadata": {},
   "source": [
    "# Two Sum \n",
    "Given an array of integers nums and an integer target, return indices of the two numbers such that they add up to target.\n",
    "\n",
    "You may assume that each input would have exactly one solution, and you may not use the same element twice.\n",
    "\n",
    "You can return the answer in any order.\n",
    "\n",
    " \n",
    "\n",
    "Example 1:\n",
    "\n",
    "Input: nums = [2,7,11,15], target = 9\n",
    "Output: [0,1]\n",
    "Explanation: Because nums[0] + nums[1] == 9, we return [0, 1].\n",
    "\n",
    "Example 2:\n",
    "\n",
    "Input: nums = [3,2,4], target = 6\n",
    "Output: [1,2]\n",
    "\n",
    "Example 3:\n",
    "\n",
    "Input: nums = [3,3], target = 6\n",
    "Output: [0,1]\n",
    "\n",
    " \n",
    "\n",
    "Constraints:\n",
    "\n",
    "    2 <= nums.length <= 104\n",
    "    -109 <= nums[i] <= 109\n",
    "    -109 <= target <= 109\n",
    "    Only one valid answer exists.\n",
    "\n",
    " \n",
    "Follow-up: Can you come up with an algorithm that is less than O(n2) time complexity?"
   ]
  },
  {
   "cell_type": "code",
   "execution_count": 14,
   "metadata": {},
   "outputs": [
    {
     "name": "stdout",
     "output_type": "stream",
     "text": [
      "[1, 0]\n",
      "[1, 0]\n",
      "[2, 1]\n"
     ]
    }
   ],
   "source": [
    "def twoSum(nums,target):\n",
    "    if len(nums) < 2: \n",
    "        return \n",
    "    \n",
    "    seen = set()\n",
    "    output = []\n",
    "\n",
    "    for i, num in enumerate(nums):\n",
    "\n",
    "        k = target - num\n",
    "\n",
    "        if k not in seen: \n",
    "            seen.add(num)\n",
    "        else:\n",
    "            output.append(i)\n",
    "            output.append(nums.index(k))\n",
    "    \n",
    "    return output\n",
    "\n",
    "print(twoSum([2,7,11,15], 9))\n",
    "print(twoSum([3,3], 6))\n",
    "print(twoSum([3,2,4], 6))"
   ]
  },
  {
   "cell_type": "code",
   "execution_count": 3,
   "metadata": {},
   "outputs": [
    {
     "data": {
      "text/plain": [
       "4"
      ]
     },
     "execution_count": 3,
     "metadata": {},
     "output_type": "execute_result"
    }
   ],
   "source": [
    "'leet' in 'leetcode'\n",
    "'leetcode'.index('code')"
   ]
  },
  {
   "cell_type": "markdown",
   "metadata": {},
   "source": [
    "# Find the Index of the First Occurrence in a String\n",
    "Given two strings needle and haystack, return the index of the first occurrence of needle in haystack, or -1 if needle is not part of haystack.\n",
    "\n",
    " \n",
    "\n",
    "Example 1:\n",
    "\n",
    "Input: haystack = \"sadbutsad\", needle = \"sad\"\n",
    "\n",
    "Output: 0\n",
    "\n",
    "Explanation: \"sad\" occurs at index 0 and 6.\n",
    "\n",
    "The first occurrence is at index 0, so we return 0.\n",
    "\n",
    "\n",
    "Example 2:\n",
    "\n",
    "Input: haystack = \"leetcode\", needle = \"leeto\"\n",
    "\n",
    "Output: -1\n",
    "\n",
    "Explanation: \"leeto\" did not occur in \"leetcode\", so we return -1.\n",
    "\n",
    " \n",
    "\n",
    "Constraints:\n",
    "\n",
    "    1 <= haystack.length, needle.length <= 104\n",
    "    haystack and needle consist of only lowercase English characters.\n",
    "\n"
   ]
  },
  {
   "cell_type": "code",
   "execution_count": 4,
   "metadata": {},
   "outputs": [
    {
     "data": {
      "text/plain": [
       "4"
      ]
     },
     "execution_count": 4,
     "metadata": {},
     "output_type": "execute_result"
    }
   ],
   "source": [
    "def strStr(haystack, needle):\n",
    "        \n",
    "    if needle in haystack:\n",
    "      return haystack.index(needle)\n",
    "    else:\n",
    "      return -1\n",
    "\n",
    "strStr(\"leetcode\", \"code\")"
   ]
  },
  {
   "cell_type": "code",
   "execution_count": 21,
   "metadata": {},
   "outputs": [
    {
     "data": {
      "text/plain": [
       "5"
      ]
     },
     "execution_count": 21,
     "metadata": {},
     "output_type": "execute_result"
    }
   ],
   "source": [
    "def fact(n):\n",
    "    if n == 1:\n",
    "        return n\n",
    "    return 1+ fact(n -1)\n",
    "fact(5)"
   ]
  },
  {
   "cell_type": "markdown",
   "metadata": {},
   "source": [
    "# Climbing Stairs\n",
    "You are climbing a staircase. It takes n steps to reach the top.\n",
    "\n",
    "Each time you can either climb 1 or 2 steps. In how many distinct ways can you climb to the top?\n",
    "\n",
    " \n",
    "\n",
    "Example 1:\n",
    "\n",
    "Input: n = 2\n",
    "\n",
    "Output: 2\n",
    "\n",
    "Explanation: There are two ways to climb to the top.\n",
    "\n",
    "1. 1 step + 1 step\n",
    "2. 2 steps\n",
    "\n",
    "Example 2:\n",
    "\n",
    "Input: n = 3\n",
    "\n",
    "Output: 3\n",
    "\n",
    "Explanation: There are three ways to climb to the top.\n",
    "\n",
    "1. 1 step + 1 step + 1 step\n",
    "2. 1 step + 2 steps\n",
    "3. 2 steps + 1 step\n"
   ]
  },
  {
   "cell_type": "code",
   "execution_count": 26,
   "metadata": {},
   "outputs": [
    {
     "data": {
      "text/plain": [
       "89"
      ]
     },
     "execution_count": 26,
     "metadata": {},
     "output_type": "execute_result"
    }
   ],
   "source": [
    "\"\"\"\n",
    "Recursive approach \n",
    "\"\"\"\n",
    "class Solution:\n",
    "    def climbStairs(self, n: int) -> int:\n",
    "            if n == 1:\n",
    "                return 1\n",
    "            if n == 2: \n",
    "                return 2\n",
    "            else:\n",
    "                return self.climbStairs(n -1) + self.climbStairs(n -2)\n",
    "\n",
    "c = Solution()\n",
    "c.climbStairs(10)\n"
   ]
  },
  {
   "cell_type": "code",
   "execution_count": 33,
   "metadata": {},
   "outputs": [
    {
     "data": {
      "text/plain": [
       "13"
      ]
     },
     "execution_count": 33,
     "metadata": {},
     "output_type": "execute_result"
    }
   ],
   "source": [
    "\"\"\"\n",
    "Iterative approach \n",
    "\"\"\"\n",
    "def climb_stairs(n):\n",
    "    if n <= 2: return n\n",
    "\n",
    "    p1 = 1\n",
    "    p2 = 2\n",
    "    current = 0\n",
    "\n",
    "    for i in range(2,n):\n",
    "        current = p1 + p2\n",
    "        p1 = p2\n",
    "        p2 = current\n",
    "    return current\n",
    "\n",
    "climb_stairs(6)"
   ]
  },
  {
   "cell_type": "markdown",
   "metadata": {},
   "source": [
    "### Faulty Keyboard \n",
    "\n",
    "Your laptop keyboard is faulty, and whenever you type a character 'i' on it, it reverses the string that you have written. Typing other characters works as expected.\n",
    "\n",
    "You are given a 0-indexed string s, and you type each character of s using your faulty keyboard.\n",
    "\n",
    "Return the final string that will be present on your laptop screen.\n",
    "\n",
    " \n",
    "\n",
    "Example 1:\n",
    "\n",
    "Input: s = \"string\"\n",
    "Output: \"rtsng\"\n",
    "Explanation: \n",
    "After typing first character, the text on the screen is \"s\".\n",
    "After the second character, the text is \"st\". \n",
    "After the third character, the text is \"str\".\n",
    "Since the fourth character is an 'i', the text gets reversed and becomes \"rts\".\n",
    "After the fifth character, the text is \"rtsn\". \n",
    "After the sixth character, the text is \"rtsng\". \n",
    "Therefore, we return \"rtsng\".\n",
    "\n",
    "Example 2:\n",
    "\n",
    "Input: s = \"poiinter\"\n",
    "Output: \"ponter\"\n",
    "Explanation: \n",
    "After the first character, the text on the screen is \"p\".\n",
    "After the second character, the text is \"po\". \n",
    "Since the third character you type is an 'i', the text gets reversed and becomes \"op\". \n",
    "Since the fourth character you type is an 'i', the text gets reversed and becomes \"po\".\n",
    "After the fifth character, the text is \"pon\".\n",
    "After the sixth character, the text is \"pont\". \n",
    "After the seventh character, the text is \"ponte\". \n",
    "After the eighth character, the text is \"ponter\". \n",
    "Therefore, we return \"ponter\".\n",
    "\n",
    " \n",
    "\n",
    "Constraints:\n",
    "\n",
    "    1 <= s.length <= 100\n",
    "    s consists of lowercase English letters.\n",
    "    s[0] != 'i'\n",
    "\n"
   ]
  },
  {
   "cell_type": "code",
   "execution_count": 131,
   "metadata": {},
   "outputs": [
    {
     "data": {
      "text/plain": [
       "'rtsng'"
      ]
     },
     "execution_count": 131,
     "metadata": {},
     "output_type": "execute_result"
    }
   ],
   "source": [
    "def final_string(s):\n",
    "\n",
    "    res = \"\"\n",
    "    fk = \"i\"\n",
    "    i = 0 \n",
    "\n",
    "    while i < len(s):\n",
    "        if s[i] == fk:\n",
    "            res = res[::-1]\n",
    "        else:\n",
    "            res += s[i]\n",
    "        i += 1\n",
    "    return res\n",
    "\n",
    "final_string(\"string\")"
   ]
  },
  {
   "cell_type": "markdown",
   "metadata": {},
   "source": [
    "# Max Pair Sum in an Array\n",
    "\n",
    "You are given a 0-indexed integer array nums. You have to find the maximum sum of a pair of numbers from nums such that the maximum digit in both numbers are equal.\n",
    "\n",
    "Return the maximum sum or -1 if no such pair exists.\n",
    "\n",
    " \n",
    "\n",
    "Example 1:\n",
    "\n",
    "Input: nums = [51,71,17,24,42]\n",
    "Output: 88\n",
    "Explanation: \n",
    "For i = 1 and j = 2, nums[i] and nums[j] have equal maximum digits with a pair sum of 71 + 17 = 88. \n",
    "For i = 3 and j = 4, nums[i] and nums[j] have equal maximum digits with a pair sum of 24 + 42 = 66.\n",
    "It can be shown that there are no other pairs with equal maximum digits, so the answer is 88.\n",
    "\n",
    "Example 2:\n",
    "\n",
    "Input: nums = [1,2,3,4]\n",
    "Output: -1\n",
    "Explanation: No pair exists in nums with equal maximum digits.\n",
    "\n",
    " \n",
    "\n",
    "Constraints:\n",
    "\n",
    "    2 <= nums.length <= 100\n",
    "    1 <= nums[i] <= 104\n",
    "\n"
   ]
  },
  {
   "cell_type": "code",
   "execution_count": 147,
   "metadata": {},
   "outputs": [
    {
     "data": {
      "text/plain": [
       "88"
      ]
     },
     "execution_count": 147,
     "metadata": {},
     "output_type": "execute_result"
    }
   ],
   "source": [
    "from collections import defaultdict\n",
    "def maxSum(nums):\n",
    "        max_by_digit = defaultdict(int)\n",
    "        max_sum = -1\n",
    "\n",
    "        for num in nums:\n",
    "            digit = max(str(num))\n",
    "\n",
    "            if digit in max_by_digit:\n",
    "            \n",
    "                max_sum = max(max_sum, max_by_digit[digit] + num)\n",
    "\n",
    "            max_by_digit[digit] = max(max_by_digit[digit], num)\n",
    "\n",
    "        return max_sum\n",
    "\n",
    "maxSum([54,17,71,42,24])"
   ]
  },
  {
   "cell_type": "markdown",
   "metadata": {},
   "source": [
    "# Check if a String is an Acronym of Words\n",
    "\n",
    "Given an array of strings words and a string s, determine if s is an acronym of words.\n",
    "\n",
    "The string s is considered an acronym of words if it can be formed by concatenating the first character of each string in words in order. For example, \"ab\" can be formed from [\"apple\", \"banana\"], but it can't be formed from [\"bear\", \"aardvark\"].\n",
    "\n",
    "Return true if s is an acronym of words, and false otherwise.\n",
    "\n",
    " \n",
    "\n",
    "Example 1:\n",
    "\n",
    "Input: words = [\"alice\",\"bob\",\"charlie\"], s = \"abc\"\n",
    "Output: true\n",
    "Explanation: The first character in the words \"alice\", \"bob\", and \"charlie\" are 'a', 'b', and 'c', respectively. Hence, s = \"abc\" is the acronym. \n",
    "\n",
    "Example 2:\n",
    "\n",
    "Input: words = [\"an\",\"apple\"], s = \"a\"\n",
    "Output: false\n",
    "Explanation: The first character in the words \"an\" and \"apple\" are 'a' and 'a', respectively. \n",
    "The acronym formed by concatenating these characters is \"aa\". \n",
    "Hence, s = \"a\" is not the acronym.\n",
    "\n",
    "Example 3:\n",
    "\n",
    "Input: words = [\"never\",\"gonna\",\"give\",\"up\",\"on\",\"you\"], s = \"ngguoy\"\n",
    "Output: true\n",
    "Explanation: By concatenating the first character of the words in the array, we get the string \"ngguoy\". \n",
    "Hence, s = \"ngguoy\" is the acronym.\n",
    "\n",
    " \n",
    "\n",
    "Constraints:\n",
    "\n",
    "    1 <= words.length <= 100\n",
    "    1 <= words[i].length <= 10\n",
    "    1 <= s.length <= 100\n",
    "    words[i] and s consist of lowercase English letters.\n",
    "\n"
   ]
  },
  {
   "cell_type": "code",
   "execution_count": 146,
   "metadata": {},
   "outputs": [
    {
     "name": "stdout",
     "output_type": "stream",
     "text": [
      "['a', 'b', 'c']\n"
     ]
    },
    {
     "data": {
      "text/plain": [
       "True"
      ]
     },
     "execution_count": 146,
     "metadata": {},
     "output_type": "execute_result"
    }
   ],
   "source": [
    "def isAcronym(words, s):\n",
    "\n",
    "      first_letter = []\n",
    "\n",
    "      for word in words: \n",
    "        first_letter.append(word[0])\n",
    "    \n",
    "      if \"\".join(first_letter) == s:\n",
    "        return True \n",
    "      return False\n",
    "\n",
    "\n",
    "\n",
    "words, s = [\"alice\",\"bob\",\"charlie\"], \"abc\"\n",
    "\n",
    "isAcronym(words, s)"
   ]
  },
  {
   "cell_type": "markdown",
   "metadata": {},
   "source": [
    "# Dymanic Prgramming\n",
    "### Best time to buy and sell stock\n",
    "\n",
    "You are given an array prices where prices[i] is the price of a given stock on the ith day.\n",
    "\n",
    "You want to maximize your profit by choosing a single day to buy one stock and choosing a different day in the future to sell that stock.\n",
    "\n",
    "Return the maximum profit you can achieve from this transaction. If you cannot achieve any profit, return 0.\n",
    "\n",
    " \n",
    "\n",
    "Example 1:\n",
    "\n",
    "Input: prices = [7,1,5,3,6,4]\n",
    "Output: 5\n",
    "Explanation: Buy on day 2 (price = 1) and sell on day 5 (price = 6), profit = 6-1 = 5.\n",
    "Note that buying on day 2 and selling on day 1 is not allowed because you must buy before you sell.\n",
    "\n",
    "Example 2:\n",
    "\n",
    "Input: prices = [7,6,4,3,1]\n",
    "Output: 0\n",
    "Explanation: In this case, no transactions are done and the max profit = 0.\n",
    "\n",
    " \n",
    "\n",
    "Constraints:\n",
    "\n",
    "    1 <= prices.length <= 105\n",
    "    0 <= prices[i] <= 104\n",
    "\n"
   ]
  },
  {
   "cell_type": "code",
   "execution_count": 148,
   "metadata": {},
   "outputs": [
    {
     "data": {
      "text/plain": [
       "5"
      ]
     },
     "execution_count": 148,
     "metadata": {},
     "output_type": "execute_result"
    }
   ],
   "source": [
    "def maxProfit(prices):\n",
    "\n",
    "    min_stock_price = prices[0]\n",
    "    max_profit = 0\n",
    "\n",
    "    for price in prices:\n",
    "        min_stock_price = min(min_stock_price, price)\n",
    "        comparison_profit = price - min_stock_price\n",
    "        max_profit = max(max_profit, comparison_profit)\n",
    "    return max_profit\n",
    "\n",
    "maxProfit([7,1,5,3,6,4])"
   ]
  },
  {
   "cell_type": "markdown",
   "metadata": {},
   "source": [
    "# Length of Last Word\n",
    "Given a string s consisting of words and spaces, return the length of the last word in the string.\n",
    "\n",
    "A word is a maximal\n",
    "substring\n",
    "consisting of non-space characters only.\n",
    "\n",
    " \n",
    "\n",
    "Example 1:\n",
    "\n",
    "Input: s = \"Hello World\"\n",
    "Output: 5\n",
    "Explanation: The last word is \"World\" with length 5.\n",
    "\n",
    "Example 2:\n",
    "\n",
    "Input: s = \"   fly me   to   the moon  \"\n",
    "Output: 4\n",
    "Explanation: The last word is \"moon\" with length 4.\n",
    "\n",
    "Example 3:\n",
    "\n",
    "Input: s = \"luffy is still joyboy\"\n",
    "Output: 6\n",
    "Explanation: The last word is \"joyboy\" with length 6.\n",
    "\n",
    " \n",
    "\n",
    "Constraints:\n",
    "\n",
    "    1 <= s.length <= 104\n",
    "    s consists of only English letters and spaces ' '.\n",
    "    There will be at least one word in s.\n",
    "\n"
   ]
  },
  {
   "cell_type": "code",
   "execution_count": 157,
   "metadata": {},
   "outputs": [
    {
     "data": {
      "text/plain": [
       "4"
      ]
     },
     "execution_count": 157,
     "metadata": {},
     "output_type": "execute_result"
    }
   ],
   "source": [
    "def lengthOfLastWord(s):\n",
    "    spaces = \" \"\n",
    "    word_list = []\n",
    "\n",
    "    for word in s.split(\" \"):\n",
    "        if word not in spaces:\n",
    "            word_list.append(word)\n",
    "        \n",
    "    return len(word_list[-1])\n",
    "\n",
    "lengthOfLastWord(\"   fly me   to   the moon  \")\n"
   ]
  }
 ],
 "metadata": {
  "kernelspec": {
   "display_name": "Python 3.10.6 64-bit",
   "language": "python",
   "name": "python3"
  },
  "language_info": {
   "codemirror_mode": {
    "name": "ipython",
    "version": 3
   },
   "file_extension": ".py",
   "mimetype": "text/x-python",
   "name": "python",
   "nbconvert_exporter": "python",
   "pygments_lexer": "ipython3",
   "version": "3.11.4"
  },
  "orig_nbformat": 4,
  "vscode": {
   "interpreter": {
    "hash": "8a94588eda9d64d9e9a351ab8144e55b1fabf5113b54e67dd26a8c27df0381b3"
   }
  }
 },
 "nbformat": 4,
 "nbformat_minor": 2
}

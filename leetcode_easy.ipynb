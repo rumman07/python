{
 "cells": [
  {
   "cell_type": "markdown",
   "metadata": {},
   "source": [
    "# Print a table from 2 dimensional array with nested for loop"
   ]
  },
  {
   "cell_type": "code",
   "execution_count": 7,
   "metadata": {},
   "outputs": [
    {
     "name": "stdout",
     "output_type": "stream",
     "text": [
      "1 2 3 \n",
      "3 2 1 \n"
     ]
    }
   ],
   "source": [
    "accounts = [[1,2,3],[3,2,1]]\n",
    "\n",
    "for row in accounts: \n",
    "    for elem in row: \n",
    "        print(elem, end=\" \")\n",
    "    print()"
   ]
  },
  {
   "cell_type": "markdown",
   "metadata": {},
   "source": [
    "You are given an m x n integer grid accounts where accounts[i][j] is the amount of money the i​​​​​​​​​​​th​​​​ customer has in the j​​​​​​​​​​​th​​​​ bank. Return the wealth that the richest customer has.\n",
    "\n",
    "A customer's wealth is the amount of money they have in all their bank accounts. The richest customer is the customer that has the maximum wealth.\n",
    "\n",
    " \n",
    "\n",
    "Example 1:\n",
    "\n",
    "Input: accounts = [[1,2,3],[3,2,1]]\n",
    "Output: 6\n",
    "Explanation:\n",
    "1st customer has wealth = 1 + 2 + 3 = 6\n",
    "2nd customer has wealth = 3 + 2 + 1 = 6\n",
    "Both customers are considered the richest with a wealth of 6 each, so return 6.\n",
    "\n",
    "Example 2:\n",
    "\n",
    "Input: accounts = [[1,5],[7,3],[3,5]]\n",
    "Output: 10\n",
    "Explanation: \n",
    "1st customer has wealth = 6\n",
    "2nd customer has wealth = 10 \n",
    "3rd customer has wealth = 8\n",
    "The 2nd customer is the richest with a wealth of 10.\n",
    "Example 3:\n",
    "\n",
    "Input: accounts = [[2,8,7],[7,1,3],[1,9,5]]\n",
    "Output: 17\n",
    " \n",
    "\n",
    "Constraints:\n",
    "\n",
    "m == accounts.length\n",
    "n == accounts[i].length\n",
    "1 <= m, n <= 50\n",
    "1 <= accounts[i][j] <= 100"
   ]
  },
  {
   "cell_type": "code",
   "execution_count": 11,
   "metadata": {},
   "outputs": [
    {
     "data": {
      "text/plain": [
       "17"
      ]
     },
     "execution_count": 11,
     "metadata": {},
     "output_type": "execute_result"
    }
   ],
   "source": [
    "accounts = [[2,8,7],[7,1,3],[1,9,5]]\n",
    "def maxWealth(accounts):\n",
    "    mw = 0\n",
    "    balance = []\n",
    "    for money in accounts:\n",
    "        for cash in money: \n",
    "            balance.append(cash)\n",
    "        if sum(balance) > mw:\n",
    "            mw = sum(balance)\n",
    "        balance = []\n",
    "    return mw         \n",
    "\n",
    "maxWealth(accounts)"
   ]
  },
  {
   "cell_type": "markdown",
   "metadata": {},
   "source": [
    "Given a string s containing just the characters '(', ')', '{', '}', '[' and ']', determine if the input string is valid.\n",
    "\n",
    "An input string is valid if:\n",
    "\n",
    "    Open brackets must be closed by the same type of brackets.\n",
    "    Open brackets must be closed in the correct order.\n",
    "    Every close bracket has a corresponding open bracket of the same type.\n",
    "\n",
    " \n",
    "\n",
    "Example 1:\n",
    "\n",
    "Input: s = \"()\"\n",
    "Output: true\n",
    "\n",
    "Example 2:\n",
    "\n",
    "Input: s = \"()[]{}\"\n",
    "Output: true\n",
    "\n",
    "Example 3:\n",
    "\n",
    "Input: s = \"(]\"\n",
    "Output: false\n",
    "\n",
    " \n",
    "\n",
    "Constraints:\n",
    "\n",
    "    1 <= s.length <= 104\n",
    "    s consists of parentheses only '()[]{}'.\n",
    "\n"
   ]
  },
  {
   "cell_type": "code",
   "execution_count": 14,
   "metadata": {},
   "outputs": [
    {
     "data": {
      "text/plain": [
       "True"
      ]
     },
     "execution_count": 14,
     "metadata": {},
     "output_type": "execute_result"
    }
   ],
   "source": [
    "def isValid(s: str) -> bool:\n",
    "\n",
    "        stack = []\n",
    "        match = {'(':')', '{':'}','[':']'}\n",
    "\n",
    "        for c in s: \n",
    "            if c in match:\n",
    "                stack.append(c)\n",
    "            else: \n",
    "                if not stack or match[stack.pop()] != c:\n",
    "                    return False\n",
    "\n",
    "        return not stack \n",
    "    \n",
    "isValid('{()}')"
   ]
  },
  {
   "cell_type": "markdown",
   "metadata": {},
   "source": [
    "# Two Sum \n",
    "Given an array of integers nums and an integer target, return indices of the two numbers such that they add up to target.\n",
    "\n",
    "You may assume that each input would have exactly one solution, and you may not use the same element twice.\n",
    "\n",
    "You can return the answer in any order.\n",
    "\n",
    " \n",
    "\n",
    "Example 1:\n",
    "\n",
    "Input: nums = [2,7,11,15], target = 9\n",
    "Output: [0,1]\n",
    "Explanation: Because nums[0] + nums[1] == 9, we return [0, 1].\n",
    "\n",
    "Example 2:\n",
    "\n",
    "Input: nums = [3,2,4], target = 6\n",
    "Output: [1,2]\n",
    "\n",
    "Example 3:\n",
    "\n",
    "Input: nums = [3,3], target = 6\n",
    "Output: [0,1]\n",
    "\n",
    " \n",
    "\n",
    "Constraints:\n",
    "\n",
    "    2 <= nums.length <= 104\n",
    "    -109 <= nums[i] <= 109\n",
    "    -109 <= target <= 109\n",
    "    Only one valid answer exists.\n",
    "\n",
    " \n",
    "Follow-up: Can you come up with an algorithm that is less than O(n2) time complexity?"
   ]
  },
  {
   "cell_type": "code",
   "execution_count": 14,
   "metadata": {},
   "outputs": [
    {
     "name": "stdout",
     "output_type": "stream",
     "text": [
      "[1, 0]\n",
      "[1, 0]\n",
      "[2, 1]\n"
     ]
    }
   ],
   "source": [
    "def twoSum(nums,target):\n",
    "    if len(nums) < 2: \n",
    "        return \n",
    "    \n",
    "    seen = set()\n",
    "    output = []\n",
    "\n",
    "    for i, num in enumerate(nums):\n",
    "\n",
    "        k = target - num\n",
    "\n",
    "        if k not in seen: \n",
    "            seen.add(num)\n",
    "        else:\n",
    "            output.append(i)\n",
    "            output.append(nums.index(k))\n",
    "    \n",
    "    return output\n",
    "\n",
    "print(twoSum([2,7,11,15], 9))\n",
    "print(twoSum([3,3], 6))\n",
    "print(twoSum([3,2,4], 6))"
   ]
  }
 ],
 "metadata": {
  "kernelspec": {
   "display_name": "Python 3.10.6 64-bit",
   "language": "python",
   "name": "python3"
  },
  "language_info": {
   "codemirror_mode": {
    "name": "ipython",
    "version": 3
   },
   "file_extension": ".py",
   "mimetype": "text/x-python",
   "name": "python",
   "nbconvert_exporter": "python",
   "pygments_lexer": "ipython3",
   "version": "3.11.4"
  },
  "orig_nbformat": 4,
  "vscode": {
   "interpreter": {
    "hash": "8a94588eda9d64d9e9a351ab8144e55b1fabf5113b54e67dd26a8c27df0381b3"
   }
  }
 },
 "nbformat": 4,
 "nbformat_minor": 2
}

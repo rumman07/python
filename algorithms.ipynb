{
 "cells": [
  {
   "cell_type": "markdown",
   "metadata": {},
   "source": [
    "# Linear search algorithm"
   ]
  },
  {
   "cell_type": "code",
   "execution_count": 1,
   "metadata": {},
   "outputs": [
    {
     "name": "stdout",
     "output_type": "stream",
     "text": [
      "Found at position:  3\n"
     ]
    }
   ],
   "source": [
    "values = [19,12,34,112,115,567]\n",
    "limit = 100\n",
    "pos = 0 \n",
    "found = False \n",
    "\n",
    "while pos < len(values) and not found:\n",
    "    if values[pos] > limit:\n",
    "        found = True\n",
    "    else: \n",
    "        pos += 1\n",
    "if found: \n",
    "    print(\"Found at position: \", pos)\n",
    "else: \n",
    "    print(\"Not found.\")"
   ]
  },
  {
   "cell_type": "code",
   "execution_count": 1,
   "metadata": {},
   "outputs": [
    {
     "name": "stdout",
     "output_type": "stream",
     "text": [
      "Target found at index:  6\n",
      "Target Not found in list\n"
     ]
    }
   ],
   "source": [
    "def linear_search(arr, target):\n",
    "    for i,v in enumerate(arr):\n",
    "        if v == target:\n",
    "            return i\n",
    "    return None\n",
    "\n",
    "def verify(index):\n",
    "    if index is not None:\n",
    "        print(\"Target found at index: \", index)\n",
    "    else: \n",
    "        print(\"Target Not found in list\")\n",
    "\n",
    "numbers = [1,2,3,4,5,6,7,8,9,10]\n",
    "\n",
    "result1 = linear_search(numbers, 7)\n",
    "result2 = linear_search(numbers, 17)\n",
    "verify(result1)\n",
    "verify(result2)\n"
   ]
  },
  {
   "cell_type": "markdown",
   "metadata": {},
   "source": [
    "# Binary Search"
   ]
  },
  {
   "cell_type": "code",
   "execution_count": 6,
   "metadata": {},
   "outputs": [
    {
     "name": "stdout",
     "output_type": "stream",
     "text": [
      "The numbers list is:  [1, 2, 3, 4, 5, 6, 7, 8, 9, 10, 11, 12, 13, 14, 15, 16, 17, 18, 19, 20, 21, 22, 23, 24, 25]\n",
      "Target found at index:  5\n",
      "Target not found in list\n"
     ]
    }
   ],
   "source": [
    "def binary_search(arr, target):\n",
    "\n",
    "    first = 0\n",
    "    last = len(arr) -1\n",
    "\n",
    "    while first <= last: \n",
    "        midpoint = (first + last)//2\n",
    "\n",
    "        if arr[midpoint] == target:\n",
    "            return midpoint\n",
    "        elif arr[midpoint] < target: \n",
    "            first = midpoint +1\n",
    "        else:\n",
    "            last = midpoint -1\n",
    "    return None\n",
    "\n",
    "def verify(index):\n",
    "\n",
    "    if index is not None: \n",
    "        print(\"Target found at index: \", index)\n",
    "    else: \n",
    "        print(\"Target not found in list\")\n",
    "\n",
    "numbers = [n for n in range(1, 26)]\n",
    "print('The numbers list is: ', numbers)\n",
    "\n",
    "result1 = binary_search(numbers, 6)\n",
    "verify(result1)\n",
    "\n",
    "result2 = binary_search(numbers, 86)\n",
    "verify(result2)"
   ]
  },
  {
   "cell_type": "markdown",
   "metadata": {},
   "source": [
    "# Recursion function is the one that calls itself. \n",
    "\n",
    "# Recursive Binary Search"
   ]
  },
  {
   "cell_type": "code",
   "execution_count": 8,
   "metadata": {},
   "outputs": [
    {
     "name": "stdout",
     "output_type": "stream",
     "text": [
      "Target found:  True\n",
      "Target found:  False\n"
     ]
    }
   ],
   "source": [
    "def recursive_binary_search(arr, target):\n",
    "\n",
    "    # Step 1 of a recursive function: The base case \n",
    "    if len(arr) == 0:\n",
    "        return False\n",
    "    else:\n",
    "        midpoint = len(arr)//2\n",
    "\n",
    "        if arr[midpoint] == target:\n",
    "            return True\n",
    "        else:\n",
    "            if arr[midpoint] < target:\n",
    "                       # Step 2 of a recursive function: Call the same function: preceeding the return keyword\n",
    "                                               # Step 3 of a recursive function: change the input to the function\n",
    "                return recursive_binary_search(arr[midpoint+1:], target)\n",
    "            else:\n",
    "                return recursive_binary_search(arr[:midpoint-1], target)\n",
    "            \n",
    "def verify(result):\n",
    "    print(\"Target found: \", result)\n",
    "\n",
    "values = [ u for u in range(1,26)]\n",
    "\n",
    "result = recursive_binary_search(values, 13)\n",
    "verify(result)\n",
    "\n",
    "result = recursive_binary_search(values, 50)\n",
    "verify(result)\n"
   ]
  },
  {
   "cell_type": "markdown",
   "metadata": {},
   "source": [
    "# Recursive function example 2"
   ]
  },
  {
   "cell_type": "code",
   "execution_count": 13,
   "metadata": {},
   "outputs": [
    {
     "name": "stdout",
     "output_type": "stream",
     "text": [
      "The total is:  10\n"
     ]
    }
   ],
   "source": [
    "def sum_values(arr):\n",
    "    # Step 1: Base case\n",
    "    if len(arr) == 1:\n",
    "        return arr[0]\n",
    "    else:\n",
    "                        # Step 2: Calling the same function within the function preceeding the return keyword\n",
    "                                   # Step 3: Changing the value of the input to the function call\n",
    "        return arr[0] + sum_values(arr[1:])\n",
    "    \n",
    "def verify(result):\n",
    "    print(\"The total is: \", result)\n",
    "\n",
    "numbers = [1,2,3,4]\n",
    "\n",
    "result = sum_values(numbers)\n",
    "verify(result)"
   ]
  },
  {
   "cell_type": "code",
   "execution_count": 2,
   "metadata": {},
   "outputs": [
    {
     "data": {
      "text/plain": [
       "-2"
      ]
     },
     "execution_count": 2,
     "metadata": {},
     "output_type": "execute_result"
    }
   ],
   "source": [
    "def rec(arr):\n",
    "    if len(arr) == 1:\n",
    "        return arr[0]\n",
    "    else:\n",
    "        return arr[0] - rec(arr[1:])\n",
    "    \n",
    "rec([1,2,3,4])"
   ]
  },
  {
   "cell_type": "code",
   "execution_count": 1,
   "metadata": {},
   "outputs": [
    {
     "name": "stdout",
     "output_type": "stream",
     "text": [
      "1\n",
      "1\n",
      "2\n",
      "3\n",
      "5\n",
      "8\n",
      "13\n",
      "21\n",
      "34\n"
     ]
    }
   ],
   "source": [
    "def fib_num(n):\n",
    "    if n <= 1:\n",
    "        return n \n",
    "    else:\n",
    "        return (fib_num(n-1) + fib_num(n -2))\n",
    "    \n",
    "for i in range(1,10):\n",
    "    print(fib_num(i))"
   ]
  },
  {
   "cell_type": "code",
   "execution_count": 6,
   "metadata": {},
   "outputs": [
    {
     "data": {
      "text/plain": [
       "55"
      ]
     },
     "execution_count": 6,
     "metadata": {},
     "output_type": "execute_result"
    }
   ],
   "source": [
    "# fibanaucci Iterative approach\n",
    "\n",
    "def iter_fib(n):\n",
    "    a,b = 1,1\n",
    "    for i in range(n -1):\n",
    "        a,b = b, a+b\n",
    "    return a\n",
    "\n",
    "iter_fib(10)"
   ]
  },
  {
   "cell_type": "markdown",
   "metadata": {},
   "source": [
    "# Merge Sort"
   ]
  },
  {
   "cell_type": "code",
   "execution_count": 47,
   "metadata": {},
   "outputs": [
    {
     "name": "stdout",
     "output_type": "stream",
     "text": [
      "True\n"
     ]
    },
    {
     "data": {
      "text/plain": [
       "[1, 2, 3, 6, 7, 8, 45, 97]"
      ]
     },
     "execution_count": 47,
     "metadata": {},
     "output_type": "execute_result"
    }
   ],
   "source": [
    "def merge_sort(arr):\n",
    "  if len(arr) <= 1:\n",
    "    return arr\n",
    "    \n",
    "  left, right = split(arr)\n",
    "  left_half = merge_sort(left)\n",
    "  right_half = merge_sort(right)\n",
    "\n",
    "  return merge(left_half, right_half)\n",
    "\n",
    "def split(arr):\n",
    "  mid = len(arr) // 2\n",
    "  left_half = arr[:mid]\n",
    "  right_half = arr[mid:]\n",
    "\n",
    "  return left_half, right_half\n",
    "\n",
    "def merge(left_half, right_half):\n",
    "  sorted_arr = []\n",
    "  i = 0 \n",
    "  j = 0 \n",
    "\n",
    "  while i < len(left_half) and j < len(right_half):\n",
    "    if left_half[i] < right_half[j]:\n",
    "      sorted_arr.append(left_half[i])\n",
    "      i += 1\n",
    "    else: \n",
    "      sorted_arr.append(right_half[j])\n",
    "      j += 1\n",
    "\n",
    "  while i < len(left_half):\n",
    "      sorted_arr.append(left_half[i])\n",
    "      i += 1\n",
    "\n",
    "  while j < len(right_half):\n",
    "      sorted_arr.append(right_half[j])\n",
    "      j += 1\n",
    "    \n",
    "  return sorted_arr\n",
    "\n",
    "\n",
    "def verify(arr):\n",
    "  if len(arr) <= 1:\n",
    "    print(True)\n",
    "  else: \n",
    "    return arr[0] < arr[1] and verify(arr[1:])\n",
    "\n",
    "verify(merge_sort([3,8,97,1,45,6,7,2]))\n",
    "merge_sort([3,8,97,1,45,6,7,2])\n"
   ]
  },
  {
   "cell_type": "code",
   "execution_count": 53,
   "metadata": {},
   "outputs": [
    {
     "data": {
      "text/plain": [
       "9"
      ]
     },
     "execution_count": 53,
     "metadata": {},
     "output_type": "execute_result"
    }
   ],
   "source": [
    "# Simple Recursive function\n",
    "num = 5\n",
    "\n",
    "def simple_recur(n):\n",
    "    if n == 1:\n",
    "        return n\n",
    "    return 2 + simple_recur(n -1)\n",
    "\n",
    "simple_recur(num)"
   ]
  },
  {
   "cell_type": "markdown",
   "metadata": {},
   "source": [
    "# Selection Sort Algorithm"
   ]
  },
  {
   "cell_type": "code",
   "execution_count": 67,
   "metadata": {},
   "outputs": [
    {
     "name": "stdout",
     "output_type": "stream",
     "text": [
      "[3, 12, 13, 14, 8, 0, 11, 7, 19, 16, 17, 6, 1, 10, 2, 9, 5, 18, 15, 4]\n",
      "[0, 1, 2, 3, 4, 5, 6, 7, 8, 9, 10, 11, 12, 13, 14, 15, 16, 17, 18, 19]\n"
     ]
    },
    {
     "data": {
      "text/plain": [
       "True"
      ]
     },
     "execution_count": 67,
     "metadata": {},
     "output_type": "execute_result"
    }
   ],
   "source": [
    "from random import shuffle\n",
    "\n",
    "def selection_sort(arr):\n",
    "    sorted_arr = []\n",
    "    for i in range(0, len(arr)):\n",
    "        index_to_move = index_of_min(arr)\n",
    "        sorted_arr.append(arr.pop(index_to_move))\n",
    "    return sorted_arr\n",
    "\n",
    "def index_of_min(arr):\n",
    "    min_index = 0\n",
    "    for i in range(1, len(arr)):\n",
    "        if arr[i] < arr[min_index]:\n",
    "            min_index = i\n",
    "    return min_index\n",
    "\n",
    "def verify(arr):\n",
    "    if len(arr) == 1:\n",
    "        return True\n",
    "    else:\n",
    "        return arr[0] < arr[1] and verify(arr[1:])\n",
    "\n",
    "sample_arr = [_ for _ in range(0, 20) ]\n",
    "shuffle(sample_arr)\n",
    "print(sample_arr)\n",
    "result = selection_sort(sample_arr)\n",
    "print(result)\n",
    "verify(result)\n"
   ]
  },
  {
   "cell_type": "markdown",
   "metadata": {},
   "source": [
    "# Bubble Sort\n",
    "### Bubble sort, as a result, has worst case runtime of O(n**2). The space complexity of bubble sort is O(1). All sorting operations involve swapping adjacent elements in the original input array, so no additional space is required."
   ]
  },
  {
   "cell_type": "code",
   "execution_count": 14,
   "metadata": {},
   "outputs": [
    {
     "name": "stdout",
     "output_type": "stream",
     "text": [
      "[1, 2, 4, 5, 7]\n"
     ]
    },
    {
     "data": {
      "text/plain": [
       "True"
      ]
     },
     "execution_count": 14,
     "metadata": {},
     "output_type": "execute_result"
    }
   ],
   "source": [
    "# Bubble Sort\n",
    "\n",
    "def bubble_sort(arr):\n",
    "      \"\"\"\n",
    "      Mutates lst so that it is sorted via swapping adjacent elements until\n",
    "      the entire lst is sorted.\n",
    "      \"\"\"\n",
    "\n",
    "      swapped = True\n",
    "\n",
    "      while swapped : \n",
    "        swapped = False\n",
    "        for i in range(len(arr)-1):\n",
    "            if arr[i] > arr[i + 1]: \n",
    "                #Swap adjacent element\n",
    "                arr[i], arr[i + 1] = arr[i +1], arr[i]\n",
    "                swapped = True \n",
    "\n",
    "def verify(arr): # Does not account for duplicate values \n",
    "  if len(arr) == 1:\n",
    "    return True \n",
    "  else:\n",
    "    return arr[0] < arr[1] and verify(arr[1:])\n",
    "\n",
    "a = [4,5,2,7,1]\n",
    "bubble_sort(a)\n",
    "print(a)\n",
    "verify(a)"
   ]
  },
  {
   "cell_type": "code",
   "execution_count": 23,
   "metadata": {},
   "outputs": [
    {
     "name": "stdout",
     "output_type": "stream",
     "text": [
      "[0, 0, 0, 0, 0, 0, 0]\n",
      "3\n",
      "4\n",
      "5\n",
      "6\n",
      "2\n",
      "1\n"
     ]
    },
    {
     "data": {
      "text/plain": [
       "[0, 1, 1, 1, 1, 1, 1]"
      ]
     },
     "execution_count": 23,
     "metadata": {},
     "output_type": "execute_result"
    }
   ],
   "source": [
    "b = [3,4,5,6,2,1]\n",
    "k = max(b)\n",
    "count = [0] * (k + 1)\n",
    "print(count)\n",
    "for elem in b: \n",
    "    print(elem)\n",
    "    count[elem] += 1\n",
    "\n",
    "count "
   ]
  },
  {
   "cell_type": "markdown",
   "metadata": {},
   "source": [
    "# Algorithm to count Inversion in an Array"
   ]
  },
  {
   "cell_type": "code",
   "execution_count": 54,
   "metadata": {},
   "outputs": [
    {
     "name": "stdout",
     "output_type": "stream",
     "text": [
      "21\n",
      "15\n",
      "10\n",
      "6\n",
      "3\n",
      "1\n",
      "0\n"
     ]
    }
   ],
   "source": [
    "# Count Inversion\n",
    "def count_inversion(arr):\n",
    "    if len(arr) == 1: \n",
    "        return 0\n",
    "    else:\n",
    "        midpoint = len(arr)//2\n",
    "        left = arr[:midpoint]\n",
    "        right = arr[midpoint:] \n",
    "\n",
    "        def count_split_inv(left, right): \n",
    "            i = j = ic = 0\n",
    "            d = []\n",
    "\n",
    "            for k in range(len(arr) -1):\n",
    "                if left[i] < right[j]:\n",
    "                    d.append(left[i])\n",
    "                    i += 1\n",
    "                else:\n",
    "                    d.append(right[j])\n",
    "                    ic += (len(left) - i) \n",
    "                    j += 1\n",
    "            return ic\n",
    "    return count_split_inv(left, right)\n",
    "   \n",
    "    \n",
    "print(count_inversion([1,3,5,7,9,11,13,2,4,6,8,10,12,14]))\n",
    "print(count_inversion([1,3,5,7,9,11,2,4,6,8,10,12]))                \n",
    "print(count_inversion([1,3,5,7,9,2,4,6,8,10])) \n",
    "print(count_inversion([1,3,5,7,2,4,6,8])) \n",
    "print(count_inversion([1,3,5,2,4,6])) \n",
    "print(count_inversion([1,3,2,4])) \n",
    "print(count_inversion([1,2]))\n"
   ]
  },
  {
   "cell_type": "code",
   "execution_count": 55,
   "metadata": {},
   "outputs": [
    {
     "data": {
      "text/plain": [
       "2407905288"
      ]
     },
     "execution_count": 55,
     "metadata": {},
     "output_type": "execute_result"
    }
   ],
   "source": [
    "def merge(arr, left, mid, right):\n",
    "    i = left\n",
    "    j = mid\n",
    "    k = 0\n",
    "    invCount = 0\n",
    "    temp = [0 for x in range(right - left + 1)]\n",
    " \n",
    "    while (i < mid) and (j <= right):\n",
    "        if arr[i] <= arr[j]:\n",
    "            temp[k] = arr[i]\n",
    "            k += 1\n",
    "            i += 1\n",
    " \n",
    "        else:\n",
    "            temp[k] = arr[j]\n",
    "            invCount += mid - i\n",
    "            k += 1\n",
    "            j += 1\n",
    " \n",
    "    while i < mid:\n",
    "        temp[k] = arr[i]\n",
    "        k += 1\n",
    "        i += 1\n",
    " \n",
    "    while j <= right:\n",
    "        temp[k] = arr[j]\n",
    "        k += 1\n",
    "        j += 1\n",
    " \n",
    "    k = 0\n",
    "    for i in range(left, right + 1):\n",
    "        arr[i] = temp[k]\n",
    "        k += 1\n",
    " \n",
    "    return invCount\n",
    " \n",
    " \n",
    "def mergeSort(arr, left, right):\n",
    "    invCount = 0\n",
    " \n",
    "    if right > left:\n",
    "        mid = (right + left) // 2\n",
    " \n",
    "        invCount = mergeSort(arr, left, mid)\n",
    "        invCount += mergeSort(arr, mid + 1, right)\n",
    "        invCount += merge(arr, left, mid + 1, right)\n",
    " \n",
    "    return invCount\n",
    " \n",
    " \n",
    "def getInversions(arr, n):\n",
    "    return mergeSort(arr, 0, n - 1)\n",
    "\n",
    "\n",
    "####\n",
    "#Read in text file \n",
    "text_file = open('input.txt', \"r\")\n",
    "\n",
    "#Converting file into list\n",
    "arr = [float(line.strip()) for line in text_file]\n",
    "text_file.close()\n",
    "\n",
    "n = len(arr)\n",
    "\n",
    "getInversions(arr, n)"
   ]
  },
  {
   "cell_type": "markdown",
   "metadata": {},
   "source": [
    "# Find the min munber in a given array "
   ]
  },
  {
   "cell_type": "code",
   "execution_count": 3,
   "metadata": {},
   "outputs": [
    {
     "data": {
      "text/plain": [
       "2"
      ]
     },
     "execution_count": 3,
     "metadata": {},
     "output_type": "execute_result"
    }
   ],
   "source": [
    "def min_num(arr):\n",
    "    min_indx = 0\n",
    "    for i in range(1, len(arr)):\n",
    "        if arr[i] < arr[min_indx]:\n",
    "            min_indx = i\n",
    "    return arr[min_indx] \n",
    "\n",
    "min_num([3,2,5,8,6])"
   ]
  },
  {
   "cell_type": "code",
   "execution_count": 34,
   "metadata": {},
   "outputs": [
    {
     "name": "stdout",
     "output_type": "stream",
     "text": [
      "3\n"
     ]
    }
   ],
   "source": [
    "def rec_min_num(arr):\n",
    "    if len(arr) == 1: \n",
    "        return arr[0]\n",
    "    ele = arr.pop()\n",
    "    min = 0 \n",
    "    if ele < min:\n",
    "        return rec_min_num(arr[1:])\n",
    "    return rec_min_num(arr[1:])\n",
    "    \n",
    "print(rec_min_num([1,2,3,5,4]))"
   ]
  },
  {
   "cell_type": "markdown",
   "metadata": {},
   "source": [
    "# Find the max number in a given array "
   ]
  },
  {
   "cell_type": "code",
   "execution_count": 4,
   "metadata": {},
   "outputs": [
    {
     "data": {
      "text/plain": [
       "8"
      ]
     },
     "execution_count": 4,
     "metadata": {},
     "output_type": "execute_result"
    }
   ],
   "source": [
    "def max_num(arr):\n",
    "    max_indx = 0\n",
    "    for i in range(1, len(arr)):\n",
    "        if arr[i] > arr[max_indx]:\n",
    "            max_indx = i\n",
    "    return arr[max_indx]\n",
    "\n",
    "max_num([3,2,5,8,6])\n"
   ]
  },
  {
   "cell_type": "code",
   "execution_count": 65,
   "metadata": {},
   "outputs": [
    {
     "data": {
      "text/plain": [
       "720"
      ]
     },
     "execution_count": 65,
     "metadata": {},
     "output_type": "execute_result"
    }
   ],
   "source": [
    "# rec factorial \n",
    "\n",
    "def rec_fact(n):\n",
    "    if n <= 1: \n",
    "        return n\n",
    "    else: \n",
    "        return n * rec_fact(n -1)\n",
    "\n",
    "rec_fact(6)"
   ]
  },
  {
   "cell_type": "markdown",
   "metadata": {},
   "source": [
    "# Matrix Multiplication \n",
    "\n",
    "### Recursive Matrix Multiplication Algorithm \n",
    "\n",
    "Time Complexity: O(M*M*N), as we are using nested loop traversing, M*M*N.\n",
    "Auxiliary Space: O(M*N), as we are using a result matrix which is extra space.\n",
    "\n",
    "Method 4:Using recursive matrix multiplication:\n",
    "\n",
    "Algorithm:\n",
    "\n",
    "    Check if the dimensions of the two input matrices are valid for multiplication. \n",
    "    If the number of columns in the first matrix does not equal the number of rows in the second matrix, then they cannot be multiplied. \n",
    "    In this case, raise an error or return a None object.\n",
    "    Check if the matrices are of size 1×1. \n",
    "    If they are, multiply their elements and return the result.\n",
    "    If the matrices are not of size 1×1, divide each matrix into four submatrices of equal size.\n",
    "    Recursively multiply the submatrices using the same algorithm, until each submatrix is of size 1×1.\n",
    "    Compute the product of the resulting submatrices using the formula:\n",
    "    result = [A11B11 + A12B21, A11B12 + A12B22, A21B11 + A22B21, A21B12 + A22B22]\n",
    "    Return the resulting matrix."
   ]
  },
  {
   "cell_type": "code",
   "execution_count": 12,
   "metadata": {},
   "outputs": [
    {
     "data": {
      "text/plain": [
       "array([[114, 160,  60,  27],\n",
       "       [ 74,  97,  73,  14],\n",
       "       [119, 157, 112,  23]])"
      ]
     },
     "execution_count": 12,
     "metadata": {},
     "output_type": "execute_result"
    }
   ],
   "source": [
    "import numpy as np \n",
    "\n",
    "a1 = np.array([[12, 7, 3], [4, 5, 6], [7, 8, 9]])\n",
    "a2 = np.array([[5, 8, 1, 2], [6, 7, 3, 0], [4, 5, 9, 1]])\n",
    "\n",
    "a1.dot(a2)"
   ]
  },
  {
   "cell_type": "code",
   "execution_count": 18,
   "metadata": {},
   "outputs": [
    {
     "name": "stdout",
     "output_type": "stream",
     "text": [
      "[19, 22]\n",
      "[43, 50]\n"
     ]
    }
   ],
   "source": [
    "# Using recursive matrix multiplication\n",
    "\n",
    "def matrix_multiply_recursive(A, B):\n",
    "\n",
    "    # check if matrices can be multiplied\n",
    "    if len(A[0]) != len(B):\n",
    "        raise ValueError(\"Invalid matrix dimensions\")\n",
    "    \n",
    "    # initialize result matrix with zeros\n",
    "    result = [[0 for j in range(len(B[0]))] for i in range(len(A))]\n",
    "\n",
    "    # recursive multiplication of matrices\n",
    "    def multiply(A, B, result, i, j, k):\n",
    "        if i >= len(A):\n",
    "            return \n",
    "        if j >= len(B[0]):\n",
    "            return multiply(A,B,result,i+1,0,0)\n",
    "        if k >= len(B):\n",
    "            return multiply(A,B,result,i,j+1,0)\n",
    "        result[i][j] += A[i][k] * B[k][j]\n",
    "        multiply(A,B,result,i,j,k+1)\n",
    "\n",
    "    # perform matrix multiplication \n",
    "    multiply(A,B,result,0,0,0)\n",
    "    return result\n",
    "\n",
    "\n",
    "# example usage\n",
    "#A = [[12, 7, 3], [4, 5, 6], [7, 8, 9]]\n",
    "#B = [[5, 8, 1, 2], [6, 7, 3, 0], [4, 5, 9, 1]]\n",
    "A = [[1,2],[3,4]]\n",
    "B  = [[5,6],[7,8]]\n",
    "result = matrix_multiply_recursive(A,B)\n",
    "for row in result:\n",
    "    print(row)"
   ]
  },
  {
   "cell_type": "markdown",
   "metadata": {},
   "source": [
    "# Karatsuba Multiplication Algorithm\n",
    "\n",
    "### Pseudocode\n",
    "procedure karatsuba(num1, num2)\n",
    "\n",
    "  if (num1 < 10) or (num2 < 10)\n",
    "\n",
    "    return num1*num2\n",
    "\n",
    "  /* calculates the size of the numbers */\n",
    "\n",
    "  m = max(size_base10(num1), size_base10(num2))\n",
    "\n",
    "  m2 = m/2\n",
    "\n",
    "  /* split the digit sequences about the middle */\n",
    "\n",
    "  high1, low1 = split_at(num1, m2)\n",
    "\n",
    "  high2, low2 = split_at(num2, m2)\n",
    "\n",
    "  /* 3 calls made to numbers approximately half the size */\n",
    "\n",
    "  z0 = karatsuba(low1,low2)\n",
    "\n",
    "  z1 = karatsuba((low1+high1),(low2+high2))\n",
    "\n",
    "  z2 = karatsuba(high1,high2)\n",
    "  \n",
    "  return (z2*10^(2*m2))+((z1-z2-z0)*10^(m2))+(z0)"
   ]
  },
  {
   "cell_type": "code",
   "execution_count": 32,
   "metadata": {},
   "outputs": [
    {
     "data": {
      "text/plain": [
       "8539734222673567065463550869546574495034888535765114961879601127067743044893204848617875072216249073013374895871952806582723184"
      ]
     },
     "execution_count": 32,
     "metadata": {},
     "output_type": "execute_result"
    }
   ],
   "source": [
    "def karatsuba(x,y):\n",
    "    \"\"\"\n",
    "    Function to multiply 2 numbers in a more efficient manner than the grade school algorithm    \n",
    "    \"\"\"\n",
    "    if len(str(x)) == 1 or len(str(y)) == 1:\n",
    "        return x*y\n",
    "    else: \n",
    "\n",
    "        m = max(len(str(x)), len(str(y)))\n",
    "        m2 = m // 2\n",
    "\n",
    "        a = x // 10**(m2)\n",
    "        b = x % 10**(m2)\n",
    "        c = y // 10**(m2)\n",
    "        d = y % 10**(m2)\n",
    "\n",
    "        z0 = karatsuba(b,d)\n",
    "        z1 = karatsuba((a+b), (c+d))\n",
    "        z2 = karatsuba(a,c)\n",
    "\n",
    "        return (z2 * 10**(2*m2)) + ((z1 - z2- z0) * 10**(m2)) + (z0)\n",
    "\n",
    "\n",
    "\n",
    "    \n",
    "\n",
    "#karatsuba(5678, 1234)\n",
    "karatsuba(\n",
    "    3141592653589793238462643383279502884197169399375105820974944592,\n",
    "    2718281828459045235360287471352662497757247093699959574966967627\n",
    ")"
   ]
  },
  {
   "cell_type": "code",
   "execution_count": 5,
   "metadata": {},
   "outputs": [
    {
     "data": {
      "text/plain": [
       "4"
      ]
     },
     "execution_count": 5,
     "metadata": {},
     "output_type": "execute_result"
    }
   ],
   "source": [
    "# Given an integer array nums, find a subarray that has the largest product, and return the product.\n",
    "def maxProd(nums):\n",
    "    largest_product = float('-inf')\n",
    "    most_pos, most_neg = 1, 1\n",
    "\n",
    "    for num in nums: \n",
    "        most_pos, most_neg = max(num,most_pos*num,most_neg*num), min(num,most_pos*num,most_neg*num)\n",
    "        largest_product = max(largest_product,most_pos,most_neg)\n",
    "    return largest_product\n",
    "\n",
    "\n",
    "\n",
    "#maxProd([2,3,-2,4])\n",
    "maxProd([3,-1,4])"
   ]
  },
  {
   "cell_type": "code",
   "execution_count": 133,
   "metadata": {},
   "outputs": [
    {
     "data": {
      "text/plain": [
       "4"
      ]
     },
     "execution_count": 133,
     "metadata": {},
     "output_type": "execute_result"
    }
   ],
   "source": [
    "arr = [1,2,5]\n",
    "\n",
    "def my_func(arr, amount):\n",
    "\n",
    "  new_amount = amount\n",
    "  count = 0\n",
    "  how_many_times = {}\n",
    "  res = 0\n",
    "  sorted_arr = sorted(arr)\n",
    "  for i in sorted_arr[::-1]:\n",
    "    if new_amount // i > 0:\n",
    "      how_many_times[i] = new_amount // i\n",
    "      new_amount = new_amount % i\n",
    "  for k,v in how_many_times.items():\n",
    "    count += int(k) * int(v)\n",
    "  \n",
    "  if count == amount:\n",
    "    for k in how_many_times:\n",
    "      res += how_many_times[k]\n",
    "  else:\n",
    "    res = -1\n",
    "  return res\n",
    "\n",
    "      \n",
    "      \n",
    "my_func([2,5,10,1],27)\n",
    "\n",
    "\n",
    "  \n",
    "      \n",
    "      \n",
    "    "
   ]
  },
  {
   "cell_type": "code",
   "execution_count": 141,
   "metadata": {},
   "outputs": [
    {
     "data": {
      "text/plain": [
       "[2, 1, 1, 0]"
      ]
     },
     "execution_count": 141,
     "metadata": {},
     "output_type": "execute_result"
    }
   ],
   "source": [
    "def my_func2(arr):\n",
    "    i = 0\n",
    "    j = len(arr) -1\n",
    "    count = 0\n",
    "    res = []\n",
    "\n",
    "    for k in range(len(arr)):\n",
    "        \n",
    "        while i < j:\n",
    "          if arr[i] > arr[j]:\n",
    "            count += 1\n",
    "          j -= 1\n",
    "        res.append(count)\n",
    "        i += 1\n",
    "        j = len(arr) -1\n",
    "        count = 0\n",
    "    return res   \n",
    "\n",
    "\n",
    "\n",
    "nums = [5,2,6,1]\n",
    "\n",
    "my_func2(nums)"
   ]
  },
  {
   "cell_type": "code",
   "execution_count": 160,
   "metadata": {},
   "outputs": [
    {
     "data": {
      "text/plain": [
       "True"
      ]
     },
     "execution_count": 160,
     "metadata": {},
     "output_type": "execute_result"
    }
   ],
   "source": [
    "def isPalindrome(s):\n",
    "        \n",
    "    if len(s) <= 1 or len(s) >= 2 * (10**5):\n",
    "        return True\n",
    "\n",
    "        \n",
    "    alnum_list = []\n",
    "        \n",
    "    for c in s.lower(): \n",
    "        if c.isalnum():\n",
    "            alnum_list.append(c)\n",
    "        \n",
    "    alnum_string = \"\".join(alnum_list)\n",
    "    r_alnum_string = \"\".join(reversed(alnum_string))\n",
    "    \n",
    "   \n",
    "        \n",
    "    if alnum_string != r_alnum_string:\n",
    "        return False\n",
    "    else:\n",
    "        return True\n",
    "\n",
    "isPalindrome(' ')"
   ]
  },
  {
   "cell_type": "code",
   "execution_count": 3,
   "metadata": {},
   "outputs": [
    {
     "data": {
      "text/plain": [
       "True"
      ]
     },
     "execution_count": 3,
     "metadata": {},
     "output_type": "execute_result"
    }
   ],
   "source": [
    "def leetcode_is_palindrome(s):\n",
    "\n",
    "    first = 0 \n",
    "    last = len(s) - 1\n",
    "\n",
    "    while first < last:\n",
    "        if s[first] != s[last]:\n",
    "            return False\n",
    "        first +=1\n",
    "        last -= 1\n",
    "    return True\n",
    "\n",
    "\n",
    "leetcode_is_palindrome(' ')"
   ]
  },
  {
   "cell_type": "code",
   "execution_count": 8,
   "metadata": {},
   "outputs": [
    {
     "data": {
      "text/plain": [
       "True"
      ]
     },
     "execution_count": 8,
     "metadata": {},
     "output_type": "execute_result"
    }
   ],
   "source": [
    "\"\"\"\n",
    "Given a sorted array of unique integers and a target integer, return true if there exists a pair of numbers that sum to target, false otherwise. This problem is similar to Two Sum. (In Two Sum, the input is not sorted).\n",
    "\n",
    "For example, given nums = [1, 2, 4, 6, 8, 9, 14, 15] and target = 13, return true because 4 + 9 = 13. \n",
    "\"\"\"\n",
    "def lc_check_for_target(arr, num):\n",
    "\n",
    "    first = 0 \n",
    "    last = len(arr) -1\n",
    "\n",
    "    while first < last:\n",
    "        if arr[first] + arr[last] == num:\n",
    "            return True\n",
    "        \n",
    "        if arr[first] + arr[last] > num:\n",
    "            last -= 1\n",
    "        else:\n",
    "            first += 1\n",
    "    return False\n",
    "\n",
    "\n",
    "nums = [1, 2, 4, 6, 8, 9, 14, 15] \n",
    "target = 13\n",
    "\n",
    "lc_check_for_target(nums, target)\n"
   ]
  },
  {
   "cell_type": "code",
   "execution_count": 11,
   "metadata": {},
   "outputs": [
    {
     "data": {
      "text/plain": [
       "[1, 2, 3, 3, 4, 4, 5, 6]"
      ]
     },
     "execution_count": 11,
     "metadata": {},
     "output_type": "execute_result"
    }
   ],
   "source": [
    "\"\"\"\n",
    " Given two sorted integer arrays arr1 and arr2, return a new array that combines both of them and is also sorted. \n",
    "\"\"\"\n",
    "\n",
    "def lc_combine(arr1, arr2):\n",
    "\n",
    "    i = j = 0 \n",
    "    ans = []\n",
    "\n",
    "    while i < len(arr1) and j < len(arr2):\n",
    "        if arr1[i] < arr2[j]:\n",
    "            ans.append(arr1[i])\n",
    "            i += 1  \n",
    "        else:\n",
    "            ans.append(arr2[j])\n",
    "            j +=1 \n",
    "\n",
    "    while i < len(arr1):\n",
    "        ans.append(arr1[i])\n",
    "        i += 1\n",
    "\n",
    "    while j < len(arr2):\n",
    "        ans.append(arr2[j])\n",
    "        j += 1\n",
    "\n",
    "    return ans\n",
    "\n",
    "lc_combine([3,4,5,6], [1,2,3,4])\n",
    " "
   ]
  },
  {
   "cell_type": "code",
   "execution_count": 13,
   "metadata": {},
   "outputs": [
    {
     "data": {
      "text/plain": [
       "False"
      ]
     },
     "execution_count": 13,
     "metadata": {},
     "output_type": "execute_result"
    }
   ],
   "source": [
    "\"\"\"\n",
    "Given two strings s and t, return true if s is a subsequence of t, or false otherwise.\n",
    "A subsequence of a string is a sequence of characters that can be obtained by deleting some (or none) of the \n",
    "characters from the original string, while maintaining the relative order of the remaining characters. \n",
    "For example, \"ace\" is a subsequence of \"abcde\" while \"aec\" is not.  \n",
    "\"\"\"\n",
    "\n",
    "def lc_is_subsequence(s,t):\n",
    "    i = j = 0\n",
    "\n",
    "    while i < len(s) and j < len(t):\n",
    "        if s[i] == t[j]:\n",
    "            i +=1\n",
    "        j += 1\n",
    "\n",
    "    return i == len(s)\n",
    "\n",
    "lc_is_subsequence('aec', 'abcde')"
   ]
  },
  {
   "cell_type": "code",
   "execution_count": 22,
   "metadata": {},
   "outputs": [
    {
     "data": {
      "text/plain": [
       "3"
      ]
     },
     "execution_count": 22,
     "metadata": {},
     "output_type": "execute_result"
    }
   ],
   "source": [
    "def func(num):\n",
    "    if num < 0:\n",
    "        raise ValueError\n",
    "    \n",
    "    if num ==1 :\n",
    "        return 1\n",
    "    \n",
    "    low = 0 \n",
    "    high = 1 + (num//2)\n",
    "\n",
    "    while low +1 < high:\n",
    "        mid = low +(high-low)//2\n",
    "        square = mid ** 2\n",
    "        if square == num:\n",
    "            return mid\n",
    "        elif square < num:\n",
    "            low = mid\n",
    "        else:\n",
    "            high = mid\n",
    "    return low \n",
    "\n",
    "func(10)\n"
   ]
  },
  {
   "cell_type": "code",
   "execution_count": 33,
   "metadata": {},
   "outputs": [
    {
     "data": {
      "text/plain": [
       "[[-2, -2]]"
      ]
     },
     "execution_count": 33,
     "metadata": {},
     "output_type": "execute_result"
    }
   ],
   "source": [
    "def myfunc(nums, lower, upper):\n",
    "    res = []\n",
    "    if len(nums) == 0:\n",
    "        res.append([lower,upper])\n",
    "        return res\n",
    "    \n",
    "    if lower < nums[0]:\n",
    "        res.append([lower, nums[0] -1])\n",
    "            \n",
    "    for i in range(len(nums)-1):\n",
    "        if nums[i+1] - nums[i] > 1:\n",
    "            res.append([nums[i] + 1,nums[i+1] -1])\n",
    "    if upper > nums[-1]:\n",
    "        res.append([nums[-1] +1, upper])\n",
    "    return res\n",
    "    \n",
    "myfunc([-1],-2,-1)"
   ]
  },
  {
   "cell_type": "code",
   "execution_count": 55,
   "metadata": {},
   "outputs": [
    {
     "data": {
      "text/plain": [
       "'13:49'"
      ]
     },
     "execution_count": 55,
     "metadata": {},
     "output_type": "execute_result"
    }
   ],
   "source": [
    "def myfunc2(t):\n",
    "    t = list(t.replace(':',\"\"))\n",
    "    t.sort()\n",
    "    \n",
    "    return \"\".join(t[:2]) + \":\" + \"\".join(t[2:])\n",
    "\n",
    "\n",
    "\n",
    "myfunc2(\"19:34\")"
   ]
  },
  {
   "cell_type": "code",
   "execution_count": 68,
   "metadata": {},
   "outputs": [
    {
     "name": "stdout",
     "output_type": "stream",
     "text": [
      "9\n",
      "8\n",
      "7\n"
     ]
    },
    {
     "ename": "KeyboardInterrupt",
     "evalue": "",
     "output_type": "error",
     "traceback": [
      "\u001b[0;31m---------------------------------------------------------------------------\u001b[0m",
      "\u001b[0;31mKeyboardInterrupt\u001b[0m                         Traceback (most recent call last)",
      "\u001b[1;32m/home/devopslab/github/python/algorithms.ipynb Cell 46\u001b[0m line \u001b[0;36m5\n\u001b[1;32m     <a href='vscode-notebook-cell:/home/devopslab/github/python/algorithms.ipynb#Y100sZmlsZQ%3D%3D?line=54'>55</a>\u001b[0m y\u001b[39m.\u001b[39mnext \u001b[39m=\u001b[39m z\n\u001b[1;32m     <a href='vscode-notebook-cell:/home/devopslab/github/python/algorithms.ipynb#Y100sZmlsZQ%3D%3D?line=56'>57</a>\u001b[0m trav_list(x)\n\u001b[0;32m---> <a href='vscode-notebook-cell:/home/devopslab/github/python/algorithms.ipynb#Y100sZmlsZQ%3D%3D?line=57'>58</a>\u001b[0m ll_reverse(x)\n\u001b[1;32m     <a href='vscode-notebook-cell:/home/devopslab/github/python/algorithms.ipynb#Y100sZmlsZQ%3D%3D?line=58'>59</a>\u001b[0m trav_list(x)\n",
      "\u001b[1;32m/home/devopslab/github/python/algorithms.ipynb Cell 46\u001b[0m line \u001b[0;36m4\n\u001b[1;32m     <a href='vscode-notebook-cell:/home/devopslab/github/python/algorithms.ipynb#Y100sZmlsZQ%3D%3D?line=36'>37</a>\u001b[0m current \u001b[39m=\u001b[39m head\n\u001b[1;32m     <a href='vscode-notebook-cell:/home/devopslab/github/python/algorithms.ipynb#Y100sZmlsZQ%3D%3D?line=37'>38</a>\u001b[0m prev \u001b[39m=\u001b[39m \u001b[39mNone\u001b[39;00m\n\u001b[0;32m---> <a href='vscode-notebook-cell:/home/devopslab/github/python/algorithms.ipynb#Y100sZmlsZQ%3D%3D?line=40'>41</a>\u001b[0m \u001b[39mwhile\u001b[39;00m current:\n\u001b[1;32m     <a href='vscode-notebook-cell:/home/devopslab/github/python/algorithms.ipynb#Y100sZmlsZQ%3D%3D?line=41'>42</a>\u001b[0m    nextnode \u001b[39m=\u001b[39m current\u001b[39m.\u001b[39mnext\n\u001b[1;32m     <a href='vscode-notebook-cell:/home/devopslab/github/python/algorithms.ipynb#Y100sZmlsZQ%3D%3D?line=42'>43</a>\u001b[0m    current\u001b[39m.\u001b[39mnext \u001b[39m=\u001b[39m prev\n",
      "\u001b[0;31mKeyboardInterrupt\u001b[0m: "
     ]
    }
   ],
   "source": [
    "# Creating the node class\n",
    "class Node:\n",
    "    def __init__(self,val):\n",
    "        self.val = val \n",
    "        self.next = None\n",
    "\n",
    "# Creating the linked list\n",
    "def create_linked_list( ):\n",
    "    head = point = Node(0)\n",
    "    for i in range(6):\n",
    "        point.next = Node(i)\n",
    "        point = point.next\n",
    "    return head.next\n",
    "\n",
    "h1 = create_linked_list()\n",
    "\n",
    "# Traversing a Singly Linked List\n",
    "def trav_list(head):\n",
    "    current = head \n",
    "    while current:\n",
    "        print(current.val)\n",
    "        current = current.next\n",
    "\n",
    "# Searching a Singly Linked List\n",
    "def search_list(head, key):\n",
    "    current = head\n",
    "\n",
    "    while current:\n",
    "        if current.val == key:\n",
    "            return True \n",
    "        else:\n",
    "            current = current.next\n",
    "    return None\n",
    "\n",
    "\n",
    "def ll_reverse(head):\n",
    "    current = head\n",
    "    prev = None\n",
    "    \n",
    "\n",
    "    while current:\n",
    "       nextnode = current.next\n",
    "       current.next = prev\n",
    "       \n",
    "       prev = current\n",
    "       current = nextnode\n",
    "      \n",
    "       current = prev\n",
    "\n",
    "x = Node(9)\n",
    "y = Node(8)\n",
    "z = Node(7)\n",
    "\n",
    "x.next = y\n",
    "y.next = z\n",
    "\n",
    "trav_list(x)\n",
    "ll_reverse(x)\n",
    "trav_list(x)"
   ]
  }
 ],
 "metadata": {
  "kernelspec": {
   "display_name": "Python 3",
   "language": "python",
   "name": "python3"
  },
  "language_info": {
   "codemirror_mode": {
    "name": "ipython",
    "version": 3
   },
   "file_extension": ".py",
   "mimetype": "text/x-python",
   "name": "python",
   "nbconvert_exporter": "python",
   "pygments_lexer": "ipython3",
   "version": "3.11.5"
  },
  "orig_nbformat": 4
 },
 "nbformat": 4,
 "nbformat_minor": 2
}

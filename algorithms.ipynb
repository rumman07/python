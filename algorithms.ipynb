{
 "cells": [
  {
   "cell_type": "markdown",
   "metadata": {},
   "source": [
    "# Linear search algorithm"
   ]
  },
  {
   "cell_type": "code",
   "execution_count": 1,
   "metadata": {},
   "outputs": [
    {
     "name": "stdout",
     "output_type": "stream",
     "text": [
      "Found at position:  3\n"
     ]
    }
   ],
   "source": [
    "values = [19,12,34,112,115,567]\n",
    "limit = 100\n",
    "pos = 0 \n",
    "found = False \n",
    "\n",
    "while pos < len(values) and not found:\n",
    "    if values[pos] > limit:\n",
    "        found = True\n",
    "    else: \n",
    "        pos += 1\n",
    "if found: \n",
    "    print(\"Found at position: \", pos)\n",
    "else: \n",
    "    print(\"Not found.\")"
   ]
  },
  {
   "cell_type": "code",
   "execution_count": 1,
   "metadata": {},
   "outputs": [
    {
     "name": "stdout",
     "output_type": "stream",
     "text": [
      "Target found at index:  6\n",
      "Target Not found in list\n"
     ]
    }
   ],
   "source": [
    "def linear_search(arr, target):\n",
    "    for i,v in enumerate(arr):\n",
    "        if v == target:\n",
    "            return i\n",
    "    return None\n",
    "\n",
    "def verify(index):\n",
    "    if index is not None:\n",
    "        print(\"Target found at index: \", index)\n",
    "    else: \n",
    "        print(\"Target Not found in list\")\n",
    "\n",
    "numbers = [1,2,3,4,5,6,7,8,9,10]\n",
    "\n",
    "result1 = linear_search(numbers, 7)\n",
    "result2 = linear_search(numbers, 17)\n",
    "verify(result1)\n",
    "verify(result2)\n"
   ]
  },
  {
   "cell_type": "markdown",
   "metadata": {},
   "source": [
    "# Binary Search"
   ]
  },
  {
   "cell_type": "code",
   "execution_count": 6,
   "metadata": {},
   "outputs": [
    {
     "name": "stdout",
     "output_type": "stream",
     "text": [
      "The numbers list is:  [1, 2, 3, 4, 5, 6, 7, 8, 9, 10, 11, 12, 13, 14, 15, 16, 17, 18, 19, 20, 21, 22, 23, 24, 25]\n",
      "Target found at index:  5\n",
      "Target not found in list\n"
     ]
    }
   ],
   "source": [
    "def binary_search(arr, target):\n",
    "\n",
    "    first = 0\n",
    "    last = len(arr) -1\n",
    "\n",
    "    while first <= last: \n",
    "        midpoint = (first + last)//2\n",
    "\n",
    "        if arr[midpoint] == target:\n",
    "            return midpoint\n",
    "        elif arr[midpoint] < target: \n",
    "            first = midpoint +1\n",
    "        else:\n",
    "            last = midpoint -1\n",
    "    return None\n",
    "\n",
    "def verify(index):\n",
    "\n",
    "    if index is not None: \n",
    "        print(\"Target found at index: \", index)\n",
    "    else: \n",
    "        print(\"Target not found in list\")\n",
    "\n",
    "numbers = [n for n in range(1, 26)]\n",
    "print('The numbers list is: ', numbers)\n",
    "\n",
    "result1 = binary_search(numbers, 6)\n",
    "verify(result1)\n",
    "\n",
    "result2 = binary_search(numbers, 86)\n",
    "verify(result2)"
   ]
  },
  {
   "cell_type": "markdown",
   "metadata": {},
   "source": [
    "# Recursion function is the one that calls itself. \n",
    "\n",
    "# Recursive Binary Search"
   ]
  },
  {
   "cell_type": "code",
   "execution_count": 8,
   "metadata": {},
   "outputs": [
    {
     "name": "stdout",
     "output_type": "stream",
     "text": [
      "Target found:  True\n",
      "Target found:  False\n"
     ]
    }
   ],
   "source": [
    "def recursive_binary_search(arr, target):\n",
    "\n",
    "    # Step 1 of a recursive function: The base case \n",
    "    if len(arr) == 0:\n",
    "        return False\n",
    "    else:\n",
    "        midpoint = len(arr)//2\n",
    "\n",
    "        if arr[midpoint] == target:\n",
    "            return True\n",
    "        else:\n",
    "            if arr[midpoint] < target:\n",
    "                       # Step 2 of a recursive function: Call the same function: preceeding the return keyword\n",
    "                                               # Step 3 of a recursive function: change the input to the function\n",
    "                return recursive_binary_search(arr[midpoint+1:], target)\n",
    "            else:\n",
    "                return recursive_binary_search(arr[:midpoint-1], target)\n",
    "            \n",
    "def verify(result):\n",
    "    print(\"Target found: \", result)\n",
    "\n",
    "values = [ u for u in range(1,26)]\n",
    "\n",
    "result = recursive_binary_search(values, 13)\n",
    "verify(result)\n",
    "\n",
    "result = recursive_binary_search(values, 50)\n",
    "verify(result)\n"
   ]
  },
  {
   "cell_type": "markdown",
   "metadata": {},
   "source": [
    "# Recursive function example 2"
   ]
  },
  {
   "cell_type": "code",
   "execution_count": 13,
   "metadata": {},
   "outputs": [
    {
     "name": "stdout",
     "output_type": "stream",
     "text": [
      "The total is:  10\n"
     ]
    }
   ],
   "source": [
    "def sum_values(arr):\n",
    "    # Step 1: Base case\n",
    "    if len(arr) == 1:\n",
    "        return arr[0]\n",
    "    else:\n",
    "                        # Step 2: Calling the same function within the function preceeding the return keyword\n",
    "                                   # Step 3: Changing the value of the input to the function call\n",
    "        return arr[0] + sum_values(arr[1:])\n",
    "    \n",
    "def verify(result):\n",
    "    print(\"The total is: \", result)\n",
    "\n",
    "numbers = [1,2,3,4]\n",
    "\n",
    "result = sum_values(numbers)\n",
    "verify(result)"
   ]
  },
  {
   "cell_type": "code",
   "execution_count": 2,
   "metadata": {},
   "outputs": [
    {
     "data": {
      "text/plain": [
       "-2"
      ]
     },
     "execution_count": 2,
     "metadata": {},
     "output_type": "execute_result"
    }
   ],
   "source": [
    "def rec(arr):\n",
    "    if len(arr) == 1:\n",
    "        return arr[0]\n",
    "    else:\n",
    "        return arr[0] - rec(arr[1:])\n",
    "    \n",
    "rec([1,2,3,4])"
   ]
  },
  {
   "cell_type": "code",
   "execution_count": 12,
   "metadata": {},
   "outputs": [
    {
     "name": "stdout",
     "output_type": "stream",
     "text": [
      "1\n",
      "1\n",
      "2\n",
      "3\n",
      "5\n",
      "8\n",
      "13\n",
      "21\n",
      "34\n"
     ]
    }
   ],
   "source": [
    "def fib_num(n):\n",
    "    if n <= 1:\n",
    "        return n \n",
    "    else:\n",
    "        return (fib_num(n-1) + fib_num(n -2))\n",
    "    \n",
    "for i in range(1,10):\n",
    "    print(fib_num(i))"
   ]
  },
  {
   "cell_type": "markdown",
   "metadata": {},
   "source": [
    "# Merge Sort"
   ]
  },
  {
   "cell_type": "code",
   "execution_count": 19,
   "metadata": {},
   "outputs": [
    {
     "name": "stdout",
     "output_type": "stream",
     "text": [
      "True\n"
     ]
    },
    {
     "data": {
      "text/plain": [
       "[1, 2, 3, 6, 7, 8, 45, 97]"
      ]
     },
     "execution_count": 19,
     "metadata": {},
     "output_type": "execute_result"
    }
   ],
   "source": [
    "def merge_sort(arr):\n",
    "  if len(arr) <= 1:\n",
    "    return arr\n",
    "    \n",
    "  left, right = split(arr)\n",
    "  left_half = merge_sort(left)\n",
    "  right_half = merge_sort(right)\n",
    "\n",
    "  return merge(left_half, right_half)\n",
    "\n",
    "def split(arr):\n",
    "  mid = len(arr) // 2\n",
    "  left_half = arr[:mid]\n",
    "  right_half = arr[mid:]\n",
    "\n",
    "  return left_half, right_half\n",
    "\n",
    "def merge(left_half, right_half):\n",
    "  sorted_arr = []\n",
    "  i = 0 \n",
    "  j = 0 \n",
    "\n",
    "  while i < len(left_half) and j < len(right_half):\n",
    "    if left_half[i] < right_half[j]:\n",
    "      sorted_arr.append(left_half[i])\n",
    "      i += 1\n",
    "    else: \n",
    "      sorted_arr.append(right_half[j])\n",
    "      j += 1\n",
    "\n",
    "  while i < len(left_half):\n",
    "      sorted_arr.append(left_half[i])\n",
    "      i += 1\n",
    "\n",
    "  while j < len(right_half):\n",
    "      sorted_arr.append(right_half[j])\n",
    "      j += 1\n",
    "    \n",
    "  return sorted_arr\n",
    "\n",
    "\n",
    "def verify(arr):\n",
    "  if len(arr) <= 1:\n",
    "    print(True)\n",
    "  else: \n",
    "    return arr[0] < arr[1] and verify(arr[1:])\n",
    "\n",
    "verify(merge_sort([3,8,97,1,45,6,7,2]))\n",
    "merge_sort([3,8,97,1,45,6,7,2])\n"
   ]
  },
  {
   "cell_type": "code",
   "execution_count": 34,
   "metadata": {},
   "outputs": [
    {
     "data": {
      "text/plain": [
       "9"
      ]
     },
     "execution_count": 34,
     "metadata": {},
     "output_type": "execute_result"
    }
   ],
   "source": [
    "# Simple Recursive function\n",
    "num = 5\n",
    "\n",
    "def simple_recur(n):\n",
    "    if n == 1:\n",
    "        return n\n",
    "    \n",
    "    return 2 + simple_recur(n -1)\n",
    "\n",
    "simple_recur(num)"
   ]
  },
  {
   "cell_type": "markdown",
   "metadata": {},
   "source": [
    "# Selection Sort Algorithm"
   ]
  },
  {
   "cell_type": "code",
   "execution_count": 67,
   "metadata": {},
   "outputs": [
    {
     "name": "stdout",
     "output_type": "stream",
     "text": [
      "[3, 12, 13, 14, 8, 0, 11, 7, 19, 16, 17, 6, 1, 10, 2, 9, 5, 18, 15, 4]\n",
      "[0, 1, 2, 3, 4, 5, 6, 7, 8, 9, 10, 11, 12, 13, 14, 15, 16, 17, 18, 19]\n"
     ]
    },
    {
     "data": {
      "text/plain": [
       "True"
      ]
     },
     "execution_count": 67,
     "metadata": {},
     "output_type": "execute_result"
    }
   ],
   "source": [
    "from random import shuffle\n",
    "\n",
    "def selection_sort(arr):\n",
    "    sorted_arr = []\n",
    "    for i in range(0, len(arr)):\n",
    "        index_to_move = index_of_min(arr)\n",
    "        sorted_arr.append(arr.pop(index_to_move))\n",
    "    return sorted_arr\n",
    "\n",
    "def index_of_min(arr):\n",
    "    min_index = 0\n",
    "    for i in range(1, len(arr)):\n",
    "        if arr[i] < arr[min_index]:\n",
    "            min_index = i\n",
    "    return min_index\n",
    "\n",
    "def verify(arr):\n",
    "    if len(arr) == 1:\n",
    "        return True\n",
    "    else:\n",
    "        return arr[0] < arr[1] and verify(arr[1:])\n",
    "\n",
    "sample_arr = [_ for _ in range(0, 20) ]\n",
    "shuffle(sample_arr)\n",
    "print(sample_arr)\n",
    "result = selection_sort(sample_arr)\n",
    "print(result)\n",
    "verify(result)\n"
   ]
  },
  {
   "cell_type": "markdown",
   "metadata": {},
   "source": [
    "# Bubble Sort\n",
    "### Bubble sort, as a result, has worst case runtime of O(n**2). The space complexity of bubble sort is O(1). All sorting operations involve swapping adjacent elements in the original input array, so no additional space is required."
   ]
  },
  {
   "cell_type": "code",
   "execution_count": 14,
   "metadata": {},
   "outputs": [
    {
     "name": "stdout",
     "output_type": "stream",
     "text": [
      "[1, 2, 4, 5, 7]\n"
     ]
    },
    {
     "data": {
      "text/plain": [
       "True"
      ]
     },
     "execution_count": 14,
     "metadata": {},
     "output_type": "execute_result"
    }
   ],
   "source": [
    "# Bubble Sort\n",
    "\n",
    "def bubble_sort(arr):\n",
    "      \"\"\"\n",
    "      Mutates lst so that it is sorted via swapping adjacent elements until\n",
    "      the entire lst is sorted.\n",
    "      \"\"\"\n",
    "\n",
    "      swapped = True\n",
    "\n",
    "      while swapped : \n",
    "        swapped = False\n",
    "        for i in range(len(arr)-1):\n",
    "            if arr[i] > arr[i + 1]: \n",
    "                #Swap adjacent element\n",
    "                arr[i], arr[i + 1] = arr[i +1], arr[i]\n",
    "                swapped = True \n",
    "\n",
    "def verify(arr): # Does not account for duplicate values \n",
    "  if len(arr) == 1:\n",
    "    return True \n",
    "  else:\n",
    "    return arr[0] < arr[1] and verify(arr[1:])\n",
    "\n",
    "a = [4,5,2,7,1]\n",
    "bubble_sort(a)\n",
    "print(a)\n",
    "verify(a)"
   ]
  },
  {
   "cell_type": "code",
   "execution_count": 23,
   "metadata": {},
   "outputs": [
    {
     "name": "stdout",
     "output_type": "stream",
     "text": [
      "[0, 0, 0, 0, 0, 0, 0]\n",
      "3\n",
      "4\n",
      "5\n",
      "6\n",
      "2\n",
      "1\n"
     ]
    },
    {
     "data": {
      "text/plain": [
       "[0, 1, 1, 1, 1, 1, 1]"
      ]
     },
     "execution_count": 23,
     "metadata": {},
     "output_type": "execute_result"
    }
   ],
   "source": [
    "b = [3,4,5,6,2,1]\n",
    "k = max(b)\n",
    "count = [0] * (k + 1)\n",
    "print(count)\n",
    "for elem in b: \n",
    "    print(elem)\n",
    "    count[elem] += 1\n",
    "\n",
    "count "
   ]
  }
 ],
 "metadata": {
  "kernelspec": {
   "display_name": "Python 3",
   "language": "python",
   "name": "python3"
  },
  "language_info": {
   "codemirror_mode": {
    "name": "ipython",
    "version": 3
   },
   "file_extension": ".py",
   "mimetype": "text/x-python",
   "name": "python",
   "nbconvert_exporter": "python",
   "pygments_lexer": "ipython3",
   "version": "3.11.4"
  },
  "orig_nbformat": 4
 },
 "nbformat": 4,
 "nbformat_minor": 2
}

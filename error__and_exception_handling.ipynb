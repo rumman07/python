{
 "cells": [
  {
   "cell_type": "markdown",
   "metadata": {},
   "source": [
    "# Error and Exception handling, the function will get user input when called"
   ]
  },
  {
   "cell_type": "code",
   "execution_count": 1,
   "metadata": {},
   "outputs": [
    {
     "name": "stdout",
     "output_type": "stream",
     "text": [
      "This can be any error type\n",
      "The function ended!\n",
      "Thank you the input provided was 5\n",
      "The function ended!\n",
      "5\n"
     ]
    }
   ],
   "source": [
    "def get_input():\n",
    "    result = None\n",
    "    while True: \n",
    "        try:\n",
    "            result = int(input(\"Please provide a number :\"))\n",
    "        except TypeError:\n",
    "            print(\"This is a data type error\")\n",
    "            continue\n",
    "        except OSError: \n",
    "            print(\"This is a file mode error\")\n",
    "            continue\n",
    "        except:\n",
    "            print(\"This can be any error type\")\n",
    "            continue\n",
    "        else: \n",
    "            print(\"Thank you the input provided was {0}\".format(result))\n",
    "            break\n",
    "        finally:\n",
    "            print(\"The function ended!\")\n",
    "    return result\n",
    "\n",
    "\n",
    "#This is the control-pane of the program!\n",
    "user_input = get_input()\n",
    "print(user_input)\n",
    "    \n"
   ]
  },
  {
   "cell_type": "code",
   "execution_count": 27,
   "metadata": {},
   "outputs": [
    {
     "name": "stdout",
     "output_type": "stream",
     "text": [
      "Error wrong data type!\n"
     ]
    }
   ],
   "source": [
    "try: \n",
    "  for i in ['a','b','c']:\n",
    "    print(i**2)\n",
    "except:\n",
    "    print(\"Error wrong data type!\")\n",
    "\n"
   ]
  }
 ],
 "metadata": {
  "interpreter": {
   "hash": "97cc609b13305c559618ec78a438abc56230b9381f827f22d070313b9a1f3777"
  },
  "kernelspec": {
   "display_name": "",
   "language": "python",
   "name": "python3"
  },
  "language_info": {
   "codemirror_mode": {
    "name": "ipython",
    "version": 3
   },
   "file_extension": ".py",
   "mimetype": "text/x-python",
   "name": "python",
   "nbconvert_exporter": "python",
   "pygments_lexer": "ipython3",
   "version": "3.10.6"
  },
  "orig_nbformat": 4
 },
 "nbformat": 4,
 "nbformat_minor": 2
}

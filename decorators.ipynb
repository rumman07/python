{
 "cells": [
  {
   "cell_type": "markdown",
   "metadata": {},
   "source": [
    "# Functions are object that CAN BE passed into other objects"
   ]
  },
  {
   "cell_type": "code",
   "execution_count": 1,
   "metadata": {},
   "outputs": [],
   "source": [
    "# Define a function name hello\n",
    "def hello(name='Jose'):\n",
    "    print(\"The hello() function has been executed!\")\n",
    "\n",
    "    def greet():\n",
    "        return \"\\t This is the greet() function inside the hello() function!\"\n",
    "\n",
    "    def welcome():\n",
    "        return \"\\t This is the welcome() function inside the hello() function!\"\n",
    "\n",
    "    print(\"The hello() function is going to return a function()\")\n",
    "\n",
    "    if name == \"Jose\":\n",
    "        return greet\n",
    "    else: \n",
    "        return welcome"
   ]
  },
  {
   "cell_type": "code",
   "execution_count": 2,
   "metadata": {},
   "outputs": [
    {
     "name": "stdout",
     "output_type": "stream",
     "text": [
      "The hello() function has been executed!\n",
      "The hello() function is going to return a function()\n"
     ]
    }
   ],
   "source": [
    "#Call the hello function and assign it to a variable\n",
    "\n",
    "my_new_func = hello(\"Jose\")"
   ]
  },
  {
   "cell_type": "code",
   "execution_count": 10,
   "metadata": {},
   "outputs": [
    {
     "name": "stdout",
     "output_type": "stream",
     "text": [
      "\t This is the greet() function inside the hello() function!\n"
     ]
    }
   ],
   "source": [
    "#Calling the greet function returned by hello function which was assigned to the my_new_func variable\n",
    "my_new_func()\n",
    "#Printing the variable my_new_func\n",
    "print(my_new_func())"
   ]
  },
  {
   "cell_type": "markdown",
   "metadata": {},
   "source": [
    "## Another example of defining a function within a function and returning a function from a function call and assigning the returned function to a variable"
   ]
  },
  {
   "cell_type": "code",
   "execution_count": 11,
   "metadata": {},
   "outputs": [],
   "source": [
    "#defining a function cool()\n",
    "def cool():\n",
    "    #defining another function \n",
    "    def super_cool():\n",
    "        return \"I am very cool\"\n",
    "    #returning the super_cool() function\n",
    "    return super_cool\n",
    "    "
   ]
  },
  {
   "cell_type": "code",
   "execution_count": 14,
   "metadata": {},
   "outputs": [
    {
     "name": "stdout",
     "output_type": "stream",
     "text": [
      "I am very cool\n"
     ]
    }
   ],
   "source": [
    "#Calling the cool() function that returns the super_cool() function which is then assigned to the my_func variable\n",
    "my_func = cool()\n",
    "\n",
    "my_func\n",
    "\n",
    "print(my_func())"
   ]
  },
  {
   "cell_type": "markdown",
   "metadata": {},
   "source": [
    "## Pass in function into another function as an argument to another function"
   ]
  },
  {
   "cell_type": "code",
   "execution_count": 16,
   "metadata": {},
   "outputs": [],
   "source": [
    "# Define a function \n",
    "def hello():\n",
    "    return \"Hi Jose!\"\n",
    "\n",
    "# Define another function and pass a function as an argument to that function and call that passed function within the function defined\n",
    "\n",
    "def other(some_def_func): \n",
    "    print(\"some other code runs here!\")\n",
    "    print(some_def_func()) "
   ]
  },
  {
   "cell_type": "code",
   "execution_count": 17,
   "metadata": {},
   "outputs": [
    {
     "name": "stdout",
     "output_type": "stream",
     "text": [
      "some other code runs here!\n",
      "Hi Jose!\n"
     ]
    }
   ],
   "source": [
    "# Call the other() function and pass the hello() function as an argument to the other() function\n",
    "other(hello) #the hello function is passed without the ()\n"
   ]
  },
  {
   "cell_type": "markdown",
   "metadata": {},
   "source": [
    "## Demo of Decorator"
   ]
  },
  {
   "cell_type": "code",
   "execution_count": 21,
   "metadata": {},
   "outputs": [],
   "source": [
    "# Define the new decorator function \n",
    "def new_decorator(original_func):\n",
    "    #Define a wrapper function\n",
    "    def wrap_func():\n",
    "        print(\"Some new code before the original function!\")\n",
    "        original_func()\n",
    "        print(\"Some new code after the original function!\")\n",
    "    return wrap_func\n"
   ]
  },
  {
   "cell_type": "code",
   "execution_count": 22,
   "metadata": {},
   "outputs": [],
   "source": [
    "# Define a function that needs to be deocrated \n",
    "@new_decorator #calling the new_decorator() and passing the decorate_me() function \n",
    "def decorate_me():\n",
    "    print(\"I need to be decorated\")\n",
    "\n"
   ]
  },
  {
   "cell_type": "code",
   "execution_count": 23,
   "metadata": {},
   "outputs": [
    {
     "name": "stdout",
     "output_type": "stream",
     "text": [
      "Some new code before the original function!\n",
      "I need to be decorated\n",
      "Some new code after the original function!\n"
     ]
    }
   ],
   "source": [
    "# Calling the decorate_me() func\n",
    "decorate_me()"
   ]
  }
 ],
 "metadata": {
  "interpreter": {
   "hash": "97cc609b13305c559618ec78a438abc56230b9381f827f22d070313b9a1f3777"
  },
  "kernelspec": {
   "display_name": "",
   "language": "python",
   "name": "python3"
  },
  "language_info": {
   "codemirror_mode": {
    "name": "ipython",
    "version": 3
   },
   "file_extension": ".py",
   "mimetype": "text/x-python",
   "name": "python",
   "nbconvert_exporter": "python",
   "pygments_lexer": "ipython3",
   "version": "3.10.4"
  },
  "orig_nbformat": 4
 },
 "nbformat": 4,
 "nbformat_minor": 2
}

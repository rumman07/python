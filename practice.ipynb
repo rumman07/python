{
 "cells": [
  {
   "cell_type": "code",
   "execution_count": 4,
   "metadata": {},
   "outputs": [
    {
     "output_type": "stream",
     "name": "stdout",
     "text": "Username is John\nUsername is Linda\nUsername is Marry\nUsername is Aaron\nUsername is Blake\n"
    }
   ],
   "source": [
    "\n",
    "users = []\n",
    "users.append(\"john\")\n",
    "users.append(\"linda\")\n",
    "users.append(\"marry\")\n",
    "users.append(\"aaron\")\n",
    "users.append(\"blake\")\n",
    "#Writing for loop in python. : means start of a code block\n",
    "for u in users:\n",
    "    print(\"Username is\",u.title())"
   ]
  },
  {
   "cell_type": "markdown",
   "metadata": {},
   "source": [
    "## Loop for a specific number of a time usinge range"
   ]
  },
  {
   "cell_type": "code",
   "execution_count": 2,
   "metadata": {},
   "outputs": [
    {
     "output_type": "stream",
     "name": "stdout",
     "text": "1\n2\n3\n4\n5\n6\n7\n8\n9\n"
    }
   ],
   "source": [
    "for i in range(1,10):\n",
    "    print(i)"
   ]
  },
  {
   "cell_type": "markdown",
   "metadata": {},
   "source": [
    "## Looping through a list usinge range"
   ]
  },
  {
   "cell_type": "code",
   "execution_count": 3,
   "metadata": {},
   "outputs": [
    {
     "output_type": "stream",
     "name": "stdout",
     "text": "john\nlinda\nmarry\naaron\nblake\n"
    }
   ],
   "source": [
    "for i in range(0, len(users)): \n",
    "    print(users[i])"
   ]
  },
  {
   "cell_type": "markdown",
   "metadata": {},
   "source": [
    "## Using slicing for Lists\n",
    "## Slice the 1 index and 2 index from List"
   ]
  },
  {
   "cell_type": "code",
   "execution_count": 5,
   "metadata": {},
   "outputs": [
    {
     "output_type": "stream",
     "name": "stdout",
     "text": "['linda', 'marry']\n"
    }
   ],
   "source": [
    "print(users[1:3])"
   ]
  },
  {
   "cell_type": "markdown",
   "metadata": {},
   "source": [
    "## Printing slicing output with for loop"
   ]
  },
  {
   "cell_type": "code",
   "execution_count": 6,
   "metadata": {},
   "outputs": [
    {
     "output_type": "stream",
     "name": "stdout",
     "text": "john\nlinda\nmarry\n"
    }
   ],
   "source": [
    "for u in users[0:3]:\n",
    "    print(u)"
   ]
  },
  {
   "cell_type": "markdown",
   "metadata": {},
   "source": [
    "## This is slicing using the len method to determine the value of the last index"
   ]
  },
  {
   "cell_type": "code",
   "execution_count": 7,
   "metadata": {},
   "outputs": [
    {
     "output_type": "stream",
     "name": "stdout",
     "text": "5\nmarry\naaron\n"
    }
   ],
   "source": [
    "print(len(users))\n",
    "for u in users[2:len(users) -1]:\n",
    "    print(u)"
   ]
  },
  {
   "cell_type": "markdown",
   "metadata": {},
   "source": [
    "## Slicing print every item in the list starting from index one to the append"
   ]
  },
  {
   "cell_type": "code",
   "execution_count": 8,
   "metadata": {},
   "outputs": [
    {
     "output_type": "stream",
     "name": "stdout",
     "text": "['linda', 'marry', 'aaron', 'blake']\n"
    }
   ],
   "source": [
    "print(users[1:])"
   ]
  },
  {
   "cell_type": "markdown",
   "metadata": {},
   "source": [
    "## Slicing print every item in the list starting from index one to the one before the last item in the list"
   ]
  },
  {
   "cell_type": "code",
   "execution_count": 9,
   "metadata": {},
   "outputs": [
    {
     "output_type": "stream",
     "name": "stdout",
     "text": "['linda', 'marry', 'aaron']\n"
    }
   ],
   "source": [
    "print(users[1:-1])"
   ]
  },
  {
   "cell_type": "markdown",
   "metadata": {},
   "source": [
    "## Slicing print every item in the list upto the third item in the list"
   ]
  },
  {
   "cell_type": "code",
   "execution_count": 10,
   "metadata": {},
   "outputs": [
    {
     "output_type": "stream",
     "name": "stdout",
     "text": "['john', 'linda', 'marry']\n"
    }
   ],
   "source": [
    "print(users[:3])"
   ]
  },
  {
   "cell_type": "markdown",
   "metadata": {},
   "source": [
    "## List comprehension - longer version"
   ]
  },
  {
   "cell_type": "code",
   "execution_count": 11,
   "metadata": {},
   "outputs": [
    {
     "output_type": "stream",
     "name": "stdout",
     "text": "['john123', 'linda123', 'marry123', 'aaron123', 'blake123']\n"
    }
   ],
   "source": [
    "num = \"123\"\n",
    "for i in range(0,len(users)):\n",
    "    users[i] = users[i] + num\n",
    "print(users)"
   ]
  },
  {
   "cell_type": "markdown",
   "metadata": {},
   "source": [
    "## Using list comprehension"
   ]
  },
  {
   "cell_type": "code",
   "execution_count": 12,
   "metadata": {},
   "outputs": [
    {
     "output_type": "stream",
     "name": "stdout",
     "text": "['john123123', 'linda123123', 'marry123123', 'aaron123123', 'blake123123']\n"
    }
   ],
   "source": [
    "num = \"123\"\n",
    "users = [u + num for u in users]\n",
    "print(users)"
   ]
  },
  {
   "cell_type": "markdown",
   "metadata": {},
   "source": [
    "## Using the join method to join the list of characters in a string"
   ]
  },
  {
   "cell_type": "code",
   "execution_count": 13,
   "metadata": {},
   "outputs": [
    {
     "output_type": "stream",
     "name": "stdout",
     "text": "H*e*l*l*o* *W*o*r*l*d*!\n"
    }
   ],
   "source": [
    "message = \"Hello World!\"\n",
    "print('*'.join(message))"
   ]
  },
  {
   "cell_type": "markdown",
   "metadata": {},
   "source": [
    "## If conditions"
   ]
  },
  {
   "cell_type": "code",
   "execution_count": 14,
   "metadata": {},
   "outputs": [
    {
     "output_type": "stream",
     "name": "stdout",
     "text": "Welcome jdoe\n"
    }
   ],
   "source": [
    "username = \"jdoe\"\n",
    "password = \"pass123\"\n",
    "\n",
    "if username == \"jdoe\" and password == \"pass123\":\n",
    "    print(\"Welcome\",username)\n",
    "else:\n",
    "    print(\"Sorry, wrong username or password\")"
   ]
  },
  {
   "cell_type": "markdown",
   "metadata": {},
   "source": [
    "## Check if the item given is in the list or not"
   ]
  },
  {
   "cell_type": "code",
   "execution_count": 15,
   "metadata": {},
   "outputs": [
    {
     "output_type": "stream",
     "name": "stdout",
     "text": "jdoe found\nroger found\n"
    }
   ],
   "source": [
    "usernames = [\"jdoe\",\"linda\",\"roger\",\"peter\"]\n",
    "\n",
    "if \"jdoe\" in usernames:\n",
    "    print('jdoe found')\n",
    "else:\n",
    "    print('no username found')"
   ]
  },
  {
   "cell_type": "markdown",
   "metadata": {},
   "source": [
    "## Using if statement inside a for loop"
   ]
  },
  {
   "cell_type": "code",
   "execution_count": 17,
   "metadata": {},
   "outputs": [
    {
     "output_type": "stream",
     "name": "stdout",
     "text": "roger found\n"
    }
   ],
   "source": [
    "for e in usernames:\n",
    "    if e.lower() == \"roger\":\n",
    "        print(\"roger found\")\n",
    "        break"
   ]
  },
  {
   "cell_type": "markdown",
   "metadata": {},
   "source": [
    "## Using not before in negates the condition in an if statement"
   ]
  },
  {
   "cell_type": "code",
   "execution_count": 18,
   "metadata": {},
   "outputs": [
    {
     "output_type": "stream",
     "name": "stdout",
     "text": "nginx not found\n"
    }
   ],
   "source": [
    "info_log = \"Please restart the apache daemon\"\n",
    "if \"nginx\" not in info_log:\n",
    "    print(\"nginx not found\")\n"
   ]
  },
  {
   "cell_type": "markdown",
   "metadata": {},
   "source": [
    "##  Tuples are like list but they are immutable i.e they cannot be changed through program execution\n",
    "## To create a tuple use () instead of [] used to create a list\n",
    "## Creating and accessing a tuple"
   ]
  },
  {
   "cell_type": "code",
   "execution_count": 19,
   "metadata": {},
   "outputs": [
    {
     "output_type": "stream",
     "name": "stdout",
     "text": "user\nadmin\n"
    }
   ],
   "source": [
    "priv = (\"user\",\"admin\")\n",
    "\n",
    "for p in priv:\n",
    "    print(p)"
   ]
  },
  {
   "cell_type": "markdown",
   "metadata": {},
   "source": [
    "## Dictionaries, in python are like a list but it accepts key value pairs, more like a hash in ruby\n",
    "## Creating and accessing a dictionary\n",
    "## Contrast - list is created like user = [\"jdoe\",\"31\",\"DevOps Engineer\",\"US\"]"
   ]
  },
  {
   "cell_type": "code",
   "execution_count": 20,
   "metadata": {},
   "outputs": [
    {
     "output_type": "stream",
     "name": "stdout",
     "text": "The username is jdoe he is 31 years old he works as DevOps Engineer and lives in US\n"
    }
   ],
   "source": [
    "user = {\n",
    "    \"username\":\"jdoe\",\n",
    "    \"age\":\"31\",\n",
    "    \"job\":\"DevOps Engineer\",\n",
    "    \"country\":\"US\"\n",
    "}\n",
    "\n",
    "print(\"The username is\",user[\"username\"],\"he is\",user[\"age\"],\"years old\",\"he works as\",user[\"job\"],\"and lives in\",user[\"country\"])"
   ]
  },
  {
   "cell_type": "markdown",
   "metadata": {},
   "source": [
    "## Adding dictionaries to List\n",
    "## Accessing the dictionary in the List"
   ]
  },
  {
   "cell_type": "code",
   "execution_count": 22,
   "metadata": {},
   "outputs": [
    {
     "output_type": "stream",
     "name": "stdout",
     "text": "Username is linda and job is operator\nUsername is peter and job is sysadmin\nUsername is roger and job is devops\n"
    }
   ],
   "source": [
    "users = [{\"uname\":\"linda\",\"job\":\"operator\"},{\"uname\":\"peter\",\"job\":\"sysadmin\"},{\"uname\":\"roger\",\"job\":\"devops\"}]\n",
    "\n",
    "for u in users:\n",
    "    print(\"Username is\",u[\"uname\"],\"and job is\",u[\"job\"])"
   ]
  },
  {
   "cell_type": "markdown",
   "metadata": {},
   "source": [
    "## Changing the value of an item in a dictionary"
   ]
  },
  {
   "cell_type": "code",
   "execution_count": 23,
   "metadata": {},
   "outputs": [
    {
     "output_type": "stream",
     "name": "stdout",
     "text": "{'uname': 'linda', 'job': 'tester'}\n"
    }
   ],
   "source": [
    "user_details = {\"uname\":\"linda\",\"job\":\"operator\"}\n",
    "user_details[\"job\"] = \"tester\"\n",
    "print(user_details)\n"
   ]
  },
  {
   "cell_type": "markdown",
   "metadata": {},
   "source": [
    "## Adding a new item in the dictionary"
   ]
  },
  {
   "cell_type": "code",
   "execution_count": 24,
   "metadata": {},
   "outputs": [
    {
     "output_type": "stream",
     "name": "stdout",
     "text": "{'uname': 'linda', 'job': 'tester', 'password': 'pass123'}\n"
    }
   ],
   "source": [
    "user_details[\"password\"] = \"pass123\"\n",
    "print(user_details)"
   ]
  },
  {
   "cell_type": "markdown",
   "metadata": {},
   "source": [
    "## Adding a default password item in list of a dictionary"
   ]
  },
  {
   "cell_type": "code",
   "execution_count": 25,
   "metadata": {},
   "outputs": [
    {
     "output_type": "stream",
     "name": "stdout",
     "text": "[{'uname': 'linda', 'job': 'operator', 'password': 'pass123'}, {'uname': 'peter', 'job': 'sysadmin', 'password': 'pass123'}, {'uname': 'roger', 'job': 'devops', 'password': 'pass123'}]\n"
    }
   ],
   "source": [
    "password = \"pass123\"\n",
    "\n",
    "for k in range(0,len(users)):\n",
    "    users[k][\"password\"] = password\n",
    "\n",
    "print(users)"
   ]
  },
  {
   "cell_type": "markdown",
   "metadata": {},
   "source": [
    "## Removing an item i.e. key value pair in a dictionary using the del function"
   ]
  },
  {
   "cell_type": "code",
   "execution_count": 26,
   "metadata": {},
   "outputs": [
    {
     "output_type": "stream",
     "name": "stdout",
     "text": "[{'uname': 'linda', 'job': 'operator'}, {'uname': 'peter', 'job': 'sysadmin'}, {'uname': 'roger', 'job': 'devops'}]\n"
    }
   ],
   "source": [
    "for k in range(0,len(users)):\n",
    "     del(users[k][\"password\"])\n",
    "\n",
    "print(users)"
   ]
  },
  {
   "cell_type": "markdown",
   "metadata": {},
   "source": [
    "## Looping through a dictionary"
   ]
  },
  {
   "cell_type": "code",
   "execution_count": 27,
   "metadata": {},
   "outputs": [
    {
     "output_type": "stream",
     "name": "stdout",
     "text": "English : en\nSpanish : es\nArabic : ar\nItalian : it\nBangla : ba\n"
    }
   ],
   "source": [
    "langs = {\n",
    "    \"en\":\"English\",\n",
    "    \"es\":\"Spanish\",\n",
    "    \"ar\":\"Arabic\",\n",
    "    \"it\":\"Italian\",\n",
    "    \"ba\":\"Bangla\"\n",
    "}\n",
    "\n",
    "for k,v in langs.items():\n",
    "    print(v,\":\",k)"
   ]
  },
  {
   "cell_type": "markdown",
   "metadata": {},
   "source": [
    "## Adding the paswword again to test authentication Functions\n",
    "## Adding a default password item in list of a dictionary"
   ]
  },
  {
   "cell_type": "code",
   "execution_count": 28,
   "metadata": {},
   "outputs": [
    {
     "output_type": "stream",
     "name": "stdout",
     "text": "[{'uname': 'linda', 'job': 'operator', 'password': 'pass123'}, {'uname': 'peter', 'job': 'sysadmin', 'password': 'pass123'}, {'uname': 'roger', 'job': 'devops', 'password': 'pass123'}]\n"
    }
   ],
   "source": [
    "password = \"pass123\"\n",
    "\n",
    "for k in range(0,len(users)):\n",
    "    users[k][\"password\"] = password\n",
    "\n",
    "print(users)"
   ]
  },
  {
   "cell_type": "markdown",
   "metadata": {},
   "source": [
    "## Functions\n",
    "## Calling the function"
   ]
  },
  {
   "cell_type": "code",
   "execution_count": 31,
   "metadata": {},
   "outputs": [
    {
     "output_type": "stream",
     "name": "stdout",
     "text": "Wrong credentials!\n"
    }
   ],
   "source": [
    "def authenticate(username,password):\n",
    "    for u in users:\n",
    "        if u[\"uname\"] == username and u[\"password\"] == password:\n",
    "            return True\n",
    "    return False\n",
    "\n",
    "username = \"roger\"\n",
    "password = \"ss123\"\n",
    "\n",
    "if authenticate(password = password, username = username):\n",
    "    print(\"Welcome to the application\",username,\"!\")\n",
    "else:\n",
    "    print(\"Wrong credentials!\")\n"
   ]
  },
  {
   "cell_type": "markdown",
   "metadata": {},
   "source": [
    "## Pass arbitary argument to a Functions as a list"
   ]
  },
  {
   "cell_type": "code",
   "execution_count": 32,
   "metadata": {},
   "outputs": [
    {
     "output_type": "stream",
     "name": "stdout",
     "text": "0\n"
    }
   ],
   "source": [
    "def multiply(*num):\n",
    "    if len(num) == 0:\n",
    "        return 0\n",
    "    result = 1\n",
    "    for n in num:\n",
    "        result *= n\n",
    "    return result\n",
    "print(multiply())"
   ]
  },
  {
   "cell_type": "markdown",
   "metadata": {},
   "source": [
    "## If you want to mix arbitary and positional arguments this can be done in python as long as the arbitary items comes as the last argument"
   ]
  },
  {
   "cell_type": "code",
   "execution_count": 33,
   "metadata": {},
   "outputs": [
    {
     "output_type": "stream",
     "name": "stdout",
     "text": "The total of the sum is 76\n"
    }
   ],
   "source": [
    "def add(msg, *sum):\n",
    "    if len(sum) == 0:\n",
    "        return 0\n",
    "    val = 0\n",
    "    for s in sum:\n",
    "        val += s\n",
    "    return msg + str(val)\n",
    "\n",
    "print(add(\"The total of the sum is \",6,7,5,3,55))"
   ]
  },
  {
   "cell_type": "markdown",
   "metadata": {},
   "source": [
    "## Pass arbitary arguments to a function as a dictionary"
   ]
  },
  {
   "cell_type": "code",
   "execution_count": 34,
   "metadata": {},
   "outputs": [
    {
     "output_type": "stream",
     "name": "stdout",
     "text": "{'username': 'genesys', 'password': 'pass123', 'job': 'DevOps Engineer', 'age': '30', 'country': 'US', 'lang': 'English'}\n"
    }
   ],
   "source": [
    "def createUser(username,password,**meta):\n",
    "    newUser = {}\n",
    "    newUser[\"username\"] = username\n",
    "    newUser[\"password\"] = password\n",
    "    for k,v in meta.items():\n",
    "        newUser[k] = v\n",
    "    return newUser\n",
    "newUser = createUser(username = \"genesys\", password = \"pass123\", job = \"DevOps Engineer\", age = \"30\", country = \"US\", lang = \"English\" )\n",
    "print(newUser)"
   ]
  }
 ],
 "metadata": {
  "kernelspec": {
   "name": "python38364bite863b03a75b64aeeaf455b1b23b07826",
   "display_name": "Python 3.8.3 64-bit"
  }
 },
 "nbformat": 4,
 "nbformat_minor": 2
}
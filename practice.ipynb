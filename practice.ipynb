{
 "cells": [
  {
   "cell_type": "code",
   "execution_count": 4,
   "metadata": {},
   "outputs": [
    {
     "name": "stdout",
     "output_type": "stream",
     "text": [
      "Username is John\n",
      "Username is Linda\n",
      "Username is Marry\n",
      "Username is Aaron\n",
      "Username is Blake\n"
     ]
    }
   ],
   "source": [
    "\n",
    "users = []\n",
    "users.append(\"john\")\n",
    "users.append(\"linda\")\n",
    "users.append(\"marry\")\n",
    "users.append(\"aaron\")\n",
    "users.append(\"blake\")\n",
    "#Writing for loop in python. : means start of a code block\n",
    "for u in users:\n",
    "    print(\"Username is\",u.title())"
   ]
  },
  {
   "cell_type": "markdown",
   "metadata": {},
   "source": [
    "## Loop for a specific number of a time usinge range"
   ]
  },
  {
   "cell_type": "code",
   "execution_count": 2,
   "metadata": {},
   "outputs": [
    {
     "name": "stdout",
     "output_type": "stream",
     "text": [
      "1\n",
      "2\n",
      "3\n",
      "4\n",
      "5\n",
      "6\n",
      "7\n",
      "8\n",
      "9\n"
     ]
    }
   ],
   "source": [
    "for i in range(1,10):\n",
    "    print(i)"
   ]
  },
  {
   "cell_type": "markdown",
   "metadata": {},
   "source": [
    "## Looping through a list usinge range"
   ]
  },
  {
   "cell_type": "code",
   "execution_count": 3,
   "metadata": {},
   "outputs": [
    {
     "name": "stdout",
     "output_type": "stream",
     "text": [
      "john\n",
      "linda\n",
      "marry\n",
      "aaron\n",
      "blake\n"
     ]
    }
   ],
   "source": [
    "for i in range(0, len(users)): \n",
    "    print(users[i])"
   ]
  },
  {
   "cell_type": "markdown",
   "metadata": {},
   "source": [
    "## Using slicing for Lists\n",
    "## Slice the 1 index and 2 index from List"
   ]
  },
  {
   "cell_type": "code",
   "execution_count": 5,
   "metadata": {},
   "outputs": [
    {
     "name": "stdout",
     "output_type": "stream",
     "text": [
      "['linda', 'marry']\n"
     ]
    }
   ],
   "source": [
    "print(users[1:3])"
   ]
  },
  {
   "cell_type": "markdown",
   "metadata": {},
   "source": [
    "## Printing slicing output with for loop"
   ]
  },
  {
   "cell_type": "code",
   "execution_count": 6,
   "metadata": {},
   "outputs": [
    {
     "name": "stdout",
     "output_type": "stream",
     "text": [
      "john\n",
      "linda\n",
      "marry\n"
     ]
    }
   ],
   "source": [
    "for u in users[0:3]:\n",
    "    print(u)"
   ]
  },
  {
   "cell_type": "markdown",
   "metadata": {},
   "source": [
    "## This is slicing using the len method to determine the value of the last index"
   ]
  },
  {
   "cell_type": "code",
   "execution_count": 7,
   "metadata": {},
   "outputs": [
    {
     "name": "stdout",
     "output_type": "stream",
     "text": [
      "5\n",
      "marry\n",
      "aaron\n"
     ]
    }
   ],
   "source": [
    "print(len(users))\n",
    "for u in users[2:len(users) -1]:\n",
    "    print(u)"
   ]
  },
  {
   "cell_type": "markdown",
   "metadata": {},
   "source": [
    "## Slicing print every item in the list starting from index one to the append"
   ]
  },
  {
   "cell_type": "code",
   "execution_count": 8,
   "metadata": {},
   "outputs": [
    {
     "name": "stdout",
     "output_type": "stream",
     "text": [
      "['linda', 'marry', 'aaron', 'blake']\n"
     ]
    }
   ],
   "source": [
    "print(users[1:])"
   ]
  },
  {
   "cell_type": "markdown",
   "metadata": {},
   "source": [
    "## Slicing print every item in the list starting from index one to the one before the last item in the list"
   ]
  },
  {
   "cell_type": "code",
   "execution_count": 9,
   "metadata": {},
   "outputs": [
    {
     "name": "stdout",
     "output_type": "stream",
     "text": [
      "['linda', 'marry', 'aaron']\n"
     ]
    }
   ],
   "source": [
    "print(users[1:-1])"
   ]
  },
  {
   "cell_type": "markdown",
   "metadata": {},
   "source": [
    "## Slicing print every item in the list upto the third item in the list"
   ]
  },
  {
   "cell_type": "code",
   "execution_count": 10,
   "metadata": {},
   "outputs": [
    {
     "name": "stdout",
     "output_type": "stream",
     "text": [
      "['john', 'linda', 'marry']\n"
     ]
    }
   ],
   "source": [
    "print(users[:3])"
   ]
  },
  {
   "cell_type": "markdown",
   "metadata": {},
   "source": [
    "## List comprehension - longer version"
   ]
  },
  {
   "cell_type": "code",
   "execution_count": 11,
   "metadata": {},
   "outputs": [
    {
     "name": "stdout",
     "output_type": "stream",
     "text": [
      "['john123', 'linda123', 'marry123', 'aaron123', 'blake123']\n"
     ]
    }
   ],
   "source": [
    "num = \"123\"\n",
    "for i in range(0,len(users)):\n",
    "    users[i] = users[i] + num\n",
    "print(users)"
   ]
  },
  {
   "cell_type": "markdown",
   "metadata": {},
   "source": [
    "## Using list comprehension"
   ]
  },
  {
   "cell_type": "code",
   "execution_count": 12,
   "metadata": {},
   "outputs": [
    {
     "name": "stdout",
     "output_type": "stream",
     "text": [
      "['john123123', 'linda123123', 'marry123123', 'aaron123123', 'blake123123']\n"
     ]
    }
   ],
   "source": [
    "num = \"123\"\n",
    "users = [u + num for u in users]\n",
    "print(users)"
   ]
  },
  {
   "cell_type": "markdown",
   "metadata": {},
   "source": [
    "## Using the join method to join the list of characters in a string"
   ]
  },
  {
   "cell_type": "code",
   "execution_count": 13,
   "metadata": {},
   "outputs": [
    {
     "name": "stdout",
     "output_type": "stream",
     "text": [
      "H*e*l*l*o* *W*o*r*l*d*!\n"
     ]
    }
   ],
   "source": [
    "message = \"Hello World!\"\n",
    "print('*'.join(message))"
   ]
  },
  {
   "cell_type": "markdown",
   "metadata": {},
   "source": [
    "## If conditions"
   ]
  },
  {
   "cell_type": "code",
   "execution_count": 1,
   "metadata": {},
   "outputs": [
    {
     "name": "stdout",
     "output_type": "stream",
     "text": [
      "Welcome jdoe\n"
     ]
    }
   ],
   "source": [
    "username = \"jdoe\"\n",
    "password = \"pass123\"\n",
    "\n",
    "if username == \"jdoe\" and password == \"pass123\":\n",
    "    print(\"Welcome\",username)\n",
    "else:\n",
    "    print(\"Sorry, wrong username or password\")"
   ]
  },
  {
   "cell_type": "markdown",
   "metadata": {},
   "source": [
    "## Check if the item given is in the list or not"
   ]
  },
  {
   "cell_type": "code",
   "execution_count": 15,
   "metadata": {},
   "outputs": [
    {
     "name": "stdout",
     "output_type": "stream",
     "text": [
      "jdoe found\n",
      "roger found\n"
     ]
    }
   ],
   "source": [
    "usernames = [\"jdoe\",\"linda\",\"roger\",\"peter\"]\n",
    "\n",
    "if \"jdoe\" in usernames:\n",
    "    print('jdoe found')\n",
    "else:\n",
    "    print('no username found')"
   ]
  },
  {
   "cell_type": "markdown",
   "metadata": {},
   "source": [
    "## Using if statement inside a for loop"
   ]
  },
  {
   "cell_type": "code",
   "execution_count": 17,
   "metadata": {},
   "outputs": [
    {
     "name": "stdout",
     "output_type": "stream",
     "text": [
      "roger found\n"
     ]
    }
   ],
   "source": [
    "for e in usernames:\n",
    "    if e.lower() == \"roger\":\n",
    "        print(\"roger found\")\n",
    "        break"
   ]
  },
  {
   "cell_type": "markdown",
   "metadata": {},
   "source": [
    "## Using not before in negates the condition in an if statement"
   ]
  },
  {
   "cell_type": "code",
   "execution_count": 18,
   "metadata": {},
   "outputs": [
    {
     "name": "stdout",
     "output_type": "stream",
     "text": [
      "nginx not found\n"
     ]
    }
   ],
   "source": [
    "info_log = \"Please restart the apache daemon\"\n",
    "if \"nginx\" not in info_log:\n",
    "    print(\"nginx not found\")\n"
   ]
  },
  {
   "cell_type": "markdown",
   "metadata": {},
   "source": [
    "##  Tuples are like list but they are immutable i.e they cannot be changed through program execution\n",
    "## To create a tuple use () instead of [] used to create a list\n",
    "## Creating and accessing a tuple"
   ]
  },
  {
   "cell_type": "code",
   "execution_count": 19,
   "metadata": {},
   "outputs": [
    {
     "name": "stdout",
     "output_type": "stream",
     "text": [
      "user\n",
      "admin\n"
     ]
    }
   ],
   "source": [
    "priv = (\"user\",\"admin\")\n",
    "\n",
    "for p in priv:\n",
    "    print(p)"
   ]
  },
  {
   "cell_type": "markdown",
   "metadata": {},
   "source": [
    "## Dictionaries, in python are like a list but it accepts key value pairs, more like a hash in ruby\n",
    "## Creating and accessing a dictionary\n",
    "## Contrast - list is created like user = [\"jdoe\",\"31\",\"DevOps Engineer\",\"US\"]"
   ]
  },
  {
   "cell_type": "code",
   "execution_count": 20,
   "metadata": {},
   "outputs": [
    {
     "name": "stdout",
     "output_type": "stream",
     "text": [
      "The username is jdoe he is 31 years old he works as DevOps Engineer and lives in US\n"
     ]
    }
   ],
   "source": [
    "user = {\n",
    "    \"username\":\"jdoe\",\n",
    "    \"age\":\"31\",\n",
    "    \"job\":\"DevOps Engineer\",\n",
    "    \"country\":\"US\"\n",
    "}\n",
    "\n",
    "print(\"The username is\",user[\"username\"],\"he is\",user[\"age\"],\"years old\",\"he works as\",user[\"job\"],\"and lives in\",user[\"country\"])"
   ]
  },
  {
   "cell_type": "markdown",
   "metadata": {},
   "source": [
    "## Adding dictionaries to List\n",
    "## Accessing the dictionary in the List"
   ]
  },
  {
   "cell_type": "code",
   "execution_count": 22,
   "metadata": {},
   "outputs": [
    {
     "name": "stdout",
     "output_type": "stream",
     "text": [
      "Username is linda and job is operator\n",
      "Username is peter and job is sysadmin\n",
      "Username is roger and job is devops\n"
     ]
    }
   ],
   "source": [
    "users = [{\"uname\":\"linda\",\"job\":\"operator\"},{\"uname\":\"peter\",\"job\":\"sysadmin\"},{\"uname\":\"roger\",\"job\":\"devops\"}]\n",
    "\n",
    "for u in users:\n",
    "    print(\"Username is\",u[\"uname\"],\"and job is\",u[\"job\"])"
   ]
  },
  {
   "cell_type": "markdown",
   "metadata": {},
   "source": [
    "## Changing the value of an item in a dictionary"
   ]
  },
  {
   "cell_type": "code",
   "execution_count": 23,
   "metadata": {},
   "outputs": [
    {
     "name": "stdout",
     "output_type": "stream",
     "text": [
      "{'uname': 'linda', 'job': 'tester'}\n"
     ]
    }
   ],
   "source": [
    "user_details = {\"uname\":\"linda\",\"job\":\"operator\"}\n",
    "user_details[\"job\"] = \"tester\"\n",
    "print(user_details)\n"
   ]
  },
  {
   "cell_type": "markdown",
   "metadata": {},
   "source": [
    "## Adding a new item in the dictionary"
   ]
  },
  {
   "cell_type": "code",
   "execution_count": 24,
   "metadata": {},
   "outputs": [
    {
     "name": "stdout",
     "output_type": "stream",
     "text": [
      "{'uname': 'linda', 'job': 'tester', 'password': 'pass123'}\n"
     ]
    }
   ],
   "source": [
    "user_details[\"password\"] = \"pass123\"\n",
    "print(user_details)"
   ]
  },
  {
   "cell_type": "markdown",
   "metadata": {},
   "source": [
    "## Adding a default password item in list of a dictionary"
   ]
  },
  {
   "cell_type": "code",
   "execution_count": 25,
   "metadata": {},
   "outputs": [
    {
     "name": "stdout",
     "output_type": "stream",
     "text": [
      "[{'uname': 'linda', 'job': 'operator', 'password': 'pass123'}, {'uname': 'peter', 'job': 'sysadmin', 'password': 'pass123'}, {'uname': 'roger', 'job': 'devops', 'password': 'pass123'}]\n"
     ]
    }
   ],
   "source": [
    "password = \"pass123\"\n",
    "\n",
    "for k in range(0,len(users)):\n",
    "    users[k][\"password\"] = password\n",
    "\n",
    "print(users)"
   ]
  },
  {
   "cell_type": "markdown",
   "metadata": {},
   "source": [
    "## Removing an item i.e. key value pair in a dictionary using the del function"
   ]
  },
  {
   "cell_type": "code",
   "execution_count": 26,
   "metadata": {},
   "outputs": [
    {
     "name": "stdout",
     "output_type": "stream",
     "text": [
      "[{'uname': 'linda', 'job': 'operator'}, {'uname': 'peter', 'job': 'sysadmin'}, {'uname': 'roger', 'job': 'devops'}]\n"
     ]
    }
   ],
   "source": [
    "for k in range(0,len(users)):\n",
    "     del(users[k][\"password\"])\n",
    "\n",
    "print(users)"
   ]
  },
  {
   "cell_type": "markdown",
   "metadata": {},
   "source": [
    "## Looping through a dictionary"
   ]
  },
  {
   "cell_type": "code",
   "execution_count": 27,
   "metadata": {},
   "outputs": [
    {
     "name": "stdout",
     "output_type": "stream",
     "text": [
      "English : en\n",
      "Spanish : es\n",
      "Arabic : ar\n",
      "Italian : it\n",
      "Bangla : ba\n"
     ]
    }
   ],
   "source": [
    "langs = {\n",
    "    \"en\":\"English\",\n",
    "    \"es\":\"Spanish\",\n",
    "    \"ar\":\"Arabic\",\n",
    "    \"it\":\"Italian\",\n",
    "    \"ba\":\"Bangla\"\n",
    "}\n",
    "\n",
    "for k,v in langs.items():\n",
    "    print(v,\":\",k)"
   ]
  },
  {
   "cell_type": "markdown",
   "metadata": {},
   "source": [
    "## Adding the paswword again to test authentication Functions\n",
    "## Adding a default password item in list of a dictionary"
   ]
  },
  {
   "cell_type": "code",
   "execution_count": 28,
   "metadata": {},
   "outputs": [
    {
     "name": "stdout",
     "output_type": "stream",
     "text": [
      "[{'uname': 'linda', 'job': 'operator', 'password': 'pass123'}, {'uname': 'peter', 'job': 'sysadmin', 'password': 'pass123'}, {'uname': 'roger', 'job': 'devops', 'password': 'pass123'}]\n"
     ]
    }
   ],
   "source": [
    "password = \"pass123\"\n",
    "\n",
    "for k in range(0,len(users)):\n",
    "    users[k][\"password\"] = password\n",
    "\n",
    "print(users)"
   ]
  },
  {
   "cell_type": "markdown",
   "metadata": {},
   "source": [
    "## Functions\n",
    "## Calling the function"
   ]
  },
  {
   "cell_type": "code",
   "execution_count": 31,
   "metadata": {},
   "outputs": [
    {
     "name": "stdout",
     "output_type": "stream",
     "text": [
      "Wrong credentials!\n"
     ]
    }
   ],
   "source": [
    "def authenticate(username,password):\n",
    "    for u in users:\n",
    "        if u[\"uname\"] == username and u[\"password\"] == password:\n",
    "            return True\n",
    "    return False\n",
    "\n",
    "username = \"roger\"\n",
    "password = \"ss123\"\n",
    "\n",
    "if authenticate(password = password, username = username):\n",
    "    print(\"Welcome to the application\",username,\"!\")\n",
    "else:\n",
    "    print(\"Wrong credentials!\")\n"
   ]
  },
  {
   "cell_type": "markdown",
   "metadata": {},
   "source": [
    "## Pass arbitary argument to a Functions as a list"
   ]
  },
  {
   "cell_type": "code",
   "execution_count": 32,
   "metadata": {},
   "outputs": [
    {
     "name": "stdout",
     "output_type": "stream",
     "text": [
      "0\n"
     ]
    }
   ],
   "source": [
    "def multiply(*num):\n",
    "    if len(num) == 0:\n",
    "        return 0\n",
    "    result = 1\n",
    "    for n in num:\n",
    "        result *= n\n",
    "    return result\n",
    "print(multiply())"
   ]
  },
  {
   "cell_type": "markdown",
   "metadata": {},
   "source": [
    "## If you want to mix arbitary and positional arguments this can be done in python as long as the arbitary items comes as the last argument"
   ]
  },
  {
   "cell_type": "code",
   "execution_count": 33,
   "metadata": {},
   "outputs": [
    {
     "name": "stdout",
     "output_type": "stream",
     "text": [
      "The total of the sum is 76\n"
     ]
    }
   ],
   "source": [
    "def add(msg, *sum):\n",
    "    if len(sum) == 0:\n",
    "        return 0\n",
    "    val = 0\n",
    "    for s in sum:\n",
    "        val += s\n",
    "    return msg + str(val)\n",
    "\n",
    "print(add(\"The total of the sum is \",6,7,5,3,55))"
   ]
  },
  {
   "cell_type": "markdown",
   "metadata": {},
   "source": [
    "## Pass arbitary arguments to a function as a dictionary"
   ]
  },
  {
   "cell_type": "code",
   "execution_count": 34,
   "metadata": {},
   "outputs": [
    {
     "name": "stdout",
     "output_type": "stream",
     "text": [
      "{'username': 'genesys', 'password': 'pass123', 'job': 'DevOps Engineer', 'age': '30', 'country': 'US', 'lang': 'English'}\n"
     ]
    }
   ],
   "source": [
    "def createUser(username,password,**meta):\n",
    "    newUser = {}\n",
    "    newUser[\"username\"] = username\n",
    "    newUser[\"password\"] = password\n",
    "    for k,v in meta.items():\n",
    "        newUser[k] = v\n",
    "    return newUser\n",
    "newUser = createUser(username = \"genesys\", password = \"pass123\", job = \"DevOps Engineer\", age = \"30\", country = \"US\", lang = \"English\" )\n",
    "print(newUser)"
   ]
  },
  {
   "cell_type": "markdown",
   "metadata": {},
   "source": [
    "## Importing module into your script:\n",
    "  ** import module_name\n",
    "## If you want to access the function thats inside the modules file you need to prepend the function name you want to call with the module name:\n",
    "  ** var = mudule_name.function_name()\n",
    "## Importing only selected few functions from a modules file:\n",
    "  ** from module_name import finction1, function2, function3\n",
    "## In this way no need to prepend the moudule name to the name of the function i.e. you can directly call the function:\n",
    "  ** print(function1(\"Hello\"))  \n",
    "## Use the as keyword to make an Alias for your function name: \n",
    "  ** from module_name import function1 as fn1, function2 as fn2, function3 as fn3\n",
    "## Call the function using the Alias: \n",
    "  ** print(fn2(some_var)) \n",
    "## Creating an Alias for the module: \n",
    "  ** import module_name as m1\n",
    "## To acces a function in the module prepend the function name with the Alias of the module specified:\n",
    "  ** var = m1.function1()\n",
    "## If you want to reference each and every functions in a module file and if you dont want to keep preceeding function name with the module name add an * after import: \n",
    "  ** from module_name import \\* \n"
   ]
  },
  {
   "cell_type": "code",
   "execution_count": 35,
   "metadata": {},
   "outputs": [
    {
     "data": {
      "text/plain": [
       "[4, 5, -1, 2, 1]"
      ]
     },
     "execution_count": 35,
     "metadata": {},
     "output_type": "execute_result"
    }
   ],
   "source": [
    "def solution(n,a):\n",
    "  b = []\n",
    "  for i in range(0,n):\n",
    "    if i == 0:\n",
    "        b.append(0 + a[i] + a[i+1])\n",
    "    elif i == n -1:\n",
    "        b.append(a[i-1] + a[i] + 0)\n",
    "    else: \n",
    "        b.append(a[i-1] + a[i] + a[i+1])\n",
    "  return b \n",
    "\n",
    "solution(5, [4,0,1,-2,3])"
   ]
  },
  {
   "cell_type": "code",
   "execution_count": 34,
   "metadata": {},
   "outputs": [
    {
     "data": {
      "text/plain": [
       "0"
      ]
     },
     "execution_count": 34,
     "metadata": {},
     "output_type": "execute_result"
    }
   ],
   "source": [
    "\n",
    "\n",
    "def solution(s,t):\n",
    "  count = 0\n",
    "  s = \"ab12c\"\n",
    "  t = \"1zz456\"\n",
    "  slen = len(s)\n",
    "  for i in range(slen): \n",
    "    s[i]\n",
    "    sn = str(slist)\n",
    "    if sn < t:\n",
    "        count +=1\n",
    "    else: \n",
    "        pass \n",
    "  return count\n",
    "\n",
    "solution(s, t)"
   ]
  },
  {
   "cell_type": "code",
   "execution_count": null,
   "metadata": {},
   "outputs": [],
   "source": [
    "def solution(s, t):\n",
    "    count = 0\n",
    "    slen = len(s)\n",
    "    tlen = len(t)\n",
    "    "
   ]
  },
  {
   "cell_type": "code",
   "execution_count": 37,
   "metadata": {},
   "outputs": [],
   "source": [
    "# Implement your function below.\n",
    "def common_elements(list1, list2):\n",
    "    result = []\n",
    "    p1 = 0 \n",
    "    p2 = 0 \n",
    "    while p1 < len(list1) and p2 < len(list2): \n",
    "        if list1[p1] == list2[p2]:\n",
    "            result.append(list1[p1])\n",
    "            p1 += 1\n",
    "            p2 += 1\n",
    "        elif list1[p1] > list2[p2]: \n",
    "            p2 += 1\n",
    "        else: \n",
    "            p1 += 1\n",
    "    return result\n",
    "\n",
    "\n",
    "# NOTE: The following input values will be used for testing your solution.\n",
    "list_a1 = [1, 3, 4, 6, 7, 9]\n",
    "list_a2 = [1, 2, 4, 5, 9, 10]\n",
    "# common_elements(list_a1, list_a2) should return [1, 4, 9] (a list).\n",
    "\n",
    "list_b1 = [1, 2, 9, 10, 11, 12]\n",
    "list_b2 = [0, 1, 2, 3, 4, 5, 8, 9, 10, 12, 14, 15]\n",
    "# common_elements(list_b1, list_b2) should return [1, 2, 9, 10, 12] (a list).\n",
    "\n",
    "list_c1 = [0, 1, 2, 3, 4, 5]\n",
    "list_c2 = [6, 7, 8, 9, 10, 11]\n",
    "# common_elements(list_b1, list_b2) should return [] (an empty list)."
   ]
  },
  {
   "cell_type": "code",
   "execution_count": 60,
   "metadata": {},
   "outputs": [
    {
     "name": "stdout",
     "output_type": "stream",
     "text": [
      "1\n",
      "hhhhh\n",
      "White\n"
     ]
    }
   ],
   "source": [
    "a = [1,2,3]\n",
    "\n",
    "a.index(3)\n",
    "print(3//2)\n",
    "\n",
    "fname = \"Joe\"\n",
    "lname = \"Doe\" \n",
    "fullname= fname + \" \" + lname\n",
    "print(\"h\" * 5)\n",
    "\n",
    "question = input(\"What is your fav color?\")\n",
    "print(question)"
   ]
  },
  {
   "cell_type": "markdown",
   "metadata": {},
   "source": [
    "## Importing modules and certain functions within a module"
   ]
  },
  {
   "cell_type": "code",
   "execution_count": 80,
   "metadata": {},
   "outputs": [
    {
     "name": "stdout",
     "output_type": "stream",
     "text": [
      "[8, 9, 7, 2, 0, 3, 1, 4, 6, 5]\n"
     ]
    },
    {
     "data": {
      "text/plain": [
       "18"
      ]
     },
     "execution_count": 80,
     "metadata": {},
     "output_type": "execute_result"
    }
   ],
   "source": [
    "import random\n",
    "from random import shuffle,randint\n",
    "new_list = [x for x in range(0,10)]\n",
    "shuffle(new_list)\n",
    "print(new_list)\n",
    "gen_num = randint(0,100)\n",
    "gen_num"
   ]
  },
  {
   "cell_type": "code",
   "execution_count": 1,
   "metadata": {},
   "outputs": [
    {
     "name": "stdout",
     "output_type": "stream",
     "text": [
      "L\n",
      "L\n"
     ]
    }
   ],
   "source": [
    "text = \"Levelheaded Lama\"\n",
    "word_list = text.split()\n",
    "print(word_list[0][0])\n",
    "print(word_list[1][0])"
   ]
  },
  {
   "cell_type": "code",
   "execution_count": 26,
   "metadata": {},
   "outputs": [
    {
     "data": {
      "text/plain": [
       "False"
      ]
     },
     "execution_count": 26,
     "metadata": {},
     "output_type": "execute_result"
    }
   ],
   "source": [
    "x= [7,8,9,11,12,3,4,-1,1]\n",
    "x.sort(reverse = True)\n",
    "x\n",
    "\n",
    "chars = [0] * 128\n",
    "chars\n",
    "\n",
    "def check(f):\n",
    "  if f != int():\n",
    "    return False\n",
    "  else:\n",
    "      return True\n",
    "\n",
    "check(1)"
   ]
  },
  {
   "cell_type": "code",
   "execution_count": 56,
   "metadata": {},
   "outputs": [
    {
     "data": {
      "text/plain": [
       "3"
      ]
     },
     "execution_count": 56,
     "metadata": {},
     "output_type": "execute_result"
    }
   ],
   "source": [
    "def median_finder(arr1, arr2):\n",
    "     arr3 = arr1 + arr2\n",
    "     arr3.sort()\n",
    "     l = len(arr3)\n",
    " \n",
    "     if l % 2 == 0:\n",
    "        m1 = arr3[int(l/2)]\n",
    "        m2 = arr3[int(l/2 -1)]\n",
    "        m = (m1 + m2)/2\n",
    "        return m \n",
    "     else:\n",
    "        return arr3[int(l//2)]\n",
    "\n",
    "median_finder([1,2],[3,5,6])"
   ]
  },
  {
   "cell_type": "code",
   "execution_count": 61,
   "metadata": {},
   "outputs": [
    {
     "name": "stdout",
     "output_type": "stream",
     "text": [
      "[[1, 2, 3, 4], ['a', 'b', 'c', 'd'], [5, 6, 7, 8], ['g', 'f']]\n",
      "1 2 3 4 \n",
      "a b c d \n",
      "5 6 7 8 \n",
      "g f \n"
     ]
    }
   ],
   "source": [
    "a = [[1,2,3,4],[\"a\",\"b\",\"c\",\"d\"],[5,6,7,8],[\"g\",\"f\"]]\n",
    "print(a)\n",
    "for row in a:\n",
    "    for elem in row: \n",
    "        print(elem, end=\" \")\n",
    "    print()"
   ]
  },
  {
   "cell_type": "code",
   "execution_count": 62,
   "metadata": {},
   "outputs": [
    {
     "name": "stdout",
     "output_type": "stream",
     "text": [
      "[1, 2, 3, 4]\n",
      "['a', 'b', 'c', 'd']\n",
      "[5, 6, 7, 8]\n",
      "['g', 'f']\n"
     ]
    }
   ],
   "source": [
    "a = [[1,2,3,4],[\"a\",\"b\",\"c\",\"d\"],[5,6,7,8],[\"g\",\"f\"]]\n",
    "for row in a: \n",
    "    print(row)"
   ]
  },
  {
   "cell_type": "code",
   "execution_count": 68,
   "metadata": {},
   "outputs": [
    {
     "name": "stdout",
     "output_type": "stream",
     "text": [
      "1 2 3 4 \n",
      "a b c d \n",
      "5 6 7 8 \n",
      "g f \n"
     ]
    }
   ],
   "source": [
    "a = [[1,2,3,4],[\"a\",\"b\",\"c\",\"d\"],[5,6,7,8],[\"g\",\"f\"]]\n",
    "for row in a: \n",
    "    for elem in row: \n",
    "        print(elem, end=\" \")\n",
    "    print()"
   ]
  },
  {
   "cell_type": "code",
   "execution_count": 69,
   "metadata": {},
   "outputs": [
    {
     "name": "stdout",
     "output_type": "stream",
     "text": [
      "0 1 0 1 0 1 \n",
      "1 0 0 1 0 1 \n",
      "0 0 0 0 0 0 \n"
     ]
    }
   ],
   "source": [
    "b = [[0,1,0,1,0,1],[1,0,0,1,0,1],[0,0,0,0,0,0]]\n",
    "\n",
    "for row in b:\n",
    "    for elem in row: \n",
    "        print(elem, end=\" \")\n",
    "    print()"
   ]
  },
  {
   "cell_type": "code",
   "execution_count": 80,
   "metadata": {},
   "outputs": [
    {
     "name": "stdout",
     "output_type": "stream",
     "text": [
      "A B C \n",
      "- - - \n",
      "a b c \n",
      "d e f \n"
     ]
    }
   ],
   "source": [
    "teams = [[\"A\",\"B\",\"C\"],['-','-','-'],[\"a\",\"b\",\"c\"],[\"d\",\"e\",\"f\"]]\n",
    "#print(teams)\n",
    "for row in teams: \n",
    "    #print(row)\n",
    "    for elem in row: \n",
    "        print(elem, end=\" \")\n",
    "    print()"
   ]
  },
  {
   "cell_type": "code",
   "execution_count": 95,
   "metadata": {},
   "outputs": [
    {
     "data": {
      "text/plain": [
       "str"
      ]
     },
     "execution_count": 95,
     "metadata": {},
     "output_type": "execute_result"
    }
   ],
   "source": [
    "p = [\"flower\",\"flow\",\"flight\"]\n",
    "p.sort()\n",
    "p\n",
    "\n",
    "s = \"Hello\"\n",
    "\n",
    "s[::-1]\n",
    "type(s)"
   ]
  },
  {
   "cell_type": "markdown",
   "metadata": {},
   "source": [
    "# Defining a function within a function passing an array of input vales and returning the result of the evaluation"
   ]
  },
  {
   "cell_type": "code",
   "execution_count": 128,
   "metadata": {},
   "outputs": [
    {
     "name": "stdout",
     "output_type": "stream",
     "text": [
      "The number 10 is even!\n",
      "The number 9 is odd!\n",
      "The number 7 is odd!\n",
      "The number 8 is even!\n"
     ]
    }
   ],
   "source": [
    "def even_odd(*args):\n",
    "    answer = []\n",
    "    def check_even(val):\n",
    "          if val % 2 == 0: \n",
    "           print(f\"The number {val} is even!\")\n",
    "          else: \n",
    "            print(f\"The number {val} is odd!\")\n",
    "\n",
    "    for i in args: \n",
    "      answer.append(check_even(i))\n",
    "    \n",
    "    return answer\n",
    "    \n",
    "result = even_odd(10,9,7,8)\n",
    "\n"
   ]
  },
  {
   "cell_type": "markdown",
   "metadata": {},
   "source": [
    "# This function calls a printable function inside of it that will print a table given a two dimensional array "
   ]
  },
  {
   "cell_type": "code",
   "execution_count": 134,
   "metadata": {},
   "outputs": [
    {
     "name": "stdout",
     "output_type": "stream",
     "text": [
      "1 2 3 \n",
      "a b c \n",
      "Car Hosuse Pet \n"
     ]
    }
   ],
   "source": [
    "def print_table(arr):\n",
    "\n",
    "    def printtable(arr1):\n",
    "        for row in arr1: \n",
    "            for elem in row: \n",
    "                print(elem, end=\" \")\n",
    "            print()\n",
    "    printtable(arr)\n",
    "\n",
    "print_table([[1,2,3],[\"a\",\"b\",\"c\"],[\"Car\",\"Hosuse\",\"Pet\"]])"
   ]
  },
  {
   "cell_type": "code",
   "execution_count": 505,
   "metadata": {},
   "outputs": [
    {
     "data": {
      "text/plain": [
       "45"
      ]
     },
     "execution_count": 505,
     "metadata": {},
     "output_type": "execute_result"
    }
   ],
   "source": [
    "a = [[1, 2, 3, 4], [5, 6], [7, 8, 9]]\n",
    "def addSumNestedArr(a):\n",
    "    s = 0\n",
    "    for i in range(len(a)):\n",
    "        for j in range(len(a[i])):\n",
    "            s += a[i][j]\n",
    "    return s\n",
    "\n",
    "addSumNestedArr(a) "
   ]
  },
  {
   "cell_type": "code",
   "execution_count": 519,
   "metadata": {},
   "outputs": [
    {
     "name": "stdout",
     "output_type": "stream",
     "text": [
      "True\n"
     ]
    },
    {
     "data": {
      "text/plain": [
       "3"
      ]
     },
     "execution_count": 519,
     "metadata": {},
     "output_type": "execute_result"
    }
   ],
   "source": [
    "dic = {\"1\": 10, \"2\":20, \"3\":30}\n",
    "if \"2\" in dic: \n",
    "    print(True) \n",
    "\n",
    "len(dic)"
   ]
  },
  {
   "cell_type": "markdown",
   "metadata": {},
   "source": [
    "# Generator Yield Iter and next function"
   ]
  },
  {
   "cell_type": "code",
   "execution_count": 172,
   "metadata": {},
   "outputs": [
    {
     "name": "stdout",
     "output_type": "stream",
     "text": [
      "h\n",
      "e\n",
      "l\n",
      "l\n",
      "o\n"
     ]
    }
   ],
   "source": [
    "s = \"hello\"\n",
    "s_new = iter(s)\n",
    "print(next(s_new))\n",
    "print(next(s_new))\n",
    "print(next(s_new))\n",
    "print(next(s_new))\n",
    "print(next(s_new))"
   ]
  },
  {
   "cell_type": "code",
   "execution_count": 158,
   "metadata": {},
   "outputs": [
    {
     "name": "stdout",
     "output_type": "stream",
     "text": [
      "0\n",
      "1\n",
      "2\n",
      "3\n",
      "4\n"
     ]
    }
   ],
   "source": [
    "def simple_gen():\n",
    "    for i in range(5):\n",
    "        yield i\n",
    "\n",
    "g = simple_gen()\n",
    "for num in g:\n",
    "    print(num)"
   ]
  },
  {
   "cell_type": "code",
   "execution_count": 164,
   "metadata": {},
   "outputs": [
    {
     "name": "stdout",
     "output_type": "stream",
     "text": [
      "0\n",
      "1\n",
      "2\n"
     ]
    },
    {
     "ename": "StopIteration",
     "evalue": "",
     "output_type": "error",
     "traceback": [
      "\u001b[0;31m---------------------------------------------------------------------------\u001b[0m",
      "\u001b[0;31mStopIteration\u001b[0m                             Traceback (most recent call last)",
      "\u001b[1;32m/home/devopslab/github/python/practice.ipynb Cell 85'\u001b[0m in \u001b[0;36m<cell line: 8>\u001b[0;34m()\u001b[0m\n\u001b[1;32m      <a href='vscode-notebook-cell:/home/devopslab/github/python/practice.ipynb#ch0000085?line=5'>6</a>\u001b[0m \u001b[39mprint\u001b[39m(\u001b[39mnext\u001b[39m(f))\n\u001b[1;32m      <a href='vscode-notebook-cell:/home/devopslab/github/python/practice.ipynb#ch0000085?line=6'>7</a>\u001b[0m \u001b[39mprint\u001b[39m(\u001b[39mnext\u001b[39m(f))\n\u001b[0;32m----> <a href='vscode-notebook-cell:/home/devopslab/github/python/practice.ipynb#ch0000085?line=7'>8</a>\u001b[0m \u001b[39mprint\u001b[39m(\u001b[39mnext\u001b[39;49m(f))\n",
      "\u001b[0;31mStopIteration\u001b[0m: "
     ]
    }
   ],
   "source": [
    "def simple_g():\n",
    "    for i in range(3):\n",
    "        yield i\n",
    "f = simple_g()        \n",
    "print(next(f))\n",
    "print(next(f))\n",
    "print(next(f))\n",
    "print(next(f))"
   ]
  },
  {
   "cell_type": "markdown",
   "metadata": {},
   "source": [
    "# Create a generate for cubing a number with yield"
   ]
  },
  {
   "cell_type": "code",
   "execution_count": 173,
   "metadata": {},
   "outputs": [
    {
     "name": "stdout",
     "output_type": "stream",
     "text": [
      "27\n",
      "64\n",
      "125\n",
      "216\n",
      "343\n",
      "512\n",
      "729\n"
     ]
    }
   ],
   "source": [
    "def cube_gen(*n):\n",
    "    for i in n:\n",
    "        yield i ** 3\n",
    "\n",
    "num_cubed = cube_gen(3,4,5,6,7,8,9)\n",
    "for num in num_cubed:\n",
    "    print(num)"
   ]
  },
  {
   "cell_type": "markdown",
   "metadata": {},
   "source": [
    "# Counter function from Collections module"
   ]
  },
  {
   "cell_type": "code",
   "execution_count": 199,
   "metadata": {},
   "outputs": [
    {
     "name": "stdout",
     "output_type": "stream",
     "text": [
      "223\n",
      "1\n"
     ]
    }
   ],
   "source": [
    "from collections import Counter\n",
    "lst = [1,2,2,2,2,3,3,3,1,2,1,12,3,2,32,1,21,1,223,1]\n",
    "l = Counter(lst)\n",
    "a, b = l.popitem()\n",
    "print(a)\n",
    "print(b) \n"
   ]
  },
  {
   "cell_type": "code",
   "execution_count": 411,
   "metadata": {},
   "outputs": [
    {
     "name": "stdout",
     "output_type": "stream",
     "text": [
      "[(1, 2), (2, 0), (2, 3), (4, 1), (5, 4)]\n"
     ]
    },
    {
     "data": {
      "text/plain": [
       "[2, 0, 3]"
      ]
     },
     "execution_count": 411,
     "metadata": {},
     "output_type": "execute_result"
    }
   ],
   "source": [
    "k = 3\n",
    "mat = [[1,1,0,0,0],[1,1,1,1,0],[1,0,0,0,0],[1,1,0,0,0],[1,1,1,1,1]]\n",
    "\n",
    "def solution(mat,k):\n",
    "    result = []\n",
    "\n",
    "    for i,e in enumerate(mat):\n",
    "        val = (sum(e),i)\n",
    "        result.append(val)\n",
    "    result.sort()\n",
    "    print(result)\n",
    "    return [i[1] for i in result[:k]]\n",
    "\n",
    "\n",
    "\n",
    "solution(mat,k)"
   ]
  },
  {
   "cell_type": "code",
   "execution_count": 245,
   "metadata": {},
   "outputs": [
    {
     "data": {
      "text/plain": [
       "[15, 35, 20]"
      ]
     },
     "execution_count": 245,
     "metadata": {},
     "output_type": "execute_result"
    }
   ],
   "source": [
    "a = [[1,2,3,4,5],[9,8,7,6,5],[4,5,6,2,3]]\n",
    "total = []\n",
    "def sum_arr(a):\n",
    "  for i in a: \n",
    "    total.append(sum(i))\n",
    "  return total \n",
    "sum_arr(a)"
   ]
  },
  {
   "cell_type": "code",
   "execution_count": 246,
   "metadata": {},
   "outputs": [
    {
     "name": "stdout",
     "output_type": "stream",
     "text": [
      "The key is k1 and the value is 2\n",
      "The key is k2 and the value is 3\n",
      "The key is k3 and the value is 4\n"
     ]
    }
   ],
   "source": [
    "d = {\"k1\":2, \"k2\":3, \"k3\":4}\n",
    "for k, v in d.items():\n",
    "    print(f\"The key is {k} and the value is {v}\")    "
   ]
  },
  {
   "cell_type": "markdown",
   "metadata": {},
   "source": [
    "### Roman numerals are represented by seven different symbols: I, V, X, L, C, D and M.\n",
    "\n",
    "Symbol       Value\n",
    "I             1\n",
    "V             5\n",
    "X             10\n",
    "L             50\n",
    "C             100\n",
    "D             500\n",
    "M             1000\n",
    "For example, 2 is written as II in Roman numeral, just two one's added together. 12 is written as XII, which is simply X + II. The number 27 is written as XXVII, which is XX + V + II.\n",
    "\n",
    "Roman numerals are usually written largest to smallest from left to right. However, the numeral for four is not IIII. Instead, the number four is written as IV. Because the one is before the five we subtract it making four. The same principle applies to the number nine, which is written as IX. There are six instances where subtraction is used:\n",
    "\n",
    "I can be placed before V (5) and X (10) to make 4 and 9. \n",
    "X can be placed before L (50) and C (100) to make 40 and 90. \n",
    "C can be placed before D (500) and M (1000) to make 400 and 900.\n",
    "Given a roman numeral, convert it to an integer.\n",
    "\n",
    " \n",
    "\n",
    "Example 1:\n",
    "\n",
    "Input: s = \"III\"\n",
    "Output: 3\n",
    "Explanation: III = 3."
   ]
  },
  {
   "cell_type": "code",
   "execution_count": 254,
   "metadata": {},
   "outputs": [
    {
     "data": {
      "text/plain": [
       "3"
      ]
     },
     "execution_count": 254,
     "metadata": {},
     "output_type": "execute_result"
    }
   ],
   "source": [
    "def roman_to_integer(s):\n",
    "    roman = {\"I\":1, \"V\":5, \"X\": 10, \"L\":50, \"C\":100, \"D\": 500, \"M\": 1000}\n",
    "    number = 0 \n",
    "    for i in range(len(s)):\n",
    "        if i +1 < len(s) and roman[s[i]] < roman[s[i+1]]:\n",
    "            number -= roman[s[i]]\n",
    "        else: \n",
    "            number += roman[s[i]]\n",
    "    return number \n",
    "\n",
    "roman_to_integer(\"III\")\n",
    "\n"
   ]
  },
  {
   "cell_type": "markdown",
   "metadata": {},
   "source": [
    "### Given two strings ransomNote and magazine, return true if ransomNote can be constructed from magazine and false otherwise.\n",
    "\n",
    "Each letter in magazine can only be used once in ransomNote.\n",
    "\n",
    " \n",
    "\n",
    "Example 1:\n",
    "\n",
    "Input: ransomNote = \"a\", magazine = \"b\"\n",
    "Output: false\n",
    "Example 2:\n",
    "\n",
    "Input: ransomNote = \"aa\", magazine = \"ab\"\n",
    "Output: false\n",
    "Example 3:\n",
    "\n",
    "Input: ransomNote = \"aa\", magazine = \"aab\"\n",
    "Output: true\n",
    " \n",
    "\n",
    "Constraints:\n",
    "\n",
    "1 <= ransomNote.length, magazine.length <= 105\n",
    "ransomNote and magazine consist of lowercase English letters."
   ]
  },
  {
   "cell_type": "code",
   "execution_count": 339,
   "metadata": {},
   "outputs": [
    {
     "data": {
      "text/plain": [
       "False"
      ]
     },
     "execution_count": 339,
     "metadata": {},
     "output_type": "execute_result"
    }
   ],
   "source": [
    "a = \"aa\"\n",
    "b = \"ab\"\n",
    "from collections import Counter\n",
    "def canConstruct(ransomNote,magazine):\n",
    "    if len(ransomNote) > len(magazine): return False\n",
    "    note,mag = Counter(ransomNote), Counter(magazine)\n",
    "    if note & mag == note: return True\n",
    "    return False\n",
    "canConstruct(a,b)"
   ]
  },
  {
   "cell_type": "code",
   "execution_count": 359,
   "metadata": {},
   "outputs": [
    {
     "name": "stdout",
     "output_type": "stream",
     "text": [
      "Counter({'a': 2})\n",
      "Counter({'a': 1, 'b': 1})\n",
      "Counter({'a': 1})\n",
      "<class 'collections.Counter'>\n"
     ]
    }
   ],
   "source": [
    "from collections import Counter\n",
    "a = \"aa\"\n",
    "b = \"ab\"\n",
    "def canConstruct(ransomNote, magazine):\n",
    "    ran, mag = Counter(ransomNote), Counter(magazine)\n",
    "    d = ran & mag\n",
    "    print(ran)\n",
    "    print(mag)\n",
    "    print(d)\n",
    "    print(type(d))\n",
    "\n",
    "canConstruct(a,b)"
   ]
  },
  {
   "cell_type": "code",
   "execution_count": 358,
   "metadata": {},
   "outputs": [
    {
     "name": "stdout",
     "output_type": "stream",
     "text": [
      "1==>a==>4\n",
      "2==>b==>5\n",
      "3==>c==>6\n"
     ]
    }
   ],
   "source": [
    "alist = [1,2,3]\n",
    "blist = [4,5,6]\n",
    "clist = [\"a\",\"b\",\"c\"]\n",
    "\n",
    "list(zip(alist,clist,blist))\n",
    "\n",
    "for a,b,c in zip(alist,clist,blist):\n",
    "    print(f\"{a}==>{b}==>{c}\")"
   ]
  },
  {
   "cell_type": "code",
   "execution_count": 364,
   "metadata": {},
   "outputs": [
    {
     "data": {
      "text/plain": [
       "[0, 'Odd', 2, 'Odd', 4, 'Odd', 6, 'Odd', 8, 'Odd', 10]"
      ]
     },
     "execution_count": 364,
     "metadata": {},
     "output_type": "execute_result"
    }
   ],
   "source": [
    "if_else_list = [x if x %2 == 0 else \"Odd\" for x in range(0,11)]\n",
    "if_else_list"
   ]
  },
  {
   "cell_type": "code",
   "execution_count": 362,
   "metadata": {},
   "outputs": [
    {
     "data": {
      "text/plain": [
       "[1, 4, 9, 16, 25]"
      ]
     },
     "execution_count": 362,
     "metadata": {},
     "output_type": "execute_result"
    }
   ],
   "source": [
    "square_list = [x ** 2 for x in [1,2,3,4,5] ]\n",
    "square_list"
   ]
  },
  {
   "cell_type": "code",
   "execution_count": 363,
   "metadata": {},
   "outputs": [
    {
     "data": {
      "text/plain": [
       "[0, 1, 2, 3, 4, 5, 6, 7, 8, 9, 10]"
      ]
     },
     "execution_count": 363,
     "metadata": {},
     "output_type": "execute_result"
    }
   ],
   "source": [
    "list_comprehension = [x for x in range(0,11)]\n",
    "list_comprehension"
   ]
  },
  {
   "cell_type": "code",
   "execution_count": 365,
   "metadata": {},
   "outputs": [
    {
     "data": {
      "text/plain": [
       "[10, 100, 1000, 20, 200, 2000, 30, 300, 3000]"
      ]
     },
     "execution_count": 365,
     "metadata": {},
     "output_type": "execute_result"
    }
   ],
   "source": [
    "nested_for_list = [x*y for x in [1,2,3] for y in [10,100,1000]]\n",
    "nested_for_list"
   ]
  },
  {
   "cell_type": "code",
   "execution_count": 393,
   "metadata": {},
   "outputs": [
    {
     "data": {
      "text/plain": [
       "Counter({4: 1, 8: 1})"
      ]
     },
     "execution_count": 393,
     "metadata": {},
     "output_type": "execute_result"
    }
   ],
   "source": [
    "alist = Counter([1,5,3,7])\n",
    "blist = Counter([3,4,5,8])\n",
    "clist = blist - alist\n",
    "dlist = alist + blist\n",
    "clist\n"
   ]
  },
  {
   "cell_type": "code",
   "execution_count": 391,
   "metadata": {},
   "outputs": [
    {
     "name": "stdout",
     "output_type": "stream",
     "text": [
      "1h21m40s\n",
      "1h21m40s\n"
     ]
    }
   ],
   "source": [
    "from datetime import datetime, timedelta\n",
    "def solution(t):\n",
    "  secs = timedelta(seconds = int(t))\n",
    "  d = datetime(1,1,1)+secs\n",
    "  print(\"%dh%dm%ds\"%(d.hour,d.minute,d.second))\n",
    "  print(f\"{d.hour}h{d.minute}m{d.second}s\")\n",
    "solution(4900)\n"
   ]
  },
  {
   "cell_type": "markdown",
   "metadata": {},
   "source": [
    "### Given an integer num, return the number of steps to reduce it to zero.\n",
    "\n",
    "In one step, if the current number is even, you have to divide it by 2, otherwise, you have to subtract 1 from it.\n",
    "\n"
   ]
  },
  {
   "cell_type": "code",
   "execution_count": 407,
   "metadata": {},
   "outputs": [
    {
     "data": {
      "text/plain": [
       "6"
      ]
     },
     "execution_count": 407,
     "metadata": {},
     "output_type": "execute_result"
    }
   ],
   "source": [
    "def numberOfSteps(num):\n",
    "    count = 0 \n",
    "    while num != 0:\n",
    "        if num %2 == 0:\n",
    "            num /=2 \n",
    "        else: \n",
    "            num -= 1 \n",
    "        count += 1\n",
    "    return count \n",
    "\n",
    "numberOfSteps(14)"
   ]
  },
  {
   "cell_type": "code",
   "execution_count": 422,
   "metadata": {},
   "outputs": [
    {
     "data": {
      "text/plain": [
       "[3, 4, 2]"
      ]
     },
     "execution_count": 422,
     "metadata": {},
     "output_type": "execute_result"
    }
   ],
   "source": [
    "l1 = [2,4,3] \n",
    "l2 = [5,6,4]\n",
    "\n",
    "l1.reverse()\n",
    "l1"
   ]
  },
  {
   "cell_type": "code",
   "execution_count": 464,
   "metadata": {},
   "outputs": [
    {
     "data": {
      "text/plain": [
       "[8, 9, 9, 9]"
      ]
     },
     "execution_count": 464,
     "metadata": {},
     "output_type": "execute_result"
    }
   ],
   "source": [
    "l1 = [9,9,9,9,9,9,9]\n",
    "l2 = [9,9,9,9]\n",
    "def addTwoNumbers(l1,l2):\n",
    "    l1.reverse()\n",
    "    l2.reverse()\n",
    "    l3 = list(zip(l1,l2))\n",
    "    #print(l3)\n",
    "    result = []\n",
    "    carry = 0\n",
    "    for a,b in l3:\n",
    "        if carry > 0 and a + b >= 10:\n",
    "            unit_digit = (a + b + carry) % 10 \n",
    "            carry = (a + b + carry) // 10\n",
    "            result.append(unit_digit)\n",
    "        elif a + b >= 10:\n",
    "            unit_digit = (a + b) % 10\n",
    "            carry = (a + b) // 10\n",
    "            result.append(unit_digit)\n",
    "        elif carry > 0:\n",
    "            result.append(a+b+carry)\n",
    "            carry -= carry \n",
    "        else: \n",
    "            result.append(a+b)\n",
    "            \n",
    "    return result \n",
    "\n",
    "addTwoNumbers(l1,l2)"
   ]
  },
  {
   "cell_type": "code",
   "execution_count": 455,
   "metadata": {},
   "outputs": [
    {
     "data": {
      "text/plain": [
       "1.8"
      ]
     },
     "execution_count": 455,
     "metadata": {},
     "output_type": "execute_result"
    }
   ],
   "source": [
    "(9 + 9) // 10"
   ]
  },
  {
   "cell_type": "markdown",
   "metadata": {},
   "source": [
    "### Given a signed 32-bit integer x, return x with its digits reversed. If reversing x causes the value to go outside the signed 32-bit integer range [-231, 231 - 1], then return 0.\n",
    "\n",
    "Assume the environment does not allow you to store 64-bit integers (signed or unsigned).\n",
    "\n",
    " \n",
    "\n",
    "Example 1:\n",
    "\n",
    "Input: x = 123\n",
    "Output: 321"
   ]
  },
  {
   "cell_type": "code",
   "execution_count": 456,
   "metadata": {},
   "outputs": [
    {
     "data": {
      "text/plain": [
       "0"
      ]
     },
     "execution_count": 456,
     "metadata": {},
     "output_type": "execute_result"
    }
   ],
   "source": [
    "def reverse(x):\n",
    "    if x < 0:\n",
    "      x *= -1\n",
    "      s = str(x)[::-1]\n",
    "      i = int(s) * -1\n",
    "      if i < -2**31: return 0\n",
    "      else: return i\n",
    "    else: \n",
    "      s = str(x)[::-1]\n",
    "      i = int(s)\n",
    "      if i > 2**31 -1: return 0\n",
    "      else: return i\n",
    "\n",
    "reverse(1534236469)"
   ]
  },
  {
   "cell_type": "markdown",
   "metadata": {},
   "source": [
    "### Given an integer array nums, find the contiguous subarray (containing at least one number) which has the largest sum and return its sum.\n",
    "\n",
    "A subarray is a contiguous part of an array.\n",
    "\n",
    " \n",
    "\n",
    "Example 1:\n",
    "\n",
    "Input: nums = [-2,1,-3,4,-1,2,1,-5,4]\n",
    "Output: 6\n",
    "Explanation: [4,-1,2,1] has the largest sum = 6.\n",
    "Example 2:\n",
    "\n",
    "Input: nums = [1]\n",
    "Output: 1\n",
    "Example 3:\n",
    "\n",
    "Input: nums = [5,4,-1,7,8]\n",
    "Output: 23"
   ]
  },
  {
   "cell_type": "code",
   "execution_count": 457,
   "metadata": {},
   "outputs": [
    {
     "data": {
      "text/plain": [
       "6"
      ]
     },
     "execution_count": 457,
     "metadata": {},
     "output_type": "execute_result"
    }
   ],
   "source": [
    "nums = [-2,1,-3,4,-1,2,1,-5,4]\n",
    "def maxSubArray(nums):\n",
    "    array_max = 0\n",
    "    for i in range(len(nums)):\n",
    "        current_arr_max = 0\n",
    "        for j in range(i, len(nums)):\n",
    "            current_arr_max += nums[j]\n",
    "            array_max = max(array_max,current_arr_max)\n",
    "    return array_max\n",
    "\n",
    "maxSubArray(nums)"
   ]
  },
  {
   "cell_type": "code",
   "execution_count": 461,
   "metadata": {},
   "outputs": [
    {
     "data": {
      "text/plain": [
       "6"
      ]
     },
     "execution_count": 461,
     "metadata": {},
     "output_type": "execute_result"
    }
   ],
   "source": [
    "def maxSubArray(nums):\n",
    "    result = []\n",
    "    result.append(nums[0])\n",
    "    array_max = result[0]\n",
    "    for i in range(1 , len(nums)):\n",
    "        result.append(max(result[i -1] + nums[i], nums[i]))\n",
    "        if result[i] > array_max:\n",
    "            array_max = result[i]\n",
    "    return array_max\n",
    "\n",
    "maxSubArray(nums)"
   ]
  },
  {
   "cell_type": "code",
   "execution_count": 474,
   "metadata": {},
   "outputs": [
    {
     "name": "stdout",
     "output_type": "stream",
     "text": [
      "a/2\n",
      "b/4\n",
      "c/2\n"
     ]
    }
   ],
   "source": [
    "from collections import Counter\n",
    "s = \"abcabcbb\"\n",
    "t = Counter(s)\n",
    "for k,v in t.items():\n",
    "    print(\"{key}/{val}\".format(key=k,val=v))"
   ]
  },
  {
   "cell_type": "code",
   "execution_count": 493,
   "metadata": {},
   "outputs": [
    {
     "name": "stdout",
     "output_type": "stream",
     "text": [
      "{'g', 'f', 'd', 's'}\n"
     ]
    }
   ],
   "source": [
    "s = \"fdsfdsgs\"\n",
    "c = set()\n",
    "l = 0 \n",
    "for i in range(len(s)):\n",
    "  \n",
    "    c.add(s[i])\n",
    "print(f\"{c}\")\n"
   ]
  },
  {
   "cell_type": "markdown",
   "metadata": {},
   "source": [
    "### Given a string s, find the length of the longest substring without repeating characters.\n",
    "\n",
    " \n",
    "\n",
    "Example 1:\n",
    "\n",
    "Input: s = \"abcabcbb\"\n",
    "Output: 3\n",
    "Explanation: The answer is \"abc\", with the length of 3.\n",
    "Example 2:\n",
    "\n",
    "Input: s = \"bbbbb\"\n",
    "Output: 1\n",
    "Explanation: The answer is \"b\", with the length of 1.\n",
    "Example 3:\n",
    "\n",
    "Input: s = \"pwwkew\"\n",
    "Output: 3\n",
    "Explanation: The answer is \"wke\", with the length of 3.\n",
    "Notice that the answer must be a substring, \"pwke\" is a subsequence and not a substring."
   ]
  },
  {
   "cell_type": "code",
   "execution_count": 495,
   "metadata": {},
   "outputs": [
    {
     "data": {
      "text/plain": [
       "3"
      ]
     },
     "execution_count": 495,
     "metadata": {},
     "output_type": "execute_result"
    }
   ],
   "source": [
    "\"\"\"The sliding window Algorithm\"\"\"\n",
    "s = \"abcabcbb\"\n",
    "def lengthOfLongestSub(s):\n",
    "    c = set()\n",
    "    l = 0\n",
    "    res = 0\n",
    "    for i in range(len(s)):\n",
    "        while s[i] in c:\n",
    "            c.remove(s[l])\n",
    "            l += 1\n",
    "        c.add(s[i])\n",
    "        res = max(res, i - l + 1)\n",
    "    return res \n",
    "\n",
    "lengthOfLongestSub(s)"
   ]
  },
  {
   "cell_type": "code",
   "execution_count": 518,
   "metadata": {},
   "outputs": [
    {
     "name": "stdout",
     "output_type": "stream",
     "text": [
      "0 1\n",
      "1 2\n",
      "2 1\n",
      "3 2\n",
      "4 3\n"
     ]
    }
   ],
   "source": [
    "nums = [1,2,1,2,3] \n",
    "for i,e in enumerate(nums):\n",
    "    print(i,e)"
   ]
  },
  {
   "cell_type": "code",
   "execution_count": 526,
   "metadata": {},
   "outputs": [
    {
     "data": {
      "text/plain": [
       "7"
      ]
     },
     "execution_count": 526,
     "metadata": {},
     "output_type": "execute_result"
    }
   ],
   "source": [
    "from collections import defaultdict\n",
    "nums = [1,2,1,2,3] \n",
    "k = 2\n",
    "\n",
    "def subarrayWithKDistinct(nums, k):\n",
    "    def getMostK(k):\n",
    "        count = defaultdict(int)\n",
    "        left = 0\n",
    "        res = 0\n",
    "        for i,e in enumerate(nums): \n",
    "            count[e] += 1\n",
    "            while len(count) > k:\n",
    "                count[nums[left]] -= 1\n",
    "                if count[nums[left]] == 0:\n",
    "                    del count[nums[left]]\n",
    "                left += 1\n",
    "            res += i - left +1\n",
    "        return res\n",
    "    return getMostK(k) - getMostK(k -1)\n",
    "\n",
    "subarrayWithKDistinct(nums, k)"
   ]
  },
  {
   "cell_type": "code",
   "execution_count": 561,
   "metadata": {},
   "outputs": [
    {
     "name": "stdout",
     "output_type": "stream",
     "text": [
      "3\n",
      "3\n"
     ]
    }
   ],
   "source": [
    "list = [1,1,2,3,3,4,5]\n",
    "val = 3\n",
    "# while val in range(2, 9):\n",
    "#     print(val)\n",
    "#     val += 10\n",
    "# print(\"Done\")\n",
    "\n",
    "for i in list:\n",
    "\n",
    "  while i == val:\n",
    "      print(i) \n",
    "      break\n"
   ]
  },
  {
   "cell_type": "code",
   "execution_count": 539,
   "metadata": {},
   "outputs": [
    {
     "data": {
      "text/plain": [
       "[1, 1, 2, 4, 5, '_']"
      ]
     },
     "execution_count": 539,
     "metadata": {},
     "output_type": "execute_result"
    }
   ],
   "source": [
    "list = [1, 1, 2, 8, 4, 5]\n",
    "list.pop(3)\n",
    "list.append()\n",
    "list\n"
   ]
  },
  {
   "cell_type": "code",
   "execution_count": 593,
   "metadata": {},
   "outputs": [
    {
     "data": {
      "text/plain": [
       "5"
      ]
     },
     "execution_count": 593,
     "metadata": {},
     "output_type": "execute_result"
    }
   ],
   "source": [
    "list = [0,1,2,2,3,0,4,2]\n",
    "val = 2\n",
    "def test(nums, val):\n",
    "  num = 0\n",
    "  for i,e in enumerate(nums):\n",
    "    if e != val:\n",
    "      nums[num] = e\n",
    "      num += 1\n",
    "  return num \n",
    "\n",
    "test(list,val)"
   ]
  },
  {
   "cell_type": "code",
   "execution_count": 605,
   "metadata": {},
   "outputs": [
    {
     "data": {
      "text/plain": [
       "[0, 1, 3, 0, 4, '_', '_', '_']"
      ]
     },
     "execution_count": 605,
     "metadata": {},
     "output_type": "execute_result"
    }
   ],
   "source": [
    "list = [0,1,2,2,3,0,4,2]\n",
    "val = 2\n",
    "while list.__contains__(val):\n",
    "    for i,e in enumerate(list):\n",
    "        if e == val:\n",
    "            list.pop(i)\n",
    "            list.append(\"_\")\n",
    "list \n",
    "    \n",
    "    \n",
    "\n",
    "\n",
    "\n",
    "\n"
   ]
  },
  {
   "cell_type": "code",
   "execution_count": 612,
   "metadata": {},
   "outputs": [
    {
     "name": "stdout",
     "output_type": "stream",
     "text": [
      "{'a': 2}\n",
      "{'a': 3}\n",
      "{'a': 4}\n",
      "{'a': 5}\n",
      "{'a': 6}\n",
      "{'a': 7}\n",
      "{'a': 8}\n",
      "{'a': 9}\n"
     ]
    }
   ],
   "source": [
    "def increment_a(data):\n",
    "    data['a'] += 1\n",
    "    return data['a']\n",
    "\n",
    "x = {'a':1}\n",
    "while increment_a(x) < 10:\n",
    "    print(x)"
   ]
  },
  {
   "cell_type": "markdown",
   "metadata": {},
   "source": [
    "# While loop runs while the condition is true and breaks out of the iteration when the condition evaluates to false. "
   ]
  },
  {
   "cell_type": "code",
   "execution_count": 632,
   "metadata": {},
   "outputs": [
    {
     "name": "stdout",
     "output_type": "stream",
     "text": [
      "The condition is true 0 so the loop is running\n",
      "The condition is true 1 so the loop is running\n",
      "The condition is true 2 so the loop is running\n",
      "The condition is true 3 so the loop is running\n",
      "The condition is true 4 so the loop is running\n",
      "The loop ends because the count is 5 which makes the condition false\n"
     ]
    }
   ],
   "source": [
    "count = 0 \n",
    "\n",
    "while count < 5: \n",
    "    print(f\"The condition is true {count} so the loop is running\")\n",
    "    count +=1\n",
    "else:\n",
    "    print(f\"The loop ends because the count is {count} which makes the condition false\")\n"
   ]
  }
 ],
 "metadata": {
  "interpreter": {
   "hash": "767d51c1340bd893661ea55ea3124f6de3c7a262a8b4abca0554b478b1e2ff90"
  },
  "kernelspec": {
   "display_name": "Python 3.8.3 64-bit",
   "language": "python",
   "name": "python3"
  },
  "language_info": {
   "codemirror_mode": {
    "name": "ipython",
    "version": 3
   },
   "file_extension": ".py",
   "mimetype": "text/x-python",
   "name": "python",
   "nbconvert_exporter": "python",
   "pygments_lexer": "ipython3",
   "version": "3.10.2"
  }
 },
 "nbformat": 4,
 "nbformat_minor": 2
}

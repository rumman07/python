{
 "cells": [
  {
   "cell_type": "code",
   "execution_count": 51,
   "metadata": {},
   "outputs": [],
   "source": [
    "class Dog():\n",
    "\n",
    "    # Class Object Attribute\n",
    "    # Same for any instance of a class\n",
    "    species = \"Mammal\"\n",
    "    \n",
    "    def __init__(self,breed,name,spots):\n",
    "\n",
    "        # User Defined Attributes\n",
    "        # We take in the argument\n",
    "        # Assign it using self.attribute\n",
    "        self.breed = breed\n",
    "        self.name = name\n",
    "\n",
    "        # Expect boolean True/False\n",
    "        self.spots = spots\n",
    "\n",
    "    # Operations/Actions\n",
    "    def bark(self, number):\n",
    "        print(\"WOOF! my name is %s and the number is %d\" %(self.name,number))"
   ]
  },
  {
   "cell_type": "code",
   "execution_count": 52,
   "metadata": {},
   "outputs": [
    {
     "data": {
      "text/plain": [
       "__main__.Dog"
      ]
     },
     "execution_count": 52,
     "metadata": {},
     "output_type": "execute_result"
    }
   ],
   "source": [
    "my_dog = Dog(breed=\"Lab\", name=\"Sammy\", spots=True)\n",
    "your_dog = Dog(breed=\"Huskie\", name=\"Tommy\", spots=False)\n",
    "type(my_dog)\n",
    "type(your_dog)"
   ]
  },
  {
   "cell_type": "code",
   "execution_count": 54,
   "metadata": {},
   "outputs": [
    {
     "name": "stdout",
     "output_type": "stream",
     "text": [
      " Lab \n",
      " Sammy \n",
      " True \n",
      " Mammal \n",
      " Huskie \n",
      " Tommy \n",
      " False \n",
      " Mammal\n"
     ]
    }
   ],
   "source": [
    "print(\"%4s\" %my_dog.breed,'\\n',\n",
    "my_dog.name,'\\n',\n",
    "my_dog.spots,'\\n',\n",
    "my_dog.species,'\\n',\n",
    "your_dog.breed,'\\n',\n",
    "your_dog.name,'\\n',\n",
    "your_dog.spots,\"\\n\",\n",
    "your_dog.species)"
   ]
  },
  {
   "cell_type": "code",
   "execution_count": 55,
   "metadata": {},
   "outputs": [
    {
     "name": "stdout",
     "output_type": "stream",
     "text": [
      "WOOF! my name is Sammy and the number is 10\n",
      "WOOF! my name is Tommy and the number is 15\n"
     ]
    }
   ],
   "source": [
    "my_dog.bark(10)\n",
    "your_dog.bark(15)"
   ]
  }
 ],
 "metadata": {
  "kernelspec": {
   "display_name": "Python 3",
   "language": "python",
   "name": "python3"
  },
  "language_info": {
   "codemirror_mode": {
    "name": "ipython",
    "version": 3
   },
   "file_extension": ".py",
   "mimetype": "text/x-python",
   "name": "python",
   "nbconvert_exporter": "python",
   "pygments_lexer": "ipython3",
   "version": "3.11.5"
  },
  "orig_nbformat": 4
 },
 "nbformat": 4,
 "nbformat_minor": 2
}

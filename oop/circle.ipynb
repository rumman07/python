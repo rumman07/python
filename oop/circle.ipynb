{
 "cells": [
  {
   "cell_type": "code",
   "execution_count": 3,
   "metadata": {},
   "outputs": [],
   "source": [
    "# Defince a Cricle Class\n",
    "class Circle():\n",
    "\n",
    "    # Class Object Attribute\n",
    "    pi = 3.14\n",
    "\n",
    "    # The Constructor\n",
    "    def __init__(self,radius=1):\n",
    "        self.radius = radius\n",
    "        self.area = radius * radius * Circle.pi\n",
    "\n",
    "    # Method\n",
    "    def get_circumference(self):\n",
    "        return self.radius * Circle.pi *2 \n",
    "\n"
   ]
  },
  {
   "cell_type": "code",
   "execution_count": 7,
   "metadata": {},
   "outputs": [
    {
     "name": "stdout",
     "output_type": "stream",
     "text": [
      "30 3.14 2826.0 188.4\n"
     ]
    }
   ],
   "source": [
    "# Create an object of the Circle class\n",
    "first_circle = Circle(30)\n",
    "print(first_circle.radius,\n",
    "first_circle.pi,\n",
    "first_circle.area,\n",
    "first_circle.get_circumference())"
   ]
  }
 ],
 "metadata": {
  "kernelspec": {
   "display_name": "Python 3",
   "language": "python",
   "name": "python3"
  },
  "language_info": {
   "codemirror_mode": {
    "name": "ipython",
    "version": 3
   },
   "file_extension": ".py",
   "mimetype": "text/x-python",
   "name": "python",
   "nbconvert_exporter": "python",
   "pygments_lexer": "ipython3",
   "version": "3.11.5"
  },
  "orig_nbformat": 4
 },
 "nbformat": 4,
 "nbformat_minor": 2
}

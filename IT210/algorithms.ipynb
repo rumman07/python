{
 "cells": [
  {
   "cell_type": "markdown",
   "metadata": {},
   "source": [
    "# Linear search algorithm"
   ]
  },
  {
   "cell_type": "code",
   "execution_count": 1,
   "metadata": {},
   "outputs": [
    {
     "name": "stdout",
     "output_type": "stream",
     "text": [
      "Found at position:  3\n"
     ]
    }
   ],
   "source": [
    "values = [19,12,34,112,115,567]\n",
    "limit = 100\n",
    "pos = 0 \n",
    "found = False \n",
    "\n",
    "while pos < len(values) and not found:\n",
    "    if values[pos] > limit:\n",
    "        found = True\n",
    "    else: \n",
    "        pos += 1\n",
    "if found: \n",
    "    print(\"Found at position: \", pos)\n",
    "else: \n",
    "    print(\"Not found.\")"
   ]
  },
  {
   "cell_type": "code",
   "execution_count": 1,
   "metadata": {},
   "outputs": [
    {
     "name": "stdout",
     "output_type": "stream",
     "text": [
      "Target found at index:  6\n",
      "Target Not found in list\n"
     ]
    }
   ],
   "source": [
    "def linear_search(arr, target):\n",
    "    for i,v in enumerate(arr):\n",
    "        if v == target:\n",
    "            return i\n",
    "    return None\n",
    "\n",
    "def verify(index):\n",
    "    if index is not None:\n",
    "        print(\"Target found at index: \", index)\n",
    "    else: \n",
    "        print(\"Target Not found in list\")\n",
    "\n",
    "numbers = [1,2,3,4,5,6,7,8,9,10]\n",
    "\n",
    "result1 = linear_search(numbers, 7)\n",
    "result2 = linear_search(numbers, 17)\n",
    "verify(result1)\n",
    "verify(result2)\n"
   ]
  },
  {
   "cell_type": "markdown",
   "metadata": {},
   "source": [
    "# Binary Search"
   ]
  },
  {
   "cell_type": "code",
   "execution_count": 6,
   "metadata": {},
   "outputs": [
    {
     "name": "stdout",
     "output_type": "stream",
     "text": [
      "The numbers list is:  [1, 2, 3, 4, 5, 6, 7, 8, 9, 10, 11, 12, 13, 14, 15, 16, 17, 18, 19, 20, 21, 22, 23, 24, 25]\n",
      "Target found at index:  5\n",
      "Target not found in list\n"
     ]
    }
   ],
   "source": [
    "def binary_search(arr, target):\n",
    "\n",
    "    first = 0\n",
    "    last = len(arr) -1\n",
    "\n",
    "    while first <= last: \n",
    "        midpoint = (first + last)//2\n",
    "\n",
    "        if arr[midpoint] == target:\n",
    "            return midpoint\n",
    "        elif arr[midpoint] < target: \n",
    "            first = midpoint +1\n",
    "        else:\n",
    "            last = midpoint -1\n",
    "    return None\n",
    "\n",
    "def verify(index):\n",
    "\n",
    "    if index is not None: \n",
    "        print(\"Target found at index: \", index)\n",
    "    else: \n",
    "        print(\"Target not found in list\")\n",
    "\n",
    "numbers = [n for n in range(1, 26)]\n",
    "print('The numbers list is: ', numbers)\n",
    "\n",
    "result1 = binary_search(numbers, 6)\n",
    "verify(result1)\n",
    "\n",
    "result2 = binary_search(numbers, 86)\n",
    "verify(result2)"
   ]
  },
  {
   "cell_type": "markdown",
   "metadata": {},
   "source": [
    "# Recursion function is the one that calls itself. \n",
    "\n",
    "# Recursive Binary Search"
   ]
  },
  {
   "cell_type": "code",
   "execution_count": 8,
   "metadata": {},
   "outputs": [
    {
     "name": "stdout",
     "output_type": "stream",
     "text": [
      "Target found:  True\n",
      "Target found:  False\n"
     ]
    }
   ],
   "source": [
    "def recursive_binary_search(arr, target):\n",
    "\n",
    "    # Step 1 of a recursive function: The base case \n",
    "    if len(arr) == 0:\n",
    "        return False\n",
    "    else:\n",
    "        midpoint = len(arr)//2\n",
    "\n",
    "        if arr[midpoint] == target:\n",
    "            return True\n",
    "        else:\n",
    "            if arr[midpoint] < target:\n",
    "                       # Step 2 of a recursive function: Call the same function: preceeding the return keyword\n",
    "                                               # Step 3 of a recursive function: change the input to the function\n",
    "                return recursive_binary_search(arr[midpoint+1:], target)\n",
    "            else:\n",
    "                return recursive_binary_search(arr[:midpoint-1], target)\n",
    "            \n",
    "def verify(result):\n",
    "    print(\"Target found: \", result)\n",
    "\n",
    "values = [ u for u in range(1,26)]\n",
    "\n",
    "result = recursive_binary_search(values, 13)\n",
    "verify(result)\n",
    "\n",
    "result = recursive_binary_search(values, 50)\n",
    "verify(result)\n"
   ]
  },
  {
   "cell_type": "markdown",
   "metadata": {},
   "source": [
    "# Recursive function example 2"
   ]
  },
  {
   "cell_type": "code",
   "execution_count": 13,
   "metadata": {},
   "outputs": [
    {
     "name": "stdout",
     "output_type": "stream",
     "text": [
      "The total is:  10\n"
     ]
    }
   ],
   "source": [
    "def sum_values(arr):\n",
    "    # Step 1: Base case\n",
    "    if len(arr) == 1:\n",
    "        return arr[0]\n",
    "    else:\n",
    "                        # Step 2: Calling the same function within the function preceeding the return keyword\n",
    "                                   # Step 3: Changing the value of the input to the function call\n",
    "        return arr[0] + sum_values(arr[1:])\n",
    "    \n",
    "def verify(result):\n",
    "    print(\"The total is: \", result)\n",
    "\n",
    "numbers = [1,2,3,4]\n",
    "\n",
    "result = sum_values(numbers)\n",
    "verify(result)"
   ]
  }
 ],
 "metadata": {
  "kernelspec": {
   "display_name": "Python 3",
   "language": "python",
   "name": "python3"
  },
  "language_info": {
   "codemirror_mode": {
    "name": "ipython",
    "version": 3
   },
   "file_extension": ".py",
   "mimetype": "text/x-python",
   "name": "python",
   "nbconvert_exporter": "python",
   "pygments_lexer": "ipython3",
   "version": "3.11.4"
  },
  "orig_nbformat": 4
 },
 "nbformat": 4,
 "nbformat_minor": 2
}

{
 "metadata": {
  "language_info": {
   "codemirror_mode": {
    "name": "ipython",
    "version": 3
   },
   "file_extension": ".py",
   "mimetype": "text/x-python",
   "name": "python",
   "nbconvert_exporter": "python",
   "pygments_lexer": "ipython3",
   "version": 3
  },
  "orig_nbformat": 2,
  "kernelspec": {
   "name": "python_defaultSpec_1597520036547",
   "display_name": "Python 3.8.5 64-bit"
  }
 },
 "nbformat": 4,
 "nbformat_minor": 2,
 "cells": [
  {
   "cell_type": "markdown",
   "metadata": {},
   "source": [
    "# The map function: Performs the action defined in the function on the list of items passed into the map function"
   ]
  },
  {
   "cell_type": "code",
   "execution_count": 1,
   "metadata": {
    "tags": []
   },
   "outputs": [
    {
     "output_type": "stream",
     "name": "stdout",
     "text": "1\n4\n9\n16\n25\n"
    },
    {
     "output_type": "execute_result",
     "data": {
      "text/plain": "[36, 49, 64, 81]"
     },
     "metadata": {},
     "execution_count": 1
    }
   ],
   "source": [
    "def square(num):\n",
    "    return num ** 2\n",
    "my_nums = [1,2,3,4,5]\n",
    "my_nums2 = [6,7,8,9]\n",
    "for n in map(square,my_nums):\n",
    "    print(n)\n",
    "list(map(square,my_nums2)) "
   ]
  },
  {
   "cell_type": "code",
   "execution_count": 4,
   "metadata": {},
   "outputs": [
    {
     "output_type": "execute_result",
     "data": {
      "text/plain": "['Even', 'E', 'S']"
     },
     "metadata": {},
     "execution_count": 4
    }
   ],
   "source": [
    "def splicer(name):\n",
    "    if len(name)%2 == 0:\n",
    "        return \"Even\"\n",
    "    else:\n",
    "        return name[0]\n",
    "names = ['Andy','Eve','Sally']\n",
    "\n",
    "list(map(splicer,names))"
   ]
  },
  {
   "cell_type": "markdown",
   "metadata": {},
   "source": [
    "# The filter function takes in a function that returns a boolean true or false and a list of items and based on the logic in the function it selects the items from the list "
   ]
  },
  {
   "cell_type": "code",
   "execution_count": 7,
   "metadata": {
    "tags": []
   },
   "outputs": [
    {
     "output_type": "stream",
     "name": "stdout",
     "text": "2\n4\n"
    },
    {
     "output_type": "execute_result",
     "data": {
      "text/plain": "[6, 8]"
     },
     "metadata": {},
     "execution_count": 7
    }
   ],
   "source": [
    "def check_even(num):\n",
    "    return num%2 == 0\n",
    "\n",
    "for n in filter(check_even,my_nums):\n",
    "    print(n)\n",
    "\n",
    "list(filter(check_even,my_nums2))\n"
   ]
  },
  {
   "cell_type": "markdown",
   "metadata": {},
   "source": [
    "# Lambda lets you def a function without a name on the fly and lets you use that anonymous function to perform some action on a given list of items with the map, or filter funtion, or functions that accepts a function as a parameter. "
   ]
  },
  {
   "cell_type": "code",
   "execution_count": 13,
   "metadata": {
    "tags": []
   },
   "outputs": [
    {
     "output_type": "execute_result",
     "data": {
      "text/plain": "[1, 4, 9, 16, 25]"
     },
     "metadata": {},
     "execution_count": 13
    }
   ],
   "source": [
    "list(map(lambda num: num **2,my_nums))"
   ]
  },
  {
   "cell_type": "code",
   "execution_count": 14,
   "metadata": {
    "tags": []
   },
   "outputs": [
    {
     "output_type": "stream",
     "name": "stdout",
     "text": "6\n8\n"
    }
   ],
   "source": [
    "for e in filter(lambda n: n %2 == 0,my_nums2): \n",
    "    print(e)"
   ]
  },
  {
   "cell_type": "code",
   "execution_count": 15,
   "metadata": {},
   "outputs": [
    {
     "output_type": "execute_result",
     "data": {
      "text/plain": "['ydnA', 'evE', 'yllaS']"
     },
     "metadata": {},
     "execution_count": 15
    }
   ],
   "source": [
    "list(map(lambda name: name[::-1],names))"
   ]
  },
  {
   "cell_type": "code",
   "execution_count": null,
   "metadata": {},
   "outputs": [],
   "source": []
  }
 ]
}
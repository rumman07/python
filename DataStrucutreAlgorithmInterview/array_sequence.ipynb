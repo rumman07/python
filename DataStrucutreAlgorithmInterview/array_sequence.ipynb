{
 "cells": [
  {
   "cell_type": "code",
   "execution_count": 1,
   "metadata": {},
   "outputs": [
    {
     "data": {
      "text/plain": [
       "[2, 3, 5, 7, 11, 13, 17, 19, 31]"
      ]
     },
     "execution_count": 1,
     "metadata": {},
     "output_type": "execute_result"
    }
   ],
   "source": [
    "# Extend method adds element of an array at the end of another array, it just adds the reference to the same object\n",
    "# into the new array it dosent create a duplicate object. \n",
    "prime1 = [2,3,5,7,11,13]\n",
    "prime2 = [17,19,31]\n",
    "prime1.extend(prime2)\n",
    "prime1"
   ]
  },
  {
   "cell_type": "code",
   "execution_count": 1,
   "metadata": {},
   "outputs": [
    {
     "data": {
      "text/plain": [
       "True"
      ]
     },
     "execution_count": 1,
     "metadata": {},
     "output_type": "execute_result"
    }
   ],
   "source": [
    "#Anagram Check with Python built-in sorted function \n",
    "\n",
    "def anagram(s1, s2):\n",
    "    s1 = s1.replace(' ', '').lower()\n",
    "    s2 = s2.replace(' ', '').lower()\n",
    "\n",
    "    return sorted(s1) == sorted(s2)\n",
    "\n",
    "anagram('clint eastwood', 'old west action')"
   ]
  },
  {
   "cell_type": "code",
   "execution_count": 3,
   "metadata": {},
   "outputs": [
    {
     "data": {
      "text/plain": [
       "False"
      ]
     },
     "execution_count": 3,
     "metadata": {},
     "output_type": "execute_result"
    }
   ],
   "source": [
    "#Anagram Check with dictionary counting words\n",
    "def anagram2(s1, s2): \n",
    "    s1 = s1.replace(' ', '').lower()\n",
    "    s2 = s2.replace(' ', '').lower()\n",
    "\n",
    "    count = {}\n",
    "\n",
    "    for letter in s1:\n",
    "        if letter in count: \n",
    "            count[letter] += 1\n",
    "        else: \n",
    "            count[letter] = 1\n",
    "\n",
    "    for letter in s2: \n",
    "        if letter in count:\n",
    "            count[letter] -= 1\n",
    "        else: \n",
    "            count[letter] = 1\n",
    "\n",
    "    for k in count:\n",
    "        if count[k] != 0:\n",
    "            return False\n",
    "    return True \n",
    "\n",
    "\n",
    "#anagram2('clint eastwood', 'old west action')\n",
    "anagram2('rat', 'car')"
   ]
  },
  {
   "cell_type": "code",
   "execution_count": 2,
   "metadata": {},
   "outputs": [
    {
     "name": "stdout",
     "output_type": "stream",
     "text": [
      "(1, 3)\n",
      "(2, 2)\n"
     ]
    },
    {
     "data": {
      "text/plain": [
       "2"
      ]
     },
     "execution_count": 2,
     "metadata": {},
     "output_type": "execute_result"
    }
   ],
   "source": [
    "# Array Pair Sum interview problem\n",
    "\n",
    "def pair_sum(arr,k):\n",
    "\n",
    "    if len(arr) < 2:\n",
    "        raise Exception(\"Array needs to have a minimum of 2 elemments\")\n",
    "    \n",
    "    seen = set()\n",
    "    output = set()\n",
    "      \n",
    "    for num in arr:\n",
    "        target = k - num\n",
    "\n",
    "        if target not in seen:\n",
    "            seen.add(num)\n",
    "        else:\n",
    "            output.add((min(target,num), max(target,num)))\n",
    "\n",
    "    print(\"\\n\".join(map(str, list(output))))\n",
    "    return len(output)\n",
    "            \n",
    "\n",
    "pair_sum([1,3,2,2], 4)"
   ]
  },
  {
   "cell_type": "code",
   "execution_count": 123,
   "metadata": {},
   "outputs": [
    {
     "data": {
      "text/plain": [
       "5"
      ]
     },
     "execution_count": 123,
     "metadata": {},
     "output_type": "execute_result"
    }
   ],
   "source": [
    "# Find the missing element: \n",
    "# Approach with python built-in functions\n",
    "\n",
    "def finder(arr1,arr2):\n",
    "    # Sort the arrays \n",
    "    arr1.sort()\n",
    "    arr2.sort()\n",
    "\n",
    "    # Compare elements in the soerted arrays\n",
    "    for num1, num2 in zip(arr1, arr2):\n",
    "        if num1 != num2:\n",
    "            return num1\n",
    "    # Otherwise return last element\n",
    "    return num1[-1]\n",
    "\n",
    "finder([1,2,3,4,5,6,7], [3,7,2,1,4,6])"
   ]
  },
  {
   "cell_type": "code",
   "execution_count": 126,
   "metadata": {},
   "outputs": [
    {
     "name": "stdout",
     "output_type": "stream",
     "text": [
      "6\n",
      "5\n"
     ]
    }
   ],
   "source": [
    "# Find the missing element: \n",
    "# Approach with creating a default dicitionary and keeping a count of the array elements. \n",
    "import collections\n",
    "\n",
    "def finder2(arr1, arr2):\n",
    "\n",
    "    d = collections.defaultdict(int)\n",
    "\n",
    "    for num in arr2:\n",
    "        d[num] += 1\n",
    "\n",
    "    for num in arr1: \n",
    "        if d[num] == 0:\n",
    "            return num \n",
    "        else: \n",
    "           d[num] -= 1\n",
    "\n",
    "print(finder2([1,2,3,4,5,6,7], [3,7,2,1,4,5]))\n",
    "print(finder2([5,5,7,7], [5,7,7]))\n",
    "\n",
    "    "
   ]
  },
  {
   "cell_type": "code",
   "execution_count": 129,
   "metadata": {},
   "outputs": [
    {
     "name": "stdout",
     "output_type": "stream",
     "text": [
      "29\n",
      "5\n"
     ]
    }
   ],
   "source": [
    "# Largest Continuous Sum \n",
    "def large_cont_sum(arr):\n",
    "    if len(arr) == 0:\n",
    "        return \n",
    "    max_sum = current_sum = arr[0]\n",
    "\n",
    "    for num in arr[1:]:\n",
    "        current_sum = max(current_sum + num, num)\n",
    "\n",
    "        max_sum = max(current_sum, max_sum)\n",
    "\n",
    "    return max_sum\n",
    "\n",
    "print(large_cont_sum([1,2,-1,3,4,10,10,-10,-1]))\n",
    "print(large_cont_sum([1,2,-1,3]))"
   ]
  },
  {
   "cell_type": "code",
   "execution_count": 144,
   "metadata": {},
   "outputs": [
    {
     "name": "stdout",
     "output_type": "stream",
     "text": [
      "best the is This\n"
     ]
    }
   ],
   "source": [
    "# Sentence Rerversal\n",
    "# This solution does not account for the spaces in between the words in the sentence\n",
    "def sentence_reversal(sentc):\n",
    "    if len(sentc) == 0:\n",
    "        return\n",
    "    arr = sentc.split(\" \")\n",
    "    arr.reverse()\n",
    "    print(\" \".join(arr))\n",
    "\n",
    "sentence_reversal(\"This is the best\")\n"
   ]
  },
  {
   "cell_type": "code",
   "execution_count": 164,
   "metadata": {},
   "outputs": [
    {
     "data": {
      "text/plain": [
       "'best the is This'"
      ]
     },
     "execution_count": 164,
     "metadata": {},
     "output_type": "execute_result"
    }
   ],
   "source": [
    "# Sentence Reversal\n",
    "# Approach using while loop in succession to mark word start and word ending\n",
    "# This solution accounts for and removes the spaces in between the words in the sentence \n",
    "\n",
    "def rev_word(s):\n",
    "    words = []\n",
    "    length = len(s)\n",
    "    spaces = [' ']\n",
    "    i = 0\n",
    "\n",
    "    while i < length:\n",
    "        if s[i] not in spaces: \n",
    "            word_start = i\n",
    "\n",
    "            while i < length and s[i] not in spaces:\n",
    "                i += 1\n",
    "            words.append(s[word_start:i])\n",
    "        i += 1\n",
    "    return \" \".join(reversed(words))\n",
    "\n",
    "rev_word(\"This is     the best\")"
   ]
  },
  {
   "cell_type": "code",
   "execution_count": 165,
   "metadata": {},
   "outputs": [
    {
     "data": {
      "text/plain": [
       "'best the is This'"
      ]
     },
     "execution_count": 165,
     "metadata": {},
     "output_type": "execute_result"
    }
   ],
   "source": [
    "# Algorith for manually reversing a list\n",
    "arr = [1,2,3,4,5,6]\n",
    "\n",
    "def rev_word(s):\n",
    "    words = []\n",
    "    length = len(s)\n",
    "    spaces = [' ']\n",
    "    i = 0\n",
    "\n",
    "    while i < length:\n",
    "        if s[i] not in spaces: \n",
    "            word_start = i\n",
    "\n",
    "            while i < length and s[i] not in spaces:\n",
    "                i += 1\n",
    "            words.append(s[word_start:i])\n",
    "        i += 1\n",
    "    # return \" \".join(reversed(words))\n",
    "    return rev_arr(words)\n",
    "\n",
    "def rev_arr(arr):\n",
    "    length = len(arr)\n",
    "    i = 0 \n",
    "    rev_arr = []\n",
    "    while i < length: \n",
    "        rev_arr.append(arr[(length -1) -i])\n",
    "        i += 1 \n",
    "    return \" \".join(map(str, rev_arr))\n",
    "    # return rev_arr\n",
    "\n",
    "#rev_arr(arr)\n",
    "rev_word(\"This is     the best\")"
   ]
  },
  {
   "cell_type": "code",
   "execution_count": 174,
   "metadata": {},
   "outputs": [
    {
     "data": {
      "text/plain": [
       "'A4B5a3'"
      ]
     },
     "execution_count": 174,
     "metadata": {},
     "output_type": "execute_result"
    }
   ],
   "source": [
    "# String Compression: \n",
    "from collections import defaultdict\n",
    "def string_comp(s):\n",
    "    res = ''\n",
    "    d = defaultdict(int)\n",
    "    for letter in s:\n",
    "        d[letter] += 1\n",
    "\n",
    "    for k,v in d.items():\n",
    "        res += f\"{k}{v}\"\n",
    "    return res\n",
    "string_comp(\"AAAABBBBBaaa\")\n",
    "    "
   ]
  },
  {
   "cell_type": "code",
   "execution_count": 179,
   "metadata": {},
   "outputs": [
    {
     "data": {
      "text/plain": [
       "'A2B1'"
      ]
     },
     "execution_count": 179,
     "metadata": {},
     "output_type": "execute_result"
    }
   ],
   "source": [
    "# String Compression \n",
    "# Approach Run Length Compression Algorithm\n",
    "\n",
    "def compress(s):\n",
    "    r = \"\"\n",
    "    l = len(s)\n",
    "    count = 1\n",
    "    \n",
    "    if len(s) == 0: \n",
    "        return \"\"\n",
    "    if len(s) == 1:\n",
    "        return s + \"1\"\n",
    "    last = s[0]\n",
    "    i = 1\n",
    "\n",
    "    while i < l:\n",
    "        if s[i] == s[i - 1]:\n",
    "            count += 1\n",
    "        else:\n",
    "            r = r + s[i -1] + str(count)\n",
    "            count = 1\n",
    "        i += 1\n",
    "    r = r + s[i -1] + str(count)\n",
    "    return r\n",
    "\n",
    "compress(\"AAB\")"
   ]
  },
  {
   "cell_type": "code",
   "execution_count": 201,
   "metadata": {},
   "outputs": [
    {
     "name": "stdout",
     "output_type": "stream",
     "text": [
      "True\n",
      "False\n"
     ]
    }
   ],
   "source": [
    "# Unique Characters in String \n",
    "# Approach using while loop and basic dictionary \n",
    "def uni_char(s):\n",
    "    if len(s) == 0: \n",
    "        return \n",
    "    \n",
    "    l = len(s)\n",
    "    i = 0\n",
    "    j = 0\n",
    "    d = {}\n",
    "    while i < l:\n",
    "        if s[i] in d:\n",
    "            d[s[i]] += 1\n",
    "        else:\n",
    "            d[s[i]] = 1\n",
    "        i += 1\n",
    "     \n",
    "    while j < len(d):\n",
    "        if d[s[j]] > 1:\n",
    "            return False\n",
    "        j += 1\n",
    "    return True\n",
    "\n",
    "print(uni_char('abcde'))\n",
    "print(uni_char('aabcde'))"
   ]
  },
  {
   "cell_type": "code",
   "execution_count": 208,
   "metadata": {},
   "outputs": [
    {
     "name": "stdout",
     "output_type": "stream",
     "text": [
      "True\n",
      "False\n"
     ]
    }
   ],
   "source": [
    "# Unique Characters in String \n",
    "# Approach using for loop and default dictionary \n",
    "\n",
    "from collections import defaultdict\n",
    "\n",
    "def uni_char2(s):\n",
    "    if len(s) == 0: \n",
    "        return \n",
    "    \n",
    "    d = defaultdict(int)\n",
    "\n",
    "    for letter in s:\n",
    "        d[letter] += 1\n",
    "\n",
    "    for val in d.values():\n",
    "        if val > 1:\n",
    "            return False\n",
    "    return True\n",
    "\n",
    "print(uni_char2('abcde'))\n",
    "print(uni_char2('aabcde'))"
   ]
  },
  {
   "cell_type": "code",
   "execution_count": 209,
   "metadata": {},
   "outputs": [
    {
     "name": "stdout",
     "output_type": "stream",
     "text": [
      "True\n",
      "False\n"
     ]
    }
   ],
   "source": [
    "# Unique Characters in String \n",
    "# Approach using python built in method and set data type\n",
    "# Python one liner solution\n",
    "\n",
    "def uni_char3(s):\n",
    "    return (len(set(s)) == len(s))\n",
    "\n",
    "print(uni_char3('abcde'))\n",
    "print(uni_char3('aabcde'))"
   ]
  },
  {
   "cell_type": "code",
   "execution_count": 210,
   "metadata": {},
   "outputs": [
    {
     "name": "stdout",
     "output_type": "stream",
     "text": [
      "True\n",
      "False\n"
     ]
    }
   ],
   "source": [
    "# Unique Characters in String \n",
    "# Approach using for loop and set data structure\n",
    "\n",
    "def uni_char4(s):\n",
    "    if len(s) == 0:\n",
    "        return \n",
    "    \n",
    "    chars = set()\n",
    "\n",
    "    for letter in s: \n",
    "        if letter in chars:\n",
    "            return False\n",
    "        else: \n",
    "            chars.add(letter)\n",
    "    return True\n",
    "\n",
    "print(uni_char4('abcde'))\n",
    "print(uni_char4('aabcde'))"
   ]
  },
  {
   "cell_type": "code",
   "execution_count": 211,
   "metadata": {},
   "outputs": [
    {
     "data": {
      "text/plain": [
       "[-4, -1, -1, 0, 1, 2]"
      ]
     },
     "execution_count": 211,
     "metadata": {},
     "output_type": "execute_result"
    }
   ],
   "source": [
    "arr = [-1,0,1,2,-1,-4]\n",
    "arr.sort()\n",
    "\n",
    "arr"
   ]
  },
  {
   "cell_type": "markdown",
   "metadata": {},
   "source": [
    "# Example 1: Given an array of positive integers nums and an integer k, find the length of the longest subarray whose sum is less than or equal to k. This is the problem we have been talking about above. We will now formally solve it.\n",
    "\n",
    "Let's look at an example where nums = [3, 1, 2, 7, 4, 2, 1, 1, 5] and k = 8."
   ]
  },
  {
   "cell_type": "code",
   "execution_count": 214,
   "metadata": {},
   "outputs": [
    {
     "data": {
      "text/plain": [
       "4"
      ]
     },
     "execution_count": 214,
     "metadata": {},
     "output_type": "execute_result"
    }
   ],
   "source": [
    "# Sliding window ALgorithm \n",
    "\n",
    "def sub_array_length(arr, num):\n",
    "    left = curr = ans = 0\n",
    "\n",
    "    for right in range(len(arr)):\n",
    "        curr += arr[right]\n",
    "\n",
    "        while curr > num:\n",
    "            curr -= arr[left]\n",
    "            left += 1\n",
    "        ans = max(ans, right - left +1)\n",
    "    return ans\n",
    "\n",
    "nums = [3, 1, 2, 7, 4, 2, 1, 1, 5]\n",
    "k = 8\n",
    "sub_array_length(nums, k)"
   ]
  }
 ],
 "metadata": {
  "kernelspec": {
   "display_name": "Python 3",
   "language": "python",
   "name": "python3"
  },
  "language_info": {
   "codemirror_mode": {
    "name": "ipython",
    "version": 3
   },
   "file_extension": ".py",
   "mimetype": "text/x-python",
   "name": "python",
   "nbconvert_exporter": "python",
   "pygments_lexer": "ipython3",
   "version": "3.11.5"
  },
  "orig_nbformat": 4
 },
 "nbformat": 4,
 "nbformat_minor": 2
}

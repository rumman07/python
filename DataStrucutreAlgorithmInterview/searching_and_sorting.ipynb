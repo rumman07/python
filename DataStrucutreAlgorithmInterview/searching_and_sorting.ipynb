{
 "cells": [
  {
   "cell_type": "markdown",
   "metadata": {},
   "source": [
    "# Sequential Search Unordered List"
   ]
  },
  {
   "cell_type": "code",
   "execution_count": 1,
   "metadata": {},
   "outputs": [
    {
     "name": "stdout",
     "output_type": "stream",
     "text": [
      "False\n",
      "True\n",
      "True\n"
     ]
    }
   ],
   "source": [
    "def seq_search(arr, ele):\n",
    "\n",
    "    pos = 0\n",
    "    found = False\n",
    "\n",
    "    while pos < len(arr) and not found:\n",
    "\n",
    "        if arr[pos] == ele:\n",
    "            found = True \n",
    "        else:\n",
    "            pos += 1\n",
    "    return found\n",
    "\n",
    "\n",
    "###################\n",
    "arr = [1,2,3,4,5]\n",
    "print(seq_search(arr, 6))\n",
    "print(seq_search(arr, 1))\n",
    "print(seq_search(arr, 5))\n",
    "\n"
   ]
  },
  {
   "cell_type": "markdown",
   "metadata": {},
   "source": [
    "# Sequential Search Ordered List"
   ]
  },
  {
   "cell_type": "code",
   "execution_count": 2,
   "metadata": {},
   "outputs": [
    {
     "name": "stdout",
     "output_type": "stream",
     "text": [
      "True\n",
      "True\n",
      "False\n"
     ]
    }
   ],
   "source": [
    "def ordered_seq_search(arr,ele):\n",
    "    '''\n",
    "    The input array must be ordered!\n",
    "    '''\n",
    "\n",
    "    pos = 0\n",
    "    found = False \n",
    "    stopped = False\n",
    "\n",
    "    while pos < len(arr) and not found and not stopped: \n",
    "\n",
    "        if arr[pos] == ele:\n",
    "            found = True\n",
    "        else:\n",
    "            if arr[pos] > ele:\n",
    "                stopped = True\n",
    "            else:\n",
    "                pos += 1\n",
    "    return found\n",
    "\n",
    "\n",
    "#########################\n",
    "arr = [1,2,3,4,5,6,7,8,9,10,11,12]\n",
    "print(ordered_seq_search(arr, 6))\n",
    "print(ordered_seq_search(arr, 1))\n",
    "print(ordered_seq_search(arr, 15))\n"
   ]
  },
  {
   "cell_type": "markdown",
   "metadata": {},
   "source": [
    "# Binary Search Iterative Approach "
   ]
  },
  {
   "cell_type": "code",
   "execution_count": 3,
   "metadata": {},
   "outputs": [
    {
     "name": "stdout",
     "output_type": "stream",
     "text": [
      "False\n",
      "True\n",
      "True\n"
     ]
    }
   ],
   "source": [
    "def bin_search(arr, ele):\n",
    "    '''\n",
    "    The input array must be sorted!\n",
    "    '''\n",
    "\n",
    "    first = 0\n",
    "    last = len(arr) - 1\n",
    "    found = False\n",
    "\n",
    "    while first <= last and not found:\n",
    "\n",
    "        mid = (first + last) // 2\n",
    "\n",
    "        if arr[mid] == ele:\n",
    "            found = True\n",
    "        else:\n",
    "            if arr[mid] > ele:\n",
    "                last = mid -1 \n",
    "            else:\n",
    "                first = mid +1 \n",
    "    return found\n",
    "\n",
    "\n",
    "######\n",
    "arr = [1,2,3,4,5,6,7,8,9,10]\n",
    "\n",
    "print(bin_search(arr,13))\n",
    "print(bin_search(arr,9))\n",
    "print(bin_search(arr,1))"
   ]
  },
  {
   "cell_type": "markdown",
   "metadata": {},
   "source": [
    "# Binary Search Recursive Aproach "
   ]
  },
  {
   "cell_type": "code",
   "execution_count": 5,
   "metadata": {},
   "outputs": [
    {
     "name": "stdout",
     "output_type": "stream",
     "text": [
      "False\n",
      "True\n",
      "True\n"
     ]
    }
   ],
   "source": [
    "def rec_bin_search(arr,ele):\n",
    "    '''\n",
    "    The input array must be sorted! \n",
    "    '''\n",
    "\n",
    "    if len(arr) == 0: \n",
    "        return False\n",
    "    else:\n",
    "        mid = len(arr)  // 2\n",
    "\n",
    "        if arr[mid] == ele:\n",
    "            return True \n",
    "        else:\n",
    "            if arr[mid] > ele:\n",
    "                return rec_bin_search(arr[:mid],ele)\n",
    "            else:\n",
    "                return rec_bin_search(arr[mid + 1:],ele)\n",
    "\n",
    "##################\n",
    "arr = [1,2,3,4,5,6,7,8,9,10]\n",
    "\n",
    "print(rec_bin_search(arr,13))\n",
    "print(rec_bin_search(arr,9))\n",
    "print(rec_bin_search(arr,1))\n",
    "   \n"
   ]
  },
  {
   "cell_type": "markdown",
   "metadata": {},
   "source": [
    "# Print a list backwards"
   ]
  },
  {
   "cell_type": "code",
   "execution_count": 9,
   "metadata": {},
   "outputs": [
    {
     "name": "stdout",
     "output_type": "stream",
     "text": [
      "d\n",
      "c\n",
      "b\n",
      "a\n"
     ]
    }
   ],
   "source": [
    "arr = ['a','b','c','d']\n",
    "\n",
    "for i in range(len(arr) -1, -1, -1):\n",
    "    print(arr[i])"
   ]
  },
  {
   "cell_type": "markdown",
   "metadata": {},
   "source": [
    "# Bubble Sort Implementation "
   ]
  },
  {
   "cell_type": "code",
   "execution_count": 17,
   "metadata": {},
   "outputs": [
    {
     "data": {
      "text/plain": [
       "[1, 2, 6, 7, 9, 54]"
      ]
     },
     "execution_count": 17,
     "metadata": {},
     "output_type": "execute_result"
    }
   ],
   "source": [
    "def bubble_sort(arr):\n",
    "    swapped = True\n",
    "\n",
    "    while swapped:\n",
    "        swapped = False\n",
    "        for i in range(len(arr) -1):\n",
    "            if arr[i] > arr[i +1]:\n",
    "                # Swap adjacent element\n",
    "                arr[i], arr[i +1] = arr[i +1], arr[i]\n",
    "                swapped = True\n",
    "\n",
    "arr = [54,7,6,9,2,1]\n",
    "bubble_sort(arr)\n",
    "arr\n"
   ]
  },
  {
   "cell_type": "markdown",
   "metadata": {},
   "source": [
    "# Selection Sort Implementation"
   ]
  },
  {
   "cell_type": "code",
   "execution_count": 19,
   "metadata": {},
   "outputs": [
    {
     "data": {
      "text/plain": [
       "[1, 4, 5, 7, 8]"
      ]
     },
     "execution_count": 19,
     "metadata": {},
     "output_type": "execute_result"
    }
   ],
   "source": [
    "def selection_sort(arr):\n",
    "    sorted_list = []\n",
    "    for i in range(len(arr)):\n",
    "        index_to_move = index_of_min(arr)\n",
    "        sorted_list.append(arr.pop(index_to_move))\n",
    "    return sorted_list\n",
    "\n",
    "\n",
    "def index_of_min(arr):\n",
    "    min_index = 0 \n",
    "    for i in range(1,len(arr)):\n",
    "        if arr[i] < arr[min_index]:\n",
    "            min_index = i\n",
    "    return min_index\n",
    "\n",
    "\n",
    "#########\n",
    "arr = [8,5,1,4,7]\n",
    "selection_sort(arr)"
   ]
  },
  {
   "cell_type": "markdown",
   "metadata": {},
   "source": [
    "# Insertion sort Implementation\n",
    "### n- 1 passes to sort n items"
   ]
  },
  {
   "cell_type": "code",
   "execution_count": 28,
   "metadata": {},
   "outputs": [
    {
     "data": {
      "text/plain": [
       "[1, 2, 3, 4, 5, 6, 8, 12, 25, 41]"
      ]
     },
     "execution_count": 28,
     "metadata": {},
     "output_type": "execute_result"
    }
   ],
   "source": [
    "def insertion_sort(arr):\n",
    "    for i in range(1, len(arr)):\n",
    "        curr_val = arr[i]\n",
    "        pos = i \n",
    "        while pos > 0 and arr[pos -1] > curr_val:\n",
    "          arr[pos] = arr[pos -1]\n",
    "          pos = pos - 1\n",
    "        arr[pos] = curr_val\n",
    "\n",
    "arr = [3,5,4,6,8,1,2,12,41,25]\n",
    "insertion_sort(arr)\n",
    "arr"
   ]
  },
  {
   "cell_type": "markdown",
   "metadata": {},
   "source": [
    "# Merge Sort Implementation:"
   ]
  },
  {
   "cell_type": "code",
   "execution_count": 34,
   "metadata": {},
   "outputs": [
    {
     "data": {
      "text/plain": [
       "[1, 2, 3, 4, 5, 6, 8, 12, 25, 41]"
      ]
     },
     "execution_count": 34,
     "metadata": {},
     "output_type": "execute_result"
    }
   ],
   "source": [
    "def merge_sort(arr):\n",
    "\n",
    "    if len(arr) > 1: \n",
    "        mid = len(arr) // 2\n",
    "        left_half = arr[:mid]\n",
    "        right_half = arr[mid:]\n",
    "        merge_sort(left_half)\n",
    "        merge_sort(right_half)\n",
    "\n",
    "        i = j = k = 0\n",
    "\n",
    "        while i < len(left_half) and j < len(right_half):\n",
    "            if left_half[i] < right_half[j]:\n",
    "                arr[k] = left_half[i]\n",
    "                i += 1\n",
    "            else:\n",
    "                arr[k] = right_half[j]\n",
    "                j += 1\n",
    "            k += 1\n",
    "        \n",
    "        while i < len(left_half):\n",
    "            arr[k] = left_half[i]\n",
    "            i += 1\n",
    "            k += 1\n",
    "\n",
    "        while j < len(right_half):\n",
    "            arr[k] = right_half[j]\n",
    "            j += 1\n",
    "            k += 1\n",
    "\n",
    "\n",
    "arr = [3,5,4,6,8,1,2,12,41,25]\n",
    "merge_sort(arr)\n",
    "arr\n"
   ]
  },
  {
   "cell_type": "markdown",
   "metadata": {},
   "source": [
    "# Quicksort\n",
    "### Quicksort works by picking a pivot value then splitting the full list into two sublist the first sublist has all the values less then or equal to the pivot and the second sublist has all the values greater than the pivot. The Quicksort function recursively calls itself to sort these sublist and then sort the sublist of those sublist until the full list is sorted. "
   ]
  },
  {
   "cell_type": "code",
   "execution_count": 37,
   "metadata": {},
   "outputs": [
    {
     "data": {
      "text/plain": [
       "[1, 2, 3, 4, 5, 6, 8, 12, 41, 52]"
      ]
     },
     "execution_count": 37,
     "metadata": {},
     "output_type": "execute_result"
    }
   ],
   "source": [
    "\"\"\"\n",
    "Quicksort implementation by picking the first item in the list as the pivot \n",
    "\"\"\"\n",
    "def quick_sort(arr):\n",
    "    if len(arr) <= 1:\n",
    "        return arr\n",
    "\n",
    "    less_than_pivot = []\n",
    "    greater_than_pivot = []\n",
    "    pivot = arr[0]\n",
    "\n",
    "    for ele in arr[1:]:\n",
    "        if ele <= pivot:\n",
    "            less_than_pivot.append(ele)\n",
    "        else:\n",
    "            greater_than_pivot.append(ele)\n",
    "    return quick_sort(less_than_pivot) + pivot + quick_sort(greater_than_pivot)      \n",
    "\n",
    "###############################################\n",
    "arr = [3,5,4,6,8,1,2,12,41,52]\n",
    "merge_sort(arr)\n",
    "arr"
   ]
  },
  {
   "cell_type": "code",
   "execution_count": 57,
   "metadata": {},
   "outputs": [
    {
     "data": {
      "text/plain": [
       "[1, 2, 3, 4, 4, 5, 6, 7, 11, 12]"
      ]
     },
     "execution_count": 57,
     "metadata": {},
     "output_type": "execute_result"
    }
   ],
   "source": [
    "\"\"\"\n",
    "Quicksort picking a semi sorted pivot value implementation\n",
    "\"\"\"\n",
    "\n",
    "def quick_sort(arr):\n",
    "    quick_sort_help(arr,0,len(arr)-1)\n",
    "\n",
    "def quick_sort_help(arr,first,last):\n",
    "    \n",
    "    if first < last: \n",
    "        split_point = partition(arr,first,last)\n",
    "        quick_sort_help(arr, first, split_point -1)\n",
    "        quick_sort_help(arr, split_point + 1, last)\n",
    "\n",
    "def partition(arr, first, last):\n",
    "    pivot_val = arr[first]\n",
    "\n",
    "    left_mark = first + 1\n",
    "    right_mark = last\n",
    "\n",
    "    done = False\n",
    "\n",
    "    while not done:\n",
    "\n",
    "        while left_mark <= right_mark and arr[left_mark] <= pivot_val:\n",
    "            left_mark += 1\n",
    "        \n",
    "        while arr[right_mark] >= pivot_val and right_mark >= left_mark:\n",
    "            right_mark -= 1\n",
    "\n",
    "        if right_mark < left_mark: \n",
    "            done = True\n",
    "        else:\n",
    "            temp = arr[left_mark]\n",
    "            arr[left_mark] = arr[right_mark]\n",
    "            arr[right_mark] = temp \n",
    "\n",
    "    temp = arr[first]\n",
    "    arr[first] = arr[right_mark]\n",
    "    arr[right_mark] = temp\n",
    "\n",
    "    return right_mark\n",
    "\n",
    "\n",
    "#########################################\n",
    "arr = [2,5,4,6,7,3,1,4,12,11]\n",
    "quick_sort(arr)\n",
    "arr\n",
    "\n"
   ]
  }
 ],
 "metadata": {
  "kernelspec": {
   "display_name": "Python 3",
   "language": "python",
   "name": "python3"
  },
  "language_info": {
   "codemirror_mode": {
    "name": "ipython",
    "version": 3
   },
   "file_extension": ".py",
   "mimetype": "text/x-python",
   "name": "python",
   "nbconvert_exporter": "python",
   "pygments_lexer": "ipython3",
   "version": "3.11.4"
  },
  "orig_nbformat": 4
 },
 "nbformat": 4,
 "nbformat_minor": 2
}

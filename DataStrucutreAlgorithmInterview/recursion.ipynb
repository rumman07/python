{
 "cells": [
  {
   "cell_type": "markdown",
   "metadata": {},
   "source": [
    "# Recursive function to reverse a string"
   ]
  },
  {
   "cell_type": "code",
   "execution_count": 18,
   "metadata": {},
   "outputs": [
    {
     "data": {
      "text/plain": [
       "'nammuR'"
      ]
     },
     "execution_count": 18,
     "metadata": {},
     "output_type": "execute_result"
    }
   ],
   "source": [
    "def recursive_reverse(s):\n",
    "    if len(s) == 1:\n",
    "        return s\n",
    "    else: \n",
    "        return recursive_reverse(s[1:]) + s[0]\n",
    "    \n",
    "recursive_reverse(\"Rumman\")"
   ]
  },
  {
   "cell_type": "markdown",
   "metadata": {},
   "source": [
    "# Recursive function to calculate factorial "
   ]
  },
  {
   "cell_type": "code",
   "execution_count": 1,
   "metadata": {},
   "outputs": [
    {
     "data": {
      "text/plain": [
       "720"
      ]
     },
     "execution_count": 1,
     "metadata": {},
     "output_type": "execute_result"
    }
   ],
   "source": [
    "def rec_fact(n):\n",
    "    if n <= 1: \n",
    "        return n\n",
    "    else: \n",
    "        return n * rec_fact(n -1)\n",
    "\n",
    "rec_fact(6)"
   ]
  },
  {
   "cell_type": "markdown",
   "metadata": {},
   "source": [
    "# Recursive function to calculate cumulative sum of a number n"
   ]
  },
  {
   "cell_type": "code",
   "execution_count": 2,
   "metadata": {},
   "outputs": [
    {
     "data": {
      "text/plain": [
       "10"
      ]
     },
     "execution_count": 2,
     "metadata": {},
     "output_type": "execute_result"
    }
   ],
   "source": [
    "def rec_sum(n):\n",
    "    if n == 1:\n",
    "        return n \n",
    "    else:\n",
    "        return n + rec_sum(n - 1)\n",
    "    \n",
    "rec_sum(4)\n"
   ]
  },
  {
   "cell_type": "markdown",
   "metadata": {},
   "source": [
    "# Recursive function to calculate the sum of all the indivdual digits in an interger n"
   ]
  },
  {
   "cell_type": "code",
   "execution_count": 8,
   "metadata": {},
   "outputs": [
    {
     "data": {
      "text/plain": [
       "10"
      ]
     },
     "execution_count": 8,
     "metadata": {},
     "output_type": "execute_result"
    }
   ],
   "source": [
    "def sum_digits(n):\n",
    "    if len(str(n)) == 1:\n",
    "        return n\n",
    "    else:\n",
    "        return n % 10 + sum_digits(n // 10)\n",
    "    \n",
    "sum_digits(4321)"
   ]
  },
  {
   "cell_type": "markdown",
   "metadata": {},
   "source": [
    "Create a function called word_split() which takes in a string phrase and a set list_of_words. The function will then determine if it is possible to split the string in a way in which words can be made from the list of words. You can assume the phrase will only contain words found in the dictionary if it is completely splittable."
   ]
  },
  {
   "cell_type": "code",
   "execution_count": 29,
   "metadata": {},
   "outputs": [
    {
     "name": "stdout",
     "output_type": "stream",
     "text": [
      "['the', 'man', 'ran'] \n",
      " ['i', 'love', 'dogs', 'John'] \n",
      " []\n"
     ]
    }
   ],
   "source": [
    "def word_split(phrase, word_list, output = None):\n",
    "\n",
    "    if output is None:\n",
    "        output = []\n",
    "    \n",
    "    for word in word_list:\n",
    "        if phrase.startswith(word):\n",
    "            output.append(word)\n",
    "            return word_split(phrase[len(word):], word_list, output)\n",
    "    return output\n",
    "\n",
    "print(word_split(\"themanran\",[\"the\",\"ran\",\"man\"]),'\\n',\n",
    "      word_split('ilovedogsJohn',['i','am','a','dogs','lover','love','John']),'\\n',\n",
    "      word_split('themanran',['clown','ran','man']))\n",
    "\n"
   ]
  },
  {
   "cell_type": "code",
   "execution_count": 37,
   "metadata": {},
   "outputs": [
    {
     "data": {
      "text/plain": [
       "[[0, 0, -2, 2]]"
      ]
     },
     "execution_count": 37,
     "metadata": {},
     "output_type": "execute_result"
    }
   ],
   "source": [
    "def sol(arr, target):\n",
    "    res = []\n",
    "\n",
    "    for i in range(len(arr)):\n",
    "        for j in range(i +1, len(arr) -1):\n",
    "            \n",
    "            if arr[i] + arr[j] + arr[j+1] + arr[len(arr) -1] == target:\n",
    "                res.append([arr[i],arr[j],arr[j +1],arr[j+2]])\n",
    "    return res \n",
    "\n",
    "nums = [1,0,-1,0,-2,2]\n",
    "target = 0\n",
    "sol(nums, target)"
   ]
  },
  {
   "cell_type": "code",
   "execution_count": 17,
   "metadata": {},
   "outputs": [
    {
     "data": {
      "text/plain": [
       "4"
      ]
     },
     "execution_count": 17,
     "metadata": {},
     "output_type": "execute_result"
    }
   ],
   "source": [
    "def searchInsert(nums, target):\n",
    "\n",
    "    for i,n in enumerate(nums):\n",
    "        if n == target:\n",
    "            return int(i) \n",
    "        elif n > target:\n",
    "            return int(i) \n",
    "        \n",
    "nums = [1,3,5,6,8]\n",
    "target = 7\n",
    "searchInsert(nums, target)"
   ]
  }
 ],
 "metadata": {
  "kernelspec": {
   "display_name": "Python 3",
   "language": "python",
   "name": "python3"
  },
  "language_info": {
   "codemirror_mode": {
    "name": "ipython",
    "version": 3
   },
   "file_extension": ".py",
   "mimetype": "text/x-python",
   "name": "python",
   "nbconvert_exporter": "python",
   "pygments_lexer": "ipython3",
   "version": "3.11.5"
  },
  "orig_nbformat": 4
 },
 "nbformat": 4,
 "nbformat_minor": 2
}

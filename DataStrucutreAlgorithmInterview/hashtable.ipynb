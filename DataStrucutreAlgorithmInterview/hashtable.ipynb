{
 "cells": [
  {
   "cell_type": "markdown",
   "metadata": {},
   "source": [
    "# Implementation of hashtable"
   ]
  },
  {
   "cell_type": "code",
   "execution_count": 2,
   "metadata": {},
   "outputs": [],
   "source": [
    "class HashTable(object):\n",
    "\n",
    "    def __init__(self,size):\n",
    "\n",
    "        # Set size, slots, and data\n",
    "        self.size = size\n",
    "        self.slots = [None] * self.size\n",
    "        self.data = [None] * self.size\n",
    "\n",
    "    def put(self, key, data):\n",
    "\n",
    "        # Get the has value\n",
    "        hash_value = self.hashFunction(key, len(self.slots))\n",
    "\n",
    "        # If slot is empty\n",
    "        if self.slots[hash_value] == None:\n",
    "            self.slots[hash_value] = key\n",
    "            self.data[hash_value] = data\n",
    "        else:\n",
    "          # If key already exists replace old value\n",
    "          if self.slots[hash_value] == key:\n",
    "              self.data[hash_value] = data\n",
    "            \n",
    "          # Otherwise find the next available slot\n",
    "          else:\n",
    "              next_slot = self.rehash(hash_value,len(self.slots))\n",
    "            \n",
    "              # Get to the next slot\n",
    "              while self.slots[next_slot] != None and self.slots[next_slot] != key:\n",
    "                  next_slot = self.rehash(next_slot,len(self.slots))\n",
    "\n",
    "              # Set new key if None\n",
    "              if self.slots[next_slot] == None:\n",
    "                  self.slots[next_slot] = key\n",
    "                  self.data[next_slot] = data\n",
    "\n",
    "              # Otherwise replace old value\n",
    "              else: \n",
    "                  self.data[next_slot] = data\n",
    "    \n",
    "    def hashFunction(self, key, size):\n",
    "        # Reaminder method\n",
    "        return key % size\n",
    "\n",
    "    def rehash(self, oldhash, size):\n",
    "        # For finding next possible position\n",
    "        return (oldhash + 1) % size\n",
    "    \n",
    "    def get(self, key):\n",
    "        # Getting items given a key\n",
    "        # Set up variables for search\n",
    "        start_slot = self.hashFunction(key,len(self.slots))\n",
    "        data = None\n",
    "        stop = False \n",
    "        found = False \n",
    "        position = start_slot\n",
    "\n",
    "        # Until we discern that its not empty or found (and haven't stopped yet)\n",
    "        while self.slots[position] != None and not found and not stop:\n",
    "            if self.slots[position] == key:\n",
    "                found = True\n",
    "                data = self.data[position]\n",
    "            else:\n",
    "                position = self.rehash(position,len(self.slots))\n",
    "                if position == start_slot:\n",
    "                    stop = True\n",
    "        return data\n",
    "    \n",
    "    # Special methods for use with Python indexing\n",
    "    def __getitem__(self, key):\n",
    "        return self.get(key)\n",
    "    \n",
    "    def __setitem__(self, key, data):\n",
    "        self.put(key, data)"
   ]
  },
  {
   "cell_type": "code",
   "execution_count": 3,
   "metadata": {},
   "outputs": [
    {
     "name": "stdout",
     "output_type": "stream",
     "text": [
      "one three two\n"
     ]
    }
   ],
   "source": [
    "# Test the hashtable\n",
    "h = HashTable(5)\n",
    "h[1] = \"one\"\n",
    "h[2] = \"two\"\n",
    "h[3] = \"three\" \n",
    "\n",
    "print(h[1], h[3], h[2])"
   ]
  }
 ],
 "metadata": {
  "kernelspec": {
   "display_name": "Python 3",
   "language": "python",
   "name": "python3"
  },
  "language_info": {
   "codemirror_mode": {
    "name": "ipython",
    "version": 3
   },
   "file_extension": ".py",
   "mimetype": "text/x-python",
   "name": "python",
   "nbconvert_exporter": "python",
   "pygments_lexer": "ipython3",
   "version": "3.11.4"
  },
  "orig_nbformat": 4
 },
 "nbformat": 4,
 "nbformat_minor": 2
}

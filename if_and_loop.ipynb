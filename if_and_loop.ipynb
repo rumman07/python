{
 "cells": [
  {
   "cell_type": "markdown",
   "metadata": {},
   "source": [
    "## break, continue, pass\n",
    "We can use break, continue, and pass statements in out loops to add additional functionality for various cases. The three statements are defined by:\n",
    "* break : Breaks out of the current enclosing loop. \n",
    "* continue : Goes to the top of the closet enclosing loop. \n",
    "* pass : Does nothing at all"
   ]
  },
  {
   "cell_type": "code",
   "execution_count": 4,
   "metadata": {
    "tags": []
   },
   "outputs": [
    {
     "output_type": "stream",
     "name": "stdout",
     "text": "1\n2\n3\n4\n5\n6\n7\n8\n9\n"
    }
   ],
   "source": [
    "# Tupal unpacking\n",
    "my_list = [(1,2,3),(4,5,6),(7,8,9)]\n",
    "\n",
    "for a,b,c in my_list:\n",
    "  print(a)\n",
    "  print(b)\n",
    "  print(c)"
   ]
  },
  {
   "cell_type": "code",
   "execution_count": 9,
   "metadata": {
    "tags": []
   },
   "outputs": [
    {
     "output_type": "stream",
     "name": "stdout",
     "text": "key1\nkey2\nkey3\nkey1val1\nkey2val2\nkey3val3\nval1\nval2\nval3\n"
    }
   ],
   "source": [
    "# Iterating over a dictionary\n",
    "my_dic = {'key1':'val1','key2':'val2','key3':'val3'}\n",
    "\n",
    "# Printing just he keys\n",
    "for keys in my_dic:\n",
    "  print(keys)\n",
    "\n",
    "# Printing the items in the dictionary\n",
    "for key,value in my_dic.items():\n",
    "  print(key + value) \n",
    "\n",
    "# Printing just the values\n",
    "for value in my_dic.values():\n",
    "  print(value)"
   ]
  },
  {
   "cell_type": "code",
   "execution_count": 1,
   "metadata": {
    "tags": []
   },
   "outputs": [
    {
     "output_type": "stream",
     "name": "stdout",
     "text": "(0, 'H')\n(1, 'e')\n(2, 'l')\n(3, 'l')\n(4, 'o')\n"
    }
   ],
   "source": [
    "# Enumerator\n",
    "for i in enumerate(\"Hello\"): \n",
    "  print(i)"
   ]
  },
  {
   "cell_type": "code",
   "execution_count": 7,
   "metadata": {
    "tags": []
   },
   "outputs": [
    {
     "output_type": "stream",
     "name": "stdout",
     "text": "1-a-True\n2-b-False\n3-c-None\n"
    }
   ],
   "source": [
    "# zip function\n",
    "list1 = [1,2,3]\n",
    "list2 = ['a','b','c']\n",
    "list3 = [True,False,None]\n",
    "for a,b,c in zip(list1,list2,list3):\n",
    "  print(f\"{a}-{b}-{c}\")"
   ]
  },
  {
   "cell_type": "code",
   "execution_count": 14,
   "metadata": {},
   "outputs": [
    {
     "output_type": "execute_result",
     "data": {
      "text/plain": "True"
     },
     "metadata": {},
     "execution_count": 14
    }
   ],
   "source": [
    "d = {'mykey':345}\n",
    "'mykey' in d\n",
    "345 in d.values()"
   ]
  },
  {
   "cell_type": "code",
   "execution_count": 15,
   "metadata": {},
   "outputs": [
    {
     "output_type": "execute_result",
     "data": {
      "text/plain": "[0, 4, 16, 36, 64, 100]"
     },
     "metadata": {},
     "execution_count": 15
    }
   ],
   "source": [
    "# List Comprehension\n",
    "e_num_list = [num**2 for num in range(0,11) if num%2 == 0]\n",
    "e_num_list "
   ]
  },
  {
   "cell_type": "code",
   "execution_count": 17,
   "metadata": {},
   "outputs": [
    {
     "output_type": "execute_result",
     "data": {
      "text/plain": "[32.0, 50.0, 68.0, 94.1]"
     },
     "metadata": {},
     "execution_count": 17
    }
   ],
   "source": [
    "# List Comprehension Breakdown\n",
    "celcius = [0,10,20,34.5]\n",
    "fahrenheit = []\n",
    "for temp in celcius: \n",
    "  fahrenheit.append((9/5)*temp + 32)\n",
    "fahrenheit"
   ]
  },
  {
   "cell_type": "code",
   "execution_count": 18,
   "metadata": {},
   "outputs": [
    {
     "output_type": "execute_result",
     "data": {
      "text/plain": "[32.0, 50.0, 68.0, 94.1]"
     },
     "metadata": {},
     "execution_count": 18
    }
   ],
   "source": [
    "# List Comprehension flattened version\n",
    "fahrenheit = [((9/5)*temp + 32) for temp in celcius]\n",
    "fahrenheit"
   ]
  },
  {
   "cell_type": "markdown",
   "metadata": {},
   "source": [
    "# How to use if and else statement inside list comprehension\n"
   ]
  },
  {
   "cell_type": "code",
   "execution_count": 29,
   "metadata": {},
   "outputs": [
    {
     "output_type": "execute_result",
     "data": {
      "text/plain": "[0, 'Odd', 2, 'Odd', 4, 'Odd', 6, 'Odd', 8, 'Odd', 10]"
     },
     "metadata": {},
     "execution_count": 29
    }
   ],
   "source": [
    "results = [x if x%2==0 else \"Odd\" for x in range(0,11)]\n",
    "results"
   ]
  },
  {
   "cell_type": "markdown",
   "metadata": {},
   "source": [
    "# Nested for loop in list comprehension"
   ]
  },
  {
   "cell_type": "code",
   "execution_count": 30,
   "metadata": {},
   "outputs": [
    {
     "output_type": "execute_result",
     "data": {
      "text/plain": "[2, 20, 2000, 4, 40, 4000, 6, 60, 6000]"
     },
     "metadata": {},
     "execution_count": 30
    }
   ],
   "source": [
    "mylist1 = []\n",
    "\n",
    "for x in [2,4,6]:\n",
    "  for y in [1,10,1000]:\n",
    "    mylist1.append(x*y)\n",
    "mylist1"
   ]
  },
  {
   "cell_type": "code",
   "execution_count": 31,
   "metadata": {},
   "outputs": [
    {
     "output_type": "execute_result",
     "data": {
      "text/plain": "[2, 20, 2000, 4, 40, 4000, 6, 60, 6000]"
     },
     "metadata": {},
     "execution_count": 31
    }
   ],
   "source": [
    "# Usinge list comprehension one liner\n",
    "mylist2 = [x*y for x in [2,4,6] for y in [1,10,1000]]\n",
    "mylist2"
   ]
  },
  {
   "cell_type": "code",
   "execution_count": 4,
   "metadata": {},
   "outputs": [
    {
     "output_type": "execute_result",
     "data": {
      "text/plain": "[0, 1, 2, 3, 4, 5, 6, 7, 8, 9, 10]"
     },
     "metadata": {},
     "execution_count": 4
    }
   ],
   "source": [
    "# Generating a list with range\n",
    "auto_list = list(range(0,11))\n",
    "auto_list"
   ]
  },
  {
   "cell_type": "code",
   "execution_count": 21,
   "metadata": {},
   "outputs": [
    {
     "output_type": "execute_result",
     "data": {
      "text/plain": "[0, 1, 2, 3, 4, 5, 6, 7, 8, 9, 10]"
     },
     "metadata": {},
     "execution_count": 21
    }
   ],
   "source": [
    "auto_list2 = [x for x in range(0,11)]\n",
    "auto_list2"
   ]
  },
  {
   "cell_type": "code",
   "execution_count": 8,
   "metadata": {},
   "outputs": [
    {
     "output_type": "execute_result",
     "data": {
      "text/plain": "[8, 4, 5, 7, 2, 3, 9, 6, 0, 1, 10]"
     },
     "metadata": {},
     "execution_count": 8
    }
   ],
   "source": [
    "from random import shuffle\n",
    "shuffle(auto_list)\n",
    "auto_list"
   ]
  },
  {
   "cell_type": "code",
   "execution_count": 9,
   "metadata": {},
   "outputs": [
    {
     "output_type": "execute_result",
     "data": {
      "text/plain": "64"
     },
     "metadata": {},
     "execution_count": 9
    }
   ],
   "source": [
    "from random import randint\n",
    "randint(0,100)"
   ]
  },
  {
   "cell_type": "code",
   "execution_count": 18,
   "metadata": {},
   "outputs": [
    {
     "output_type": "execute_result",
     "data": {
      "text/plain": "20"
     },
     "metadata": {},
     "execution_count": 18
    }
   ],
   "source": [
    "number_entered = int(input(\"Enter a number: \"))\n",
    "number_entered"
   ]
  },
  {
   "cell_type": "code",
   "execution_count": null,
   "metadata": {},
   "outputs": [],
   "source": []
  }
 ],
 "metadata": {
  "language_info": {
   "codemirror_mode": {
    "name": "ipython",
    "version": 3
   },
   "file_extension": ".py",
   "mimetype": "text/x-python",
   "name": "python",
   "nbconvert_exporter": "python",
   "pygments_lexer": "ipython3",
   "version": "3.8.3-final"
  },
  "orig_nbformat": 2,
  "kernelspec": {
   "name": "python38364bite863b03a75b64aeeaf455b1b23b07826",
   "display_name": "Python 3.8.3 64-bit"
  }
 },
 "nbformat": 4,
 "nbformat_minor": 2
}